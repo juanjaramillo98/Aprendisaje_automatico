{
 "cells": [
  {
   "cell_type": "markdown",
   "metadata": {
    "id": "xPE390jhviuN"
   },
   "source": [
    "# Introducción"
   ]
  },
  {
   "cell_type": "markdown",
   "metadata": {
    "id": "m0u1U7iisuPQ"
   },
   "source": [
    "## Autores\n",
    "\n",
    "Juan Pablo Jaramillo Tobon CC 1216727112\n",
    "\n",
    "Daniel Alejandro Higuita Usuga CC 1152706601"
   ]
  },
  {
   "cell_type": "markdown",
   "metadata": {
    "id": "7Ohr6QSBuUR5"
   },
   "source": [
    "## Dataset\n",
    "\n",
    "El conjunto de datos de polaridad de reseñas de Amazon se construye tomando las puntuaciones de reseñas 1 y 2 como negativas, y 4 y 5 como positivas. Se ignoran las muestras de puntuación 3. En el conjunto de datos, la clase 1 es negativa y la clase 2 es positiva.\n",
    "\n",
    "Los CSV contienen polaridad, título y texto. Estas 3 columnas en ellos corresponden al índice de clase (1 o 2), título de la reseña y texto de la reseña.\n",
    "\n",
    " * Polaridad: 1 para negativo y 2 para positivo.\n",
    " * título - título de reseña\n",
    " * texto - cuerpo de reseña\n",
    "\n",
    "https://www.kaggle.com/datasets/sohaibanwaar1203/taxidemandfarepredictiondataset"
   ]
  },
  {
   "cell_type": "markdown",
   "metadata": {
    "id": "D9rpAuPHu0Rs"
   },
   "source": [
    "## Objetivo\n",
    "\n",
    "Creación de un modelo entrenado a partir de reseñas en inglés de Amazon que permita la clasificacón de reseñas de productos"
   ]
  },
  {
   "cell_type": "markdown",
   "metadata": {},
   "source": [
    "# Dependencias"
   ]
  },
  {
   "cell_type": "markdown",
   "metadata": {},
   "source": [
    "## Environment Variables"
   ]
  },
  {
   "cell_type": "code",
   "execution_count": 6,
   "metadata": {},
   "outputs": [],
   "source": [
    "# Carga de env variables \n",
    "# ==============================================================================\n",
    "import yaml\n",
    "with open('config.yaml') as f:\n",
    "    env_vars = yaml.safe_load(f)"
   ]
  },
  {
   "cell_type": "markdown",
   "metadata": {
    "id": "ArgBnAShvLhq"
   },
   "source": [
    "## Instalación de Dependencias"
   ]
  },
  {
   "cell_type": "code",
   "execution_count": 7,
   "metadata": {},
   "outputs": [],
   "source": [
    "if env_vars['install_dependencies']:\n",
    "    %pip install -r requirements.txt"
   ]
  },
  {
   "cell_type": "markdown",
   "metadata": {
    "id": "MZBdr3QevuLi"
   },
   "source": [
    "## Librerias"
   ]
  },
  {
   "cell_type": "code",
   "execution_count": 10,
   "metadata": {
    "colab": {
     "background_save": true,
     "base_uri": "https://localhost:8080/"
    },
    "executionInfo": {
     "elapsed": 3488,
     "status": "ok",
     "timestamp": 1714185578831,
     "user": {
      "displayName": "Juan Pablo Jaramillo",
      "userId": "00033109649246090021"
     },
     "user_tz": 300
    },
    "id": "8cFfQZgWq8IT"
   },
   "outputs": [
    {
     "name": "stderr",
     "output_type": "stream",
     "text": [
      "[nltk_data] Downloading package stopwords to\n",
      "[nltk_data]     /home/estudiantelis/nltk_data...\n",
      "[nltk_data]   Package stopwords is already up-to-date!\n",
      "[nltk_data] Downloading package punkt to\n",
      "[nltk_data]     /home/estudiantelis/nltk_data...\n",
      "[nltk_data]   Package punkt is already up-to-date!\n"
     ]
    }
   ],
   "source": [
    "# Tratamiento de datos\n",
    "# ==============================================================================\n",
    "import pandas as pd\n",
    "import numpy as np\n",
    "import re\n",
    "import string\n",
    "\n",
    "# Gráficos\n",
    "# ==============================================================================\n",
    "import matplotlib.pyplot as plt\n",
    "from matplotlib import style\n",
    "import seaborn as sns\n",
    "\n",
    "\n",
    "# Preprocesado y modelado\n",
    "# ==============================================================================\n",
    "import nltk\n",
    "from string import punctuation\n",
    "from nltk.corpus import stopwords\n",
    "from nltk.stem import SnowballStemmer\n",
    "from nltk.tokenize import word_tokenize\n",
    "from functools import reduce\n",
    "\n",
    "nltk.download('stopwords')\n",
    "nltk.download('punkt')\n",
    "\n",
    "\n",
    "from sklearn.feature_extraction.text import TfidfVectorizer\n",
    "\n",
    "from sklearn.model_selection import cross_val_score\n",
    "from sklearn.model_selection import train_test_split\n",
    "from sklearn.model_selection import ParameterGrid\n",
    "\n",
    "from sklearn.linear_model import LogisticRegression\n",
    "from sklearn.ensemble import RandomForestClassifier\n",
    "from sklearn.naive_bayes import MultinomialNB\n",
    "from sklearn.svm import LinearSVC\n",
    "from sklearn.neighbors import KNeighborsClassifier\n",
    "from sklearn.ensemble import GradientBoostingClassifier\n",
    "from sklearn.metrics import classification_report, confusion_matrix, ConfusionMatrixDisplay\n",
    "\n",
    "\n",
    "from sklearn.metrics import confusion_matrix\n",
    "\n",
    "# Configuración matplotlib\n",
    "# ==============================================================================\n",
    "plt.rcParams['image.cmap'] = \"bwr\"\n",
    "plt.rcParams['savefig.bbox'] = \"tight\"\n",
    "style.use('ggplot') or plt.style.use('ggplot')\n",
    "\n",
    "# Configuración warnings\n",
    "# ==============================================================================\n",
    "import warnings\n",
    "warnings.filterwarnings('ignore')\n",
    "\n",
    "# Funciones de utilidad\n",
    "# ==============================================================================\n",
    "from utils import *\n",
    "from funciones import *"
   ]
  },
  {
   "cell_type": "markdown",
   "metadata": {},
   "source": [
    "# Datos"
   ]
  },
  {
   "cell_type": "markdown",
   "metadata": {
    "id": "3mf71Fdkrno6"
   },
   "source": [
    "## Datasets"
   ]
  },
  {
   "cell_type": "code",
   "execution_count": 4,
   "metadata": {},
   "outputs": [],
   "source": [
    "test = pd.read_csv('data/test.csv',names = [\"clasificacion\",\"titulo\",\"reseña\"])\n",
    "train = pd.read_csv('data/train.csv',names = [\"clasificacion\",\"titulo\",\"reseña\"])\n",
    "df = pd.concat([test,train],ignore_index=True)\n",
    "del test ,train"
   ]
  },
  {
   "cell_type": "markdown",
   "metadata": {
    "id": "jABxhhYKwCda"
   },
   "source": [
    "## Preparacion de Datos"
   ]
  },
  {
   "cell_type": "markdown",
   "metadata": {},
   "source": [
    "### Eliminación de Columnas innecesarias"
   ]
  },
  {
   "cell_type": "code",
   "execution_count": 5,
   "metadata": {
    "executionInfo": {
     "elapsed": 11,
     "status": "ok",
     "timestamp": 1714185586619,
     "user": {
      "displayName": "Juan Pablo Jaramillo",
      "userId": "00033109649246090021"
     },
     "user_tz": 300
    },
    "id": "Q0tXy1dEsZox"
   },
   "outputs": [],
   "source": [
    "df.drop(columns=['titulo'],inplace=True)"
   ]
  },
  {
   "cell_type": "markdown",
   "metadata": {},
   "source": [
    "### Revisión de Duplicados"
   ]
  },
  {
   "cell_type": "code",
   "execution_count": 6,
   "metadata": {},
   "outputs": [
    {
     "data": {
      "text/html": [
       "<div>\n",
       "<style scoped>\n",
       "    .dataframe tbody tr th:only-of-type {\n",
       "        vertical-align: middle;\n",
       "    }\n",
       "\n",
       "    .dataframe tbody tr th {\n",
       "        vertical-align: top;\n",
       "    }\n",
       "\n",
       "    .dataframe thead th {\n",
       "        text-align: right;\n",
       "    }\n",
       "</style>\n",
       "<table border=\"1\" class=\"dataframe\">\n",
       "  <thead>\n",
       "    <tr style=\"text-align: right;\">\n",
       "      <th></th>\n",
       "      <th>clasificacion</th>\n",
       "      <th>reseña</th>\n",
       "    </tr>\n",
       "  </thead>\n",
       "  <tbody>\n",
       "    <tr>\n",
       "      <th>3105</th>\n",
       "      <td>1</td>\n",
       "      <td>Rather pretentious comedy featuring Mel Gibson...</td>\n",
       "    </tr>\n",
       "    <tr>\n",
       "      <th>3406</th>\n",
       "      <td>2</td>\n",
       "      <td>This review relates to the Heritage 1944 editi...</td>\n",
       "    </tr>\n",
       "    <tr>\n",
       "      <th>5998</th>\n",
       "      <td>1</td>\n",
       "      <td>Radius Technology DVDs ID as \"OPTODISC\" brand ...</td>\n",
       "    </tr>\n",
       "    <tr>\n",
       "      <th>20621</th>\n",
       "      <td>1</td>\n",
       "      <td>Buena Vista (the company that releases Disney ...</td>\n",
       "    </tr>\n",
       "    <tr>\n",
       "      <th>47558</th>\n",
       "      <td>1</td>\n",
       "      <td>Maybe this show appeals to some people, but to...</td>\n",
       "    </tr>\n",
       "    <tr>\n",
       "      <th>...</th>\n",
       "      <td>...</td>\n",
       "      <td>...</td>\n",
       "    </tr>\n",
       "    <tr>\n",
       "      <th>3996762</th>\n",
       "      <td>2</td>\n",
       "      <td>Bought for my husband for Xmas he has always w...</td>\n",
       "    </tr>\n",
       "    <tr>\n",
       "      <th>3997561</th>\n",
       "      <td>1</td>\n",
       "      <td>Have had this toaster for about 18 months, so ...</td>\n",
       "    </tr>\n",
       "    <tr>\n",
       "      <th>3997849</th>\n",
       "      <td>1</td>\n",
       "      <td>This item was given as a gift. We loved it whe...</td>\n",
       "    </tr>\n",
       "    <tr>\n",
       "      <th>3999028</th>\n",
       "      <td>1</td>\n",
       "      <td>No,no no. This is a bad idea. the pick does no...</td>\n",
       "    </tr>\n",
       "    <tr>\n",
       "      <th>3999948</th>\n",
       "      <td>2</td>\n",
       "      <td>it was great to watch again, I remember watchi...</td>\n",
       "    </tr>\n",
       "  </tbody>\n",
       "</table>\n",
       "<p>6225 rows × 2 columns</p>\n",
       "</div>"
      ],
      "text/plain": [
       "         clasificacion                                             reseña\n",
       "3105                 1  Rather pretentious comedy featuring Mel Gibson...\n",
       "3406                 2  This review relates to the Heritage 1944 editi...\n",
       "5998                 1  Radius Technology DVDs ID as \"OPTODISC\" brand ...\n",
       "20621                1  Buena Vista (the company that releases Disney ...\n",
       "47558                1  Maybe this show appeals to some people, but to...\n",
       "...                ...                                                ...\n",
       "3996762              2  Bought for my husband for Xmas he has always w...\n",
       "3997561              1  Have had this toaster for about 18 months, so ...\n",
       "3997849              1  This item was given as a gift. We loved it whe...\n",
       "3999028              1  No,no no. This is a bad idea. the pick does no...\n",
       "3999948              2  it was great to watch again, I remember watchi...\n",
       "\n",
       "[6225 rows x 2 columns]"
      ]
     },
     "execution_count": 6,
     "metadata": {},
     "output_type": "execute_result"
    }
   ],
   "source": [
    "df.loc[df.duplicated()]"
   ]
  },
  {
   "cell_type": "markdown",
   "metadata": {},
   "source": [
    "### Eliminación de Duplicados"
   ]
  },
  {
   "cell_type": "code",
   "execution_count": 7,
   "metadata": {},
   "outputs": [],
   "source": [
    "df = df.drop_duplicates()"
   ]
  },
  {
   "cell_type": "markdown",
   "metadata": {},
   "source": [
    "### Información del Dataset"
   ]
  },
  {
   "cell_type": "code",
   "execution_count": 8,
   "metadata": {
    "colab": {
     "base_uri": "https://localhost:8080/"
    },
    "executionInfo": {
     "elapsed": 389,
     "status": "ok",
     "timestamp": 1714185587000,
     "user": {
      "displayName": "Juan Pablo Jaramillo",
      "userId": "00033109649246090021"
     },
     "user_tz": 300
    },
    "id": "ZOc5jjOewX63",
    "outputId": "9017839b-182f-4b40-8c72-f35ac25ce9e2"
   },
   "outputs": [
    {
     "name": "stdout",
     "output_type": "stream",
     "text": [
      "<class 'pandas.core.frame.DataFrame'>\n",
      "Index: 3993775 entries, 0 to 3999999\n",
      "Data columns (total 2 columns):\n",
      " #   Column         Dtype \n",
      "---  ------         ----- \n",
      " 0   clasificacion  int64 \n",
      " 1   reseña         object\n",
      "dtypes: int64(1), object(1)\n",
      "memory usage: 91.4+ MB\n"
     ]
    }
   ],
   "source": [
    "df.info()"
   ]
  },
  {
   "cell_type": "code",
   "execution_count": 10,
   "metadata": {
    "colab": {
     "base_uri": "https://localhost:8080/",
     "height": 143
    },
    "executionInfo": {
     "elapsed": 15,
     "status": "ok",
     "timestamp": 1714185590817,
     "user": {
      "displayName": "Juan Pablo Jaramillo",
      "userId": "00033109649246090021"
     },
     "user_tz": 300
    },
    "id": "gBWZ7KAkxbqV",
    "outputId": "24fcfe6f-8ce1-451c-9da8-7886ccc04013"
   },
   "outputs": [
    {
     "data": {
      "text/html": [
       "<div>\n",
       "<style scoped>\n",
       "    .dataframe tbody tr th:only-of-type {\n",
       "        vertical-align: middle;\n",
       "    }\n",
       "\n",
       "    .dataframe tbody tr th {\n",
       "        vertical-align: top;\n",
       "    }\n",
       "\n",
       "    .dataframe thead th {\n",
       "        text-align: right;\n",
       "    }\n",
       "</style>\n",
       "<table border=\"1\" class=\"dataframe\">\n",
       "  <thead>\n",
       "    <tr style=\"text-align: right;\">\n",
       "      <th></th>\n",
       "      <th>reseña</th>\n",
       "    </tr>\n",
       "    <tr>\n",
       "      <th>clasificacion</th>\n",
       "      <th></th>\n",
       "    </tr>\n",
       "  </thead>\n",
       "  <tbody>\n",
       "    <tr>\n",
       "      <th>1</th>\n",
       "      <td>1995426</td>\n",
       "    </tr>\n",
       "    <tr>\n",
       "      <th>2</th>\n",
       "      <td>1998349</td>\n",
       "    </tr>\n",
       "  </tbody>\n",
       "</table>\n",
       "</div>"
      ],
      "text/plain": [
       "                reseña\n",
       "clasificacion         \n",
       "1              1995426\n",
       "2              1998349"
      ]
     },
     "execution_count": 10,
     "metadata": {},
     "output_type": "execute_result"
    }
   ],
   "source": [
    "df.groupby('clasificacion').count()"
   ]
  },
  {
   "cell_type": "markdown",
   "metadata": {
    "id": "lUW2ySZfx77F"
   },
   "source": [
    "## Preprocesamiento de Texto "
   ]
  },
  {
   "cell_type": "code",
   "execution_count": 13,
   "metadata": {
    "executionInfo": {
     "elapsed": 403,
     "status": "ok",
     "timestamp": 1714185591209,
     "user": {
      "displayName": "Juan Pablo Jaramillo",
      "userId": "00033109649246090021"
     },
     "user_tz": 300
    },
    "id": "6_ARKUPbAT1N"
   },
   "outputs": [],
   "source": [
    "def pre_process(text):\n",
    "    \"\"\"\n",
    "    Funcion para tratar textos en ingles,\n",
    "    se remueven caracteres especiales, números, html links y tags  \n",
    "    \"\"\"\n",
    "    text = str(text)\n",
    "    text = text.lower()\n",
    "    text = re.sub(r'\\d+', '', text)\n",
    "    text = re.sub('\\[.*?\\]', '', text) #removes HTML tags\n",
    "    text = re.sub('https?://\\S+|www\\.\\S+', '', text) #removes url\n",
    "    text = re.sub('[%s]' % re.escape(string.punctuation),'',text) #removes punctuations\n",
    "    text = re.sub(r'[^\\w\\s]\\d+', '', text)\n",
    "    return text\n",
    "\n",
    "def tokenize(text):\n",
    "    \"\"\"\n",
    "    Funcion para tokenizar un texto dado\n",
    "    \"\"\"\n",
    "    return word_tokenize(text)\n",
    "\n",
    "def stem(tokens):\n",
    "    \"\"\"\n",
    "    Funcion para aplicar el stem a una lista de tokens dada\n",
    "    \"\"\"\n",
    "    stemmer = SnowballStemmer('english')\n",
    "    return str(reduce(lambda x, y: x + \" \" + stemmer.stem(y), tokens, \"\"))\n",
    "\n",
    "def process(text):\n",
    "    \"\"\"\n",
    "    Funcion para aplicar pre-procesamiento y stem a un texto dado\n",
    "    \"\"\"\n",
    "    return stem(tokenize(pre_process(text)))"
   ]
  },
  {
   "cell_type": "markdown",
   "metadata": {},
   "source": [
    "## Creación de Bolsa de Palabras"
   ]
  },
  {
   "cell_type": "code",
   "execution_count": 12,
   "metadata": {},
   "outputs": [],
   "source": [
    "if not env_vars['df_exist']:\n",
    "    # Aplicando procesamiento de texto\n",
    "    df['reseña'] = df['reseña'].swifter.apply(pre_process)\n",
    "    df['reseña'] = df['reseña'].swifter.apply(tokenize)\n",
    "    df['reseña'] = df['reseña'].swifter.apply(stem)\n",
    "    df.to_csv('data/AmazonPreprocessed.csv', index=False)\n",
    "else:\n",
    "    df = pd.read_csv('data/AmazonPreprocessed.csv')\n",
    "if env_vars['minimize_dataset']:\n",
    "    particion = (100-50)/100\n",
    "    X_train, X_test, y_train, y_test = train_test_split(df['reseña'],df['clasificacion'], test_size=particion, random_state=42)\n",
    "    df = pd.concat([y_train, X_train], axis=1)\n",
    "    del X_train, X_test, y_train, y_test "
   ]
  },
  {
   "cell_type": "code",
   "execution_count": 13,
   "metadata": {
    "colab": {
     "base_uri": "https://localhost:8080/",
     "height": 424
    },
    "executionInfo": {
     "elapsed": 1541,
     "status": "ok",
     "timestamp": 1714185592740,
     "user": {
      "displayName": "Juan Pablo Jaramillo",
      "userId": "00033109649246090021"
     },
     "user_tz": 300
    },
    "id": "ho_QGM8uAxCg",
    "outputId": "267fcb89-1859-4f33-8f7d-0aec990e97d7"
   },
   "outputs": [],
   "source": [
    "if not env_vars['vectorizer_exist']:\n",
    "    #Stopwords\n",
    "    stop_words = stopwords.words('english')\n",
    "    #Creacion de bolsa de palabras\n",
    "    documents = int(len(df.index)*0.01)\n",
    "    vectorizer = TfidfVectorizer(sublinear_tf=True \n",
    "                                 , min_df=documents          \n",
    "                                 , ngram_range=(1, 3)\n",
    "                                 , stop_words=stop_words\n",
    "                           )\n",
    "    vectorizer.fit(df[\"reseña\"])\n",
    "    save_vectorizer(vectorizer)\n",
    "else:\n",
    "    vectorizer = load_vectorizer()"
   ]
  },
  {
   "cell_type": "markdown",
   "metadata": {},
   "source": [
    "# Modelo"
   ]
  },
  {
   "cell_type": "markdown",
   "metadata": {
    "id": "gpkHQDcaLaKc"
   },
   "source": [
    "## Eleccion de modelo"
   ]
  },
  {
   "cell_type": "code",
   "execution_count": 14,
   "metadata": {
    "executionInfo": {
     "elapsed": 14702,
     "status": "ok",
     "timestamp": 1714184737266,
     "user": {
      "displayName": "Juan Pablo Jaramillo",
      "userId": "00033109649246090021"
     },
     "user_tz": 300
    },
    "id": "xEmg4au3Ds18"
   },
   "outputs": [
    {
     "name": "stdout",
     "output_type": "stream",
     "text": [
      "1996\n",
      "RandomForestClassifier0\n",
      "RandomForestClassifier1\n",
      "LinearSVC2\n",
      "MultinomialNB3\n",
      "LogisticRegression4\n",
      "KNeighborsClassifier5\n",
      "KNeighborsClassifier6\n",
      "KNeighborsClassifier7\n",
      "GradientBoostingClassifier8\n",
      "GradientBoostingClassifier9\n"
     ]
    }
   ],
   "source": [
    "if env_vars['minimize_dataset']:\n",
    "    particion = (100-0.1)/100\n",
    "    X_train, X_test, y_train, y_test = train_test_split(df['reseña'],df['clasificacion'], test_size=particion, random_state=42)\n",
    "    df = pd.concat([y_train, X_train], axis=1)\n",
    "    del X_train, X_test, y_train, y_test \n",
    "\n",
    "labels = df['clasificacion']\n",
    "features = vectorizer.transform(df[\"reseña\"])\n",
    "models = [\n",
    "    RandomForestClassifier(n_estimators=100, max_depth=15, random_state=0),\n",
    "    RandomForestClassifier(n_estimators=30, max_depth=20, random_state=0),\n",
    "    LinearSVC(),\n",
    "    MultinomialNB(),\n",
    "    LogisticRegression(random_state=0),\n",
    "    KNeighborsClassifier(n_neighbors=40),\n",
    "    KNeighborsClassifier(n_neighbors=50),\n",
    "    KNeighborsClassifier(n_neighbors=60),\n",
    "    GradientBoostingClassifier(n_estimators=100, learning_rate=0.1, random_state=1),\n",
    "    GradientBoostingClassifier(n_estimators=50, learning_rate=0.1, random_state=1)\n",
    "]\n",
    "\n",
    "\n",
    "#Cross-validation: 10-folds\n",
    "CV = 10\n",
    "\n",
    "cv_df = pd.DataFrame(index=range(CV * len(models)))\n",
    "entries = []\n",
    "\n",
    "a = 0\n",
    "for model in models:\n",
    "    model_name = model.__class__.__name__+str(a)\n",
    "    a += 1\n",
    "    accuracies = cross_val_score(model, features, labels, scoring='accuracy', cv=CV,n_jobs = -1)\n",
    "    for fold_idx, accuracy in enumerate(accuracies):\n",
    "        entries.append((model_name, fold_idx, accuracy))\n",
    "    print(model_name)\n",
    "cv_df = pd.DataFrame(entries, columns=['model_name', 'fold_idx', 'accuracy'])"
   ]
  },
  {
   "cell_type": "code",
   "execution_count": 15,
   "metadata": {
    "colab": {
     "base_uri": "https://localhost:8080/",
     "height": 408
    },
    "executionInfo": {
     "elapsed": 1836,
     "status": "ok",
     "timestamp": 1714185773242,
     "user": {
      "displayName": "Juan Pablo Jaramillo",
      "userId": "00033109649246090021"
     },
     "user_tz": 300
    },
    "id": "jkfo0GQcRQHP",
    "outputId": "4c38b55d-b449-4d92-b5ae-e2e37cbf14f6"
   },
   "outputs": [
    {
     "data": {
      "image/png": "[encoded data removed]",
      "text/plain": [
       "<Figure size 2400x800 with 1 Axes>"
      ]
     },
     "metadata": {},
     "output_type": "display_data"
    }
   ],
   "source": [
    "# Gráfica de accuracy de los modelos\n",
    "figsize=(24,8)\n",
    "\n",
    "plt.rcParams['figure.figsize'] = figsize\n",
    "\n",
    "sns.boxplot(x='model_name', y='accuracy', data=cv_df)\n",
    "sns.stripplot(x='model_name', y='accuracy', data=cv_df,\n",
    "              size=4, jitter=True, edgecolor=\"gray\", linewidth=2)\n",
    "plt.show()"
   ]
  },
  {
   "cell_type": "code",
   "execution_count": 16,
   "metadata": {
    "colab": {
     "base_uri": "https://localhost:8080/"
    },
    "executionInfo": {
     "elapsed": 34,
     "status": "ok",
     "timestamp": 1714184674965,
     "user": {
      "displayName": "Juan Pablo Jaramillo",
      "userId": "00033109649246090021"
     },
     "user_tz": 300
    },
    "id": "Y1gumsBDSQn5",
    "outputId": "8ea86ba6-7152-44a6-fbe8-7be48914e749"
   },
   "outputs": [
    {
     "data": {
      "text/plain": [
       "model_name\n",
       "LogisticRegression4            0.776530\n",
       "MultinomialNB3                 0.770015\n",
       "RandomForestClassifier0        0.753492\n",
       "LinearSVC2                     0.752013\n",
       "GradientBoostingClassifier8    0.742997\n",
       "RandomForestClassifier1        0.741485\n",
       "KNeighborsClassifier7          0.735942\n",
       "KNeighborsClassifier6          0.733940\n",
       "KNeighborsClassifier5          0.732912\n",
       "GradientBoostingClassifier9    0.728445\n",
       "Name: accuracy, dtype: float64"
      ]
     },
     "execution_count": 16,
     "metadata": {},
     "output_type": "execute_result"
    }
   ],
   "source": [
    "# Accuracy de los modelos\n",
    "cv_df.groupby('model_name').accuracy.mean().sort_values(ascending=False)"
   ]
  },
  {
   "cell_type": "markdown",
   "metadata": {},
   "source": [
    "## LogisticRegression"
   ]
  },
  {
   "cell_type": "code",
   "execution_count": 17,
   "metadata": {
    "colab": {
     "base_uri": "https://localhost:8080/",
     "height": 35
    },
    "executionInfo": {
     "elapsed": 332,
     "status": "ok",
     "timestamp": 1714185214102,
     "user": {
      "displayName": "Juan Pablo Jaramillo",
      "userId": "00033109649246090021"
     },
     "user_tz": 300
    },
    "id": "5eFgnsXoYCk-",
    "outputId": "b71e0af5-a371-4c41-d219-d62e8f1eaa99"
   },
   "outputs": [],
   "source": [
    "models = [\n",
    "\n",
    "    LogisticRegression(random_state=0,solver=\"lbfgs\"),\n",
    "    LogisticRegression(random_state=0,solver=\"liblinear\"),\n",
    "    LogisticRegression(random_state=0,solver=\"newton-cg\"),\n",
    "    LogisticRegression(random_state=0,solver=\"newton-cholesky\"),\n",
    "    LogisticRegression(random_state=0,solver=\"sag\"),\n",
    "    LogisticRegression(random_state=0,solver=\"saga\"),\n",
    "]\n",
    "\n",
    "#Cross-validation: 20-folds\n",
    "CV = 20\n",
    "\n",
    "cv_df = pd.DataFrame(index=range(CV * len(models)))\n",
    "entries = []\n",
    "a = 0\n",
    "for model in models:\n",
    "    model_name = model.__class__.__name__+str(a)\n",
    "    a += 1\n",
    "    accuracies = cross_val_score(model, features, labels, scoring='accuracy', cv=CV,n_jobs = 5)\n",
    "    for fold_idx, accuracy in enumerate(accuracies):\n",
    "        entries.append((model_name, fold_idx, accuracy))\n",
    "cv_df = pd.DataFrame(entries, columns=['model_name', 'fold_idx', 'accuracy'])"
   ]
  },
  {
   "cell_type": "code",
   "execution_count": 18,
   "metadata": {
    "id": "n1A3v9sXZpSU"
   },
   "outputs": [
    {
     "data": {
      "image/png": "[encoded data removed]",
      "text/plain": [
       "<Figure size 2400x800 with 1 Axes>"
      ]
     },
     "metadata": {},
     "output_type": "display_data"
    }
   ],
   "source": [
    "# Gráfica de accuracy de los modelos\n",
    "figsize=(24,8)\n",
    "plt.rcParams['figure.figsize'] = figsize\n",
    "sns.boxplot(x='model_name', y='accuracy', data=cv_df)\n",
    "sns.stripplot(x='model_name', y='accuracy', data=cv_df,\n",
    "              size=4, jitter=True, edgecolor=\"gray\", linewidth=2)\n",
    "plt.show()"
   ]
  },
  {
   "cell_type": "code",
   "execution_count": 19,
   "metadata": {},
   "outputs": [],
   "source": [
    "\n",
    "models = [\n",
    "    LogisticRegression(random_state=0,solver=\"saga\",penalty = \"elasticnet\", l1_ratio = 1),\n",
    "    LogisticRegression(random_state=0,solver=\"saga\",penalty = \"elasticnet\", l1_ratio = 0.6),\n",
    "    LogisticRegression(random_state=0,solver=\"saga\",penalty = \"elasticnet\", l1_ratio = 0.3),\n",
    "    LogisticRegression(random_state=0,solver=\"saga\",penalty = \"elasticnet\", l1_ratio = 0.1),\n",
    "    LogisticRegression(random_state=0,solver=\"saga\",penalty = \"l1\"),\n",
    "    LogisticRegression(random_state=0,solver=\"saga\",penalty = \"l2\"),\n",
    "    LogisticRegression(random_state=0,solver=\"saga\",penalty = None),\n",
    "]\n",
    "\n",
    "#Cross-validation: 20-folds\n",
    "CV = 20\n",
    "\n",
    "cv_df = pd.DataFrame(index=range(CV * len(models)))\n",
    "entries = []\n",
    "a = 0\n",
    "for model in models:\n",
    "    model_name = model.__class__.__name__+str(a)\n",
    "    a += 1\n",
    "    accuracies = cross_val_score(model, features, labels, scoring='accuracy', cv=CV,n_jobs = 5)\n",
    "    for fold_idx, accuracy in enumerate(accuracies):\n",
    "        entries.append((model_name, fold_idx, accuracy))\n",
    "cv_df = pd.DataFrame(entries, columns=['model_name', 'fold_idx', 'accuracy'])"
   ]
  },
  {
   "cell_type": "code",
   "execution_count": 20,
   "metadata": {},
   "outputs": [
    {
     "data": {
      "image/png": "[encoded data removed]",
      "text/plain": [
       "<Figure size 2400x800 with 1 Axes>"
      ]
     },
     "metadata": {},
     "output_type": "display_data"
    }
   ],
   "source": [
    "# Gráfica de accuracy de los modelos\n",
    "figsize=(24,8)\n",
    "\n",
    "plt.rcParams['figure.figsize'] = figsize\n",
    "\n",
    "sns.boxplot(x='model_name', y='accuracy', data=cv_df)\n",
    "sns.stripplot(x='model_name', y='accuracy', data=cv_df,\n",
    "              size=4, jitter=True, edgecolor=\"gray\", linewidth=2)\n",
    "plt.show()"
   ]
  },
  {
   "cell_type": "code",
   "execution_count": 21,
   "metadata": {},
   "outputs": [
    {
     "data": {
      "text/plain": [
       "model_name\n",
       "LogisticRegression2    0.777561\n",
       "LogisticRegression1    0.772561\n",
       "LogisticRegression5    0.772540\n",
       "LogisticRegression3    0.772535\n",
       "LogisticRegression0    0.759556\n",
       "LogisticRegression4    0.759556\n",
       "LogisticRegression6    0.727495\n",
       "Name: accuracy, dtype: float64"
      ]
     },
     "execution_count": 21,
     "metadata": {},
     "output_type": "execute_result"
    }
   ],
   "source": [
    "cv_df.groupby('model_name').accuracy.mean().sort_values(ascending=False)"
   ]
  },
  {
   "cell_type": "markdown",
   "metadata": {},
   "source": [
    "## RandomForestClassifier"
   ]
  },
  {
   "cell_type": "code",
   "execution_count": 22,
   "metadata": {},
   "outputs": [
    {
     "name": "stdout",
     "output_type": "stream",
     "text": [
      "evaluando con el score accuracy con los params {'criterion': 'gini', 'max_depth': None, 'max_features': 5, 'n_estimators': 150}\n"
     ]
    },
    {
     "name": "stdout",
     "output_type": "stream",
     "text": [
      "evaluando con el score f1 con los params {'criterion': 'gini', 'max_depth': None, 'max_features': 5, 'n_estimators': 150}\n",
      "evaluando con el score balanced_accuracy con los params {'criterion': 'gini', 'max_depth': None, 'max_features': 5, 'n_estimators': 150}\n",
      "evaluando con el score precision con los params {'criterion': 'gini', 'max_depth': None, 'max_features': 5, 'n_estimators': 150}\n",
      "evaluando con el score recall con los params {'criterion': 'gini', 'max_depth': None, 'max_features': 5, 'n_estimators': 150}\n",
      "evaluando con el score accuracy con los params {'criterion': 'gini', 'max_depth': None, 'max_features': 5, 'n_estimators': 200}\n",
      "evaluando con el score f1 con los params {'criterion': 'gini', 'max_depth': None, 'max_features': 5, 'n_estimators': 200}\n",
      "evaluando con el score balanced_accuracy con los params {'criterion': 'gini', 'max_depth': None, 'max_features': 5, 'n_estimators': 200}\n",
      "evaluando con el score precision con los params {'criterion': 'gini', 'max_depth': None, 'max_features': 5, 'n_estimators': 200}\n",
      "evaluando con el score recall con los params {'criterion': 'gini', 'max_depth': None, 'max_features': 5, 'n_estimators': 200}\n",
      "evaluando con el score accuracy con los params {'criterion': 'gini', 'max_depth': None, 'max_features': 5, 'n_estimators': 250}\n",
      "evaluando con el score f1 con los params {'criterion': 'gini', 'max_depth': None, 'max_features': 5, 'n_estimators': 250}\n",
      "evaluando con el score balanced_accuracy con los params {'criterion': 'gini', 'max_depth': None, 'max_features': 5, 'n_estimators': 250}\n",
      "evaluando con el score precision con los params {'criterion': 'gini', 'max_depth': None, 'max_features': 5, 'n_estimators': 250}\n",
      "evaluando con el score recall con los params {'criterion': 'gini', 'max_depth': None, 'max_features': 5, 'n_estimators': 250}\n",
      "evaluando con el score accuracy con los params {'criterion': 'gini', 'max_depth': None, 'max_features': 7, 'n_estimators': 150}\n",
      "evaluando con el score f1 con los params {'criterion': 'gini', 'max_depth': None, 'max_features': 7, 'n_estimators': 150}\n",
      "evaluando con el score balanced_accuracy con los params {'criterion': 'gini', 'max_depth': None, 'max_features': 7, 'n_estimators': 150}\n",
      "evaluando con el score precision con los params {'criterion': 'gini', 'max_depth': None, 'max_features': 7, 'n_estimators': 150}\n",
      "evaluando con el score recall con los params {'criterion': 'gini', 'max_depth': None, 'max_features': 7, 'n_estimators': 150}\n",
      "evaluando con el score accuracy con los params {'criterion': 'gini', 'max_depth': None, 'max_features': 7, 'n_estimators': 200}\n",
      "evaluando con el score f1 con los params {'criterion': 'gini', 'max_depth': None, 'max_features': 7, 'n_estimators': 200}\n",
      "evaluando con el score balanced_accuracy con los params {'criterion': 'gini', 'max_depth': None, 'max_features': 7, 'n_estimators': 200}\n",
      "evaluando con el score precision con los params {'criterion': 'gini', 'max_depth': None, 'max_features': 7, 'n_estimators': 200}\n",
      "evaluando con el score recall con los params {'criterion': 'gini', 'max_depth': None, 'max_features': 7, 'n_estimators': 200}\n",
      "evaluando con el score accuracy con los params {'criterion': 'gini', 'max_depth': None, 'max_features': 7, 'n_estimators': 250}\n",
      "evaluando con el score f1 con los params {'criterion': 'gini', 'max_depth': None, 'max_features': 7, 'n_estimators': 250}\n",
      "evaluando con el score balanced_accuracy con los params {'criterion': 'gini', 'max_depth': None, 'max_features': 7, 'n_estimators': 250}\n",
      "evaluando con el score precision con los params {'criterion': 'gini', 'max_depth': None, 'max_features': 7, 'n_estimators': 250}\n",
      "evaluando con el score recall con los params {'criterion': 'gini', 'max_depth': None, 'max_features': 7, 'n_estimators': 250}\n",
      "evaluando con el score accuracy con los params {'criterion': 'gini', 'max_depth': None, 'max_features': 9, 'n_estimators': 150}\n",
      "evaluando con el score f1 con los params {'criterion': 'gini', 'max_depth': None, 'max_features': 9, 'n_estimators': 150}\n",
      "evaluando con el score balanced_accuracy con los params {'criterion': 'gini', 'max_depth': None, 'max_features': 9, 'n_estimators': 150}\n",
      "evaluando con el score precision con los params {'criterion': 'gini', 'max_depth': None, 'max_features': 9, 'n_estimators': 150}\n",
      "evaluando con el score recall con los params {'criterion': 'gini', 'max_depth': None, 'max_features': 9, 'n_estimators': 150}\n",
      "evaluando con el score accuracy con los params {'criterion': 'gini', 'max_depth': None, 'max_features': 9, 'n_estimators': 200}\n",
      "evaluando con el score f1 con los params {'criterion': 'gini', 'max_depth': None, 'max_features': 9, 'n_estimators': 200}\n",
      "evaluando con el score balanced_accuracy con los params {'criterion': 'gini', 'max_depth': None, 'max_features': 9, 'n_estimators': 200}\n",
      "evaluando con el score precision con los params {'criterion': 'gini', 'max_depth': None, 'max_features': 9, 'n_estimators': 200}\n",
      "evaluando con el score recall con los params {'criterion': 'gini', 'max_depth': None, 'max_features': 9, 'n_estimators': 200}\n",
      "evaluando con el score accuracy con los params {'criterion': 'gini', 'max_depth': None, 'max_features': 9, 'n_estimators': 250}\n",
      "evaluando con el score f1 con los params {'criterion': 'gini', 'max_depth': None, 'max_features': 9, 'n_estimators': 250}\n",
      "evaluando con el score balanced_accuracy con los params {'criterion': 'gini', 'max_depth': None, 'max_features': 9, 'n_estimators': 250}\n",
      "evaluando con el score precision con los params {'criterion': 'gini', 'max_depth': None, 'max_features': 9, 'n_estimators': 250}\n",
      "evaluando con el score recall con los params {'criterion': 'gini', 'max_depth': None, 'max_features': 9, 'n_estimators': 250}\n",
      "evaluando con el score accuracy con los params {'criterion': 'gini', 'max_depth': 3, 'max_features': 5, 'n_estimators': 150}\n",
      "evaluando con el score f1 con los params {'criterion': 'gini', 'max_depth': 3, 'max_features': 5, 'n_estimators': 150}\n",
      "evaluando con el score balanced_accuracy con los params {'criterion': 'gini', 'max_depth': 3, 'max_features': 5, 'n_estimators': 150}\n",
      "evaluando con el score precision con los params {'criterion': 'gini', 'max_depth': 3, 'max_features': 5, 'n_estimators': 150}\n",
      "evaluando con el score recall con los params {'criterion': 'gini', 'max_depth': 3, 'max_features': 5, 'n_estimators': 150}\n",
      "evaluando con el score accuracy con los params {'criterion': 'gini', 'max_depth': 3, 'max_features': 5, 'n_estimators': 200}\n",
      "evaluando con el score f1 con los params {'criterion': 'gini', 'max_depth': 3, 'max_features': 5, 'n_estimators': 200}\n",
      "evaluando con el score balanced_accuracy con los params {'criterion': 'gini', 'max_depth': 3, 'max_features': 5, 'n_estimators': 200}\n",
      "evaluando con el score precision con los params {'criterion': 'gini', 'max_depth': 3, 'max_features': 5, 'n_estimators': 200}\n",
      "evaluando con el score recall con los params {'criterion': 'gini', 'max_depth': 3, 'max_features': 5, 'n_estimators': 200}\n",
      "evaluando con el score accuracy con los params {'criterion': 'gini', 'max_depth': 3, 'max_features': 5, 'n_estimators': 250}\n",
      "evaluando con el score f1 con los params {'criterion': 'gini', 'max_depth': 3, 'max_features': 5, 'n_estimators': 250}\n",
      "evaluando con el score balanced_accuracy con los params {'criterion': 'gini', 'max_depth': 3, 'max_features': 5, 'n_estimators': 250}\n",
      "evaluando con el score precision con los params {'criterion': 'gini', 'max_depth': 3, 'max_features': 5, 'n_estimators': 250}\n",
      "evaluando con el score recall con los params {'criterion': 'gini', 'max_depth': 3, 'max_features': 5, 'n_estimators': 250}\n",
      "evaluando con el score accuracy con los params {'criterion': 'gini', 'max_depth': 3, 'max_features': 7, 'n_estimators': 150}\n",
      "evaluando con el score f1 con los params {'criterion': 'gini', 'max_depth': 3, 'max_features': 7, 'n_estimators': 150}\n",
      "evaluando con el score balanced_accuracy con los params {'criterion': 'gini', 'max_depth': 3, 'max_features': 7, 'n_estimators': 150}\n",
      "evaluando con el score precision con los params {'criterion': 'gini', 'max_depth': 3, 'max_features': 7, 'n_estimators': 150}\n",
      "evaluando con el score recall con los params {'criterion': 'gini', 'max_depth': 3, 'max_features': 7, 'n_estimators': 150}\n",
      "evaluando con el score accuracy con los params {'criterion': 'gini', 'max_depth': 3, 'max_features': 7, 'n_estimators': 200}\n",
      "evaluando con el score f1 con los params {'criterion': 'gini', 'max_depth': 3, 'max_features': 7, 'n_estimators': 200}\n",
      "evaluando con el score balanced_accuracy con los params {'criterion': 'gini', 'max_depth': 3, 'max_features': 7, 'n_estimators': 200}\n",
      "evaluando con el score precision con los params {'criterion': 'gini', 'max_depth': 3, 'max_features': 7, 'n_estimators': 200}\n",
      "evaluando con el score recall con los params {'criterion': 'gini', 'max_depth': 3, 'max_features': 7, 'n_estimators': 200}\n",
      "evaluando con el score accuracy con los params {'criterion': 'gini', 'max_depth': 3, 'max_features': 7, 'n_estimators': 250}\n",
      "evaluando con el score f1 con los params {'criterion': 'gini', 'max_depth': 3, 'max_features': 7, 'n_estimators': 250}\n",
      "evaluando con el score balanced_accuracy con los params {'criterion': 'gini', 'max_depth': 3, 'max_features': 7, 'n_estimators': 250}\n",
      "evaluando con el score precision con los params {'criterion': 'gini', 'max_depth': 3, 'max_features': 7, 'n_estimators': 250}\n",
      "evaluando con el score recall con los params {'criterion': 'gini', 'max_depth': 3, 'max_features': 7, 'n_estimators': 250}\n",
      "evaluando con el score accuracy con los params {'criterion': 'gini', 'max_depth': 3, 'max_features': 9, 'n_estimators': 150}\n",
      "evaluando con el score f1 con los params {'criterion': 'gini', 'max_depth': 3, 'max_features': 9, 'n_estimators': 150}\n",
      "evaluando con el score balanced_accuracy con los params {'criterion': 'gini', 'max_depth': 3, 'max_features': 9, 'n_estimators': 150}\n",
      "evaluando con el score precision con los params {'criterion': 'gini', 'max_depth': 3, 'max_features': 9, 'n_estimators': 150}\n",
      "evaluando con el score recall con los params {'criterion': 'gini', 'max_depth': 3, 'max_features': 9, 'n_estimators': 150}\n",
      "evaluando con el score accuracy con los params {'criterion': 'gini', 'max_depth': 3, 'max_features': 9, 'n_estimators': 200}\n",
      "evaluando con el score f1 con los params {'criterion': 'gini', 'max_depth': 3, 'max_features': 9, 'n_estimators': 200}\n",
      "evaluando con el score balanced_accuracy con los params {'criterion': 'gini', 'max_depth': 3, 'max_features': 9, 'n_estimators': 200}\n",
      "evaluando con el score precision con los params {'criterion': 'gini', 'max_depth': 3, 'max_features': 9, 'n_estimators': 200}\n",
      "evaluando con el score recall con los params {'criterion': 'gini', 'max_depth': 3, 'max_features': 9, 'n_estimators': 200}\n",
      "evaluando con el score accuracy con los params {'criterion': 'gini', 'max_depth': 3, 'max_features': 9, 'n_estimators': 250}\n",
      "evaluando con el score f1 con los params {'criterion': 'gini', 'max_depth': 3, 'max_features': 9, 'n_estimators': 250}\n",
      "evaluando con el score balanced_accuracy con los params {'criterion': 'gini', 'max_depth': 3, 'max_features': 9, 'n_estimators': 250}\n",
      "evaluando con el score precision con los params {'criterion': 'gini', 'max_depth': 3, 'max_features': 9, 'n_estimators': 250}\n",
      "evaluando con el score recall con los params {'criterion': 'gini', 'max_depth': 3, 'max_features': 9, 'n_estimators': 250}\n",
      "evaluando con el score accuracy con los params {'criterion': 'gini', 'max_depth': 20, 'max_features': 5, 'n_estimators': 150}\n",
      "evaluando con el score f1 con los params {'criterion': 'gini', 'max_depth': 20, 'max_features': 5, 'n_estimators': 150}\n",
      "evaluando con el score balanced_accuracy con los params {'criterion': 'gini', 'max_depth': 20, 'max_features': 5, 'n_estimators': 150}\n",
      "evaluando con el score precision con los params {'criterion': 'gini', 'max_depth': 20, 'max_features': 5, 'n_estimators': 150}\n",
      "evaluando con el score recall con los params {'criterion': 'gini', 'max_depth': 20, 'max_features': 5, 'n_estimators': 150}\n",
      "evaluando con el score accuracy con los params {'criterion': 'gini', 'max_depth': 20, 'max_features': 5, 'n_estimators': 200}\n",
      "evaluando con el score f1 con los params {'criterion': 'gini', 'max_depth': 20, 'max_features': 5, 'n_estimators': 200}\n",
      "evaluando con el score balanced_accuracy con los params {'criterion': 'gini', 'max_depth': 20, 'max_features': 5, 'n_estimators': 200}\n",
      "evaluando con el score precision con los params {'criterion': 'gini', 'max_depth': 20, 'max_features': 5, 'n_estimators': 200}\n",
      "evaluando con el score recall con los params {'criterion': 'gini', 'max_depth': 20, 'max_features': 5, 'n_estimators': 200}\n",
      "evaluando con el score accuracy con los params {'criterion': 'gini', 'max_depth': 20, 'max_features': 5, 'n_estimators': 250}\n",
      "evaluando con el score f1 con los params {'criterion': 'gini', 'max_depth': 20, 'max_features': 5, 'n_estimators': 250}\n",
      "evaluando con el score balanced_accuracy con los params {'criterion': 'gini', 'max_depth': 20, 'max_features': 5, 'n_estimators': 250}\n",
      "evaluando con el score precision con los params {'criterion': 'gini', 'max_depth': 20, 'max_features': 5, 'n_estimators': 250}\n",
      "evaluando con el score recall con los params {'criterion': 'gini', 'max_depth': 20, 'max_features': 5, 'n_estimators': 250}\n",
      "evaluando con el score accuracy con los params {'criterion': 'gini', 'max_depth': 20, 'max_features': 7, 'n_estimators': 150}\n",
      "evaluando con el score f1 con los params {'criterion': 'gini', 'max_depth': 20, 'max_features': 7, 'n_estimators': 150}\n",
      "evaluando con el score balanced_accuracy con los params {'criterion': 'gini', 'max_depth': 20, 'max_features': 7, 'n_estimators': 150}\n",
      "evaluando con el score precision con los params {'criterion': 'gini', 'max_depth': 20, 'max_features': 7, 'n_estimators': 150}\n",
      "evaluando con el score recall con los params {'criterion': 'gini', 'max_depth': 20, 'max_features': 7, 'n_estimators': 150}\n",
      "evaluando con el score accuracy con los params {'criterion': 'gini', 'max_depth': 20, 'max_features': 7, 'n_estimators': 200}\n",
      "evaluando con el score f1 con los params {'criterion': 'gini', 'max_depth': 20, 'max_features': 7, 'n_estimators': 200}\n",
      "evaluando con el score balanced_accuracy con los params {'criterion': 'gini', 'max_depth': 20, 'max_features': 7, 'n_estimators': 200}\n",
      "evaluando con el score precision con los params {'criterion': 'gini', 'max_depth': 20, 'max_features': 7, 'n_estimators': 200}\n",
      "evaluando con el score recall con los params {'criterion': 'gini', 'max_depth': 20, 'max_features': 7, 'n_estimators': 200}\n",
      "evaluando con el score accuracy con los params {'criterion': 'gini', 'max_depth': 20, 'max_features': 7, 'n_estimators': 250}\n",
      "evaluando con el score f1 con los params {'criterion': 'gini', 'max_depth': 20, 'max_features': 7, 'n_estimators': 250}\n",
      "evaluando con el score balanced_accuracy con los params {'criterion': 'gini', 'max_depth': 20, 'max_features': 7, 'n_estimators': 250}\n",
      "evaluando con el score precision con los params {'criterion': 'gini', 'max_depth': 20, 'max_features': 7, 'n_estimators': 250}\n",
      "evaluando con el score recall con los params {'criterion': 'gini', 'max_depth': 20, 'max_features': 7, 'n_estimators': 250}\n",
      "evaluando con el score accuracy con los params {'criterion': 'gini', 'max_depth': 20, 'max_features': 9, 'n_estimators': 150}\n",
      "evaluando con el score f1 con los params {'criterion': 'gini', 'max_depth': 20, 'max_features': 9, 'n_estimators': 150}\n",
      "evaluando con el score balanced_accuracy con los params {'criterion': 'gini', 'max_depth': 20, 'max_features': 9, 'n_estimators': 150}\n",
      "evaluando con el score precision con los params {'criterion': 'gini', 'max_depth': 20, 'max_features': 9, 'n_estimators': 150}\n",
      "evaluando con el score recall con los params {'criterion': 'gini', 'max_depth': 20, 'max_features': 9, 'n_estimators': 150}\n",
      "evaluando con el score accuracy con los params {'criterion': 'gini', 'max_depth': 20, 'max_features': 9, 'n_estimators': 200}\n",
      "evaluando con el score f1 con los params {'criterion': 'gini', 'max_depth': 20, 'max_features': 9, 'n_estimators': 200}\n",
      "evaluando con el score balanced_accuracy con los params {'criterion': 'gini', 'max_depth': 20, 'max_features': 9, 'n_estimators': 200}\n",
      "evaluando con el score precision con los params {'criterion': 'gini', 'max_depth': 20, 'max_features': 9, 'n_estimators': 200}\n",
      "evaluando con el score recall con los params {'criterion': 'gini', 'max_depth': 20, 'max_features': 9, 'n_estimators': 200}\n",
      "evaluando con el score accuracy con los params {'criterion': 'gini', 'max_depth': 20, 'max_features': 9, 'n_estimators': 250}\n",
      "evaluando con el score f1 con los params {'criterion': 'gini', 'max_depth': 20, 'max_features': 9, 'n_estimators': 250}\n",
      "evaluando con el score balanced_accuracy con los params {'criterion': 'gini', 'max_depth': 20, 'max_features': 9, 'n_estimators': 250}\n",
      "evaluando con el score precision con los params {'criterion': 'gini', 'max_depth': 20, 'max_features': 9, 'n_estimators': 250}\n",
      "evaluando con el score recall con los params {'criterion': 'gini', 'max_depth': 20, 'max_features': 9, 'n_estimators': 250}\n",
      "evaluando con el score accuracy con los params {'criterion': 'gini', 'max_depth': 50, 'max_features': 5, 'n_estimators': 150}\n",
      "evaluando con el score f1 con los params {'criterion': 'gini', 'max_depth': 50, 'max_features': 5, 'n_estimators': 150}\n",
      "evaluando con el score balanced_accuracy con los params {'criterion': 'gini', 'max_depth': 50, 'max_features': 5, 'n_estimators': 150}\n",
      "evaluando con el score precision con los params {'criterion': 'gini', 'max_depth': 50, 'max_features': 5, 'n_estimators': 150}\n",
      "evaluando con el score recall con los params {'criterion': 'gini', 'max_depth': 50, 'max_features': 5, 'n_estimators': 150}\n",
      "evaluando con el score accuracy con los params {'criterion': 'gini', 'max_depth': 50, 'max_features': 5, 'n_estimators': 200}\n",
      "evaluando con el score f1 con los params {'criterion': 'gini', 'max_depth': 50, 'max_features': 5, 'n_estimators': 200}\n",
      "evaluando con el score balanced_accuracy con los params {'criterion': 'gini', 'max_depth': 50, 'max_features': 5, 'n_estimators': 200}\n",
      "evaluando con el score precision con los params {'criterion': 'gini', 'max_depth': 50, 'max_features': 5, 'n_estimators': 200}\n",
      "evaluando con el score recall con los params {'criterion': 'gini', 'max_depth': 50, 'max_features': 5, 'n_estimators': 200}\n",
      "evaluando con el score accuracy con los params {'criterion': 'gini', 'max_depth': 50, 'max_features': 5, 'n_estimators': 250}\n",
      "evaluando con el score f1 con los params {'criterion': 'gini', 'max_depth': 50, 'max_features': 5, 'n_estimators': 250}\n",
      "evaluando con el score balanced_accuracy con los params {'criterion': 'gini', 'max_depth': 50, 'max_features': 5, 'n_estimators': 250}\n",
      "evaluando con el score precision con los params {'criterion': 'gini', 'max_depth': 50, 'max_features': 5, 'n_estimators': 250}\n",
      "evaluando con el score recall con los params {'criterion': 'gini', 'max_depth': 50, 'max_features': 5, 'n_estimators': 250}\n",
      "evaluando con el score accuracy con los params {'criterion': 'gini', 'max_depth': 50, 'max_features': 7, 'n_estimators': 150}\n",
      "evaluando con el score f1 con los params {'criterion': 'gini', 'max_depth': 50, 'max_features': 7, 'n_estimators': 150}\n",
      "evaluando con el score balanced_accuracy con los params {'criterion': 'gini', 'max_depth': 50, 'max_features': 7, 'n_estimators': 150}\n",
      "evaluando con el score precision con los params {'criterion': 'gini', 'max_depth': 50, 'max_features': 7, 'n_estimators': 150}\n",
      "evaluando con el score recall con los params {'criterion': 'gini', 'max_depth': 50, 'max_features': 7, 'n_estimators': 150}\n",
      "evaluando con el score accuracy con los params {'criterion': 'gini', 'max_depth': 50, 'max_features': 7, 'n_estimators': 200}\n",
      "evaluando con el score f1 con los params {'criterion': 'gini', 'max_depth': 50, 'max_features': 7, 'n_estimators': 200}\n",
      "evaluando con el score balanced_accuracy con los params {'criterion': 'gini', 'max_depth': 50, 'max_features': 7, 'n_estimators': 200}\n",
      "evaluando con el score precision con los params {'criterion': 'gini', 'max_depth': 50, 'max_features': 7, 'n_estimators': 200}\n",
      "evaluando con el score recall con los params {'criterion': 'gini', 'max_depth': 50, 'max_features': 7, 'n_estimators': 200}\n",
      "evaluando con el score accuracy con los params {'criterion': 'gini', 'max_depth': 50, 'max_features': 7, 'n_estimators': 250}\n",
      "evaluando con el score f1 con los params {'criterion': 'gini', 'max_depth': 50, 'max_features': 7, 'n_estimators': 250}\n",
      "evaluando con el score balanced_accuracy con los params {'criterion': 'gini', 'max_depth': 50, 'max_features': 7, 'n_estimators': 250}\n",
      "evaluando con el score precision con los params {'criterion': 'gini', 'max_depth': 50, 'max_features': 7, 'n_estimators': 250}\n",
      "evaluando con el score recall con los params {'criterion': 'gini', 'max_depth': 50, 'max_features': 7, 'n_estimators': 250}\n",
      "evaluando con el score accuracy con los params {'criterion': 'gini', 'max_depth': 50, 'max_features': 9, 'n_estimators': 150}\n",
      "evaluando con el score f1 con los params {'criterion': 'gini', 'max_depth': 50, 'max_features': 9, 'n_estimators': 150}\n",
      "evaluando con el score balanced_accuracy con los params {'criterion': 'gini', 'max_depth': 50, 'max_features': 9, 'n_estimators': 150}\n",
      "evaluando con el score precision con los params {'criterion': 'gini', 'max_depth': 50, 'max_features': 9, 'n_estimators': 150}\n",
      "evaluando con el score recall con los params {'criterion': 'gini', 'max_depth': 50, 'max_features': 9, 'n_estimators': 150}\n",
      "evaluando con el score accuracy con los params {'criterion': 'gini', 'max_depth': 50, 'max_features': 9, 'n_estimators': 200}\n",
      "evaluando con el score f1 con los params {'criterion': 'gini', 'max_depth': 50, 'max_features': 9, 'n_estimators': 200}\n",
      "evaluando con el score balanced_accuracy con los params {'criterion': 'gini', 'max_depth': 50, 'max_features': 9, 'n_estimators': 200}\n",
      "evaluando con el score precision con los params {'criterion': 'gini', 'max_depth': 50, 'max_features': 9, 'n_estimators': 200}\n",
      "evaluando con el score recall con los params {'criterion': 'gini', 'max_depth': 50, 'max_features': 9, 'n_estimators': 200}\n",
      "evaluando con el score accuracy con los params {'criterion': 'gini', 'max_depth': 50, 'max_features': 9, 'n_estimators': 250}\n",
      "evaluando con el score f1 con los params {'criterion': 'gini', 'max_depth': 50, 'max_features': 9, 'n_estimators': 250}\n",
      "evaluando con el score balanced_accuracy con los params {'criterion': 'gini', 'max_depth': 50, 'max_features': 9, 'n_estimators': 250}\n",
      "evaluando con el score precision con los params {'criterion': 'gini', 'max_depth': 50, 'max_features': 9, 'n_estimators': 250}\n",
      "evaluando con el score recall con los params {'criterion': 'gini', 'max_depth': 50, 'max_features': 9, 'n_estimators': 250}\n",
      "evaluando con el score accuracy con los params {'criterion': 'entropy', 'max_depth': None, 'max_features': 5, 'n_estimators': 150}\n",
      "evaluando con el score f1 con los params {'criterion': 'entropy', 'max_depth': None, 'max_features': 5, 'n_estimators': 150}\n",
      "evaluando con el score balanced_accuracy con los params {'criterion': 'entropy', 'max_depth': None, 'max_features': 5, 'n_estimators': 150}\n",
      "evaluando con el score precision con los params {'criterion': 'entropy', 'max_depth': None, 'max_features': 5, 'n_estimators': 150}\n",
      "evaluando con el score recall con los params {'criterion': 'entropy', 'max_depth': None, 'max_features': 5, 'n_estimators': 150}\n",
      "evaluando con el score accuracy con los params {'criterion': 'entropy', 'max_depth': None, 'max_features': 5, 'n_estimators': 200}\n",
      "evaluando con el score f1 con los params {'criterion': 'entropy', 'max_depth': None, 'max_features': 5, 'n_estimators': 200}\n",
      "evaluando con el score balanced_accuracy con los params {'criterion': 'entropy', 'max_depth': None, 'max_features': 5, 'n_estimators': 200}\n",
      "evaluando con el score precision con los params {'criterion': 'entropy', 'max_depth': None, 'max_features': 5, 'n_estimators': 200}\n",
      "evaluando con el score recall con los params {'criterion': 'entropy', 'max_depth': None, 'max_features': 5, 'n_estimators': 200}\n",
      "evaluando con el score accuracy con los params {'criterion': 'entropy', 'max_depth': None, 'max_features': 5, 'n_estimators': 250}\n",
      "evaluando con el score f1 con los params {'criterion': 'entropy', 'max_depth': None, 'max_features': 5, 'n_estimators': 250}\n",
      "evaluando con el score balanced_accuracy con los params {'criterion': 'entropy', 'max_depth': None, 'max_features': 5, 'n_estimators': 250}\n",
      "evaluando con el score precision con los params {'criterion': 'entropy', 'max_depth': None, 'max_features': 5, 'n_estimators': 250}\n",
      "evaluando con el score recall con los params {'criterion': 'entropy', 'max_depth': None, 'max_features': 5, 'n_estimators': 250}\n",
      "evaluando con el score accuracy con los params {'criterion': 'entropy', 'max_depth': None, 'max_features': 7, 'n_estimators': 150}\n",
      "evaluando con el score f1 con los params {'criterion': 'entropy', 'max_depth': None, 'max_features': 7, 'n_estimators': 150}\n",
      "evaluando con el score balanced_accuracy con los params {'criterion': 'entropy', 'max_depth': None, 'max_features': 7, 'n_estimators': 150}\n",
      "evaluando con el score precision con los params {'criterion': 'entropy', 'max_depth': None, 'max_features': 7, 'n_estimators': 150}\n",
      "evaluando con el score recall con los params {'criterion': 'entropy', 'max_depth': None, 'max_features': 7, 'n_estimators': 150}\n",
      "evaluando con el score accuracy con los params {'criterion': 'entropy', 'max_depth': None, 'max_features': 7, 'n_estimators': 200}\n",
      "evaluando con el score f1 con los params {'criterion': 'entropy', 'max_depth': None, 'max_features': 7, 'n_estimators': 200}\n",
      "evaluando con el score balanced_accuracy con los params {'criterion': 'entropy', 'max_depth': None, 'max_features': 7, 'n_estimators': 200}\n",
      "evaluando con el score precision con los params {'criterion': 'entropy', 'max_depth': None, 'max_features': 7, 'n_estimators': 200}\n",
      "evaluando con el score recall con los params {'criterion': 'entropy', 'max_depth': None, 'max_features': 7, 'n_estimators': 200}\n",
      "evaluando con el score accuracy con los params {'criterion': 'entropy', 'max_depth': None, 'max_features': 7, 'n_estimators': 250}\n",
      "evaluando con el score f1 con los params {'criterion': 'entropy', 'max_depth': None, 'max_features': 7, 'n_estimators': 250}\n",
      "evaluando con el score balanced_accuracy con los params {'criterion': 'entropy', 'max_depth': None, 'max_features': 7, 'n_estimators': 250}\n",
      "evaluando con el score precision con los params {'criterion': 'entropy', 'max_depth': None, 'max_features': 7, 'n_estimators': 250}\n",
      "evaluando con el score recall con los params {'criterion': 'entropy', 'max_depth': None, 'max_features': 7, 'n_estimators': 250}\n",
      "evaluando con el score accuracy con los params {'criterion': 'entropy', 'max_depth': None, 'max_features': 9, 'n_estimators': 150}\n",
      "evaluando con el score f1 con los params {'criterion': 'entropy', 'max_depth': None, 'max_features': 9, 'n_estimators': 150}\n",
      "evaluando con el score balanced_accuracy con los params {'criterion': 'entropy', 'max_depth': None, 'max_features': 9, 'n_estimators': 150}\n",
      "evaluando con el score precision con los params {'criterion': 'entropy', 'max_depth': None, 'max_features': 9, 'n_estimators': 150}\n",
      "evaluando con el score recall con los params {'criterion': 'entropy', 'max_depth': None, 'max_features': 9, 'n_estimators': 150}\n",
      "evaluando con el score accuracy con los params {'criterion': 'entropy', 'max_depth': None, 'max_features': 9, 'n_estimators': 200}\n",
      "evaluando con el score f1 con los params {'criterion': 'entropy', 'max_depth': None, 'max_features': 9, 'n_estimators': 200}\n",
      "evaluando con el score balanced_accuracy con los params {'criterion': 'entropy', 'max_depth': None, 'max_features': 9, 'n_estimators': 200}\n",
      "evaluando con el score precision con los params {'criterion': 'entropy', 'max_depth': None, 'max_features': 9, 'n_estimators': 200}\n",
      "evaluando con el score recall con los params {'criterion': 'entropy', 'max_depth': None, 'max_features': 9, 'n_estimators': 200}\n",
      "evaluando con el score accuracy con los params {'criterion': 'entropy', 'max_depth': None, 'max_features': 9, 'n_estimators': 250}\n",
      "evaluando con el score f1 con los params {'criterion': 'entropy', 'max_depth': None, 'max_features': 9, 'n_estimators': 250}\n",
      "evaluando con el score balanced_accuracy con los params {'criterion': 'entropy', 'max_depth': None, 'max_features': 9, 'n_estimators': 250}\n",
      "evaluando con el score precision con los params {'criterion': 'entropy', 'max_depth': None, 'max_features': 9, 'n_estimators': 250}\n",
      "evaluando con el score recall con los params {'criterion': 'entropy', 'max_depth': None, 'max_features': 9, 'n_estimators': 250}\n",
      "evaluando con el score accuracy con los params {'criterion': 'entropy', 'max_depth': 3, 'max_features': 5, 'n_estimators': 150}\n",
      "evaluando con el score f1 con los params {'criterion': 'entropy', 'max_depth': 3, 'max_features': 5, 'n_estimators': 150}\n",
      "evaluando con el score balanced_accuracy con los params {'criterion': 'entropy', 'max_depth': 3, 'max_features': 5, 'n_estimators': 150}\n",
      "evaluando con el score precision con los params {'criterion': 'entropy', 'max_depth': 3, 'max_features': 5, 'n_estimators': 150}\n",
      "evaluando con el score recall con los params {'criterion': 'entropy', 'max_depth': 3, 'max_features': 5, 'n_estimators': 150}\n",
      "evaluando con el score accuracy con los params {'criterion': 'entropy', 'max_depth': 3, 'max_features': 5, 'n_estimators': 200}\n",
      "evaluando con el score f1 con los params {'criterion': 'entropy', 'max_depth': 3, 'max_features': 5, 'n_estimators': 200}\n",
      "evaluando con el score balanced_accuracy con los params {'criterion': 'entropy', 'max_depth': 3, 'max_features': 5, 'n_estimators': 200}\n",
      "evaluando con el score precision con los params {'criterion': 'entropy', 'max_depth': 3, 'max_features': 5, 'n_estimators': 200}\n",
      "evaluando con el score recall con los params {'criterion': 'entropy', 'max_depth': 3, 'max_features': 5, 'n_estimators': 200}\n",
      "evaluando con el score accuracy con los params {'criterion': 'entropy', 'max_depth': 3, 'max_features': 5, 'n_estimators': 250}\n",
      "evaluando con el score f1 con los params {'criterion': 'entropy', 'max_depth': 3, 'max_features': 5, 'n_estimators': 250}\n",
      "evaluando con el score balanced_accuracy con los params {'criterion': 'entropy', 'max_depth': 3, 'max_features': 5, 'n_estimators': 250}\n",
      "evaluando con el score precision con los params {'criterion': 'entropy', 'max_depth': 3, 'max_features': 5, 'n_estimators': 250}\n",
      "evaluando con el score recall con los params {'criterion': 'entropy', 'max_depth': 3, 'max_features': 5, 'n_estimators': 250}\n",
      "evaluando con el score accuracy con los params {'criterion': 'entropy', 'max_depth': 3, 'max_features': 7, 'n_estimators': 150}\n",
      "evaluando con el score f1 con los params {'criterion': 'entropy', 'max_depth': 3, 'max_features': 7, 'n_estimators': 150}\n",
      "evaluando con el score balanced_accuracy con los params {'criterion': 'entropy', 'max_depth': 3, 'max_features': 7, 'n_estimators': 150}\n",
      "evaluando con el score precision con los params {'criterion': 'entropy', 'max_depth': 3, 'max_features': 7, 'n_estimators': 150}\n",
      "evaluando con el score recall con los params {'criterion': 'entropy', 'max_depth': 3, 'max_features': 7, 'n_estimators': 150}\n",
      "evaluando con el score accuracy con los params {'criterion': 'entropy', 'max_depth': 3, 'max_features': 7, 'n_estimators': 200}\n",
      "evaluando con el score f1 con los params {'criterion': 'entropy', 'max_depth': 3, 'max_features': 7, 'n_estimators': 200}\n",
      "evaluando con el score balanced_accuracy con los params {'criterion': 'entropy', 'max_depth': 3, 'max_features': 7, 'n_estimators': 200}\n",
      "evaluando con el score precision con los params {'criterion': 'entropy', 'max_depth': 3, 'max_features': 7, 'n_estimators': 200}\n",
      "evaluando con el score recall con los params {'criterion': 'entropy', 'max_depth': 3, 'max_features': 7, 'n_estimators': 200}\n",
      "evaluando con el score accuracy con los params {'criterion': 'entropy', 'max_depth': 3, 'max_features': 7, 'n_estimators': 250}\n",
      "evaluando con el score f1 con los params {'criterion': 'entropy', 'max_depth': 3, 'max_features': 7, 'n_estimators': 250}\n",
      "evaluando con el score balanced_accuracy con los params {'criterion': 'entropy', 'max_depth': 3, 'max_features': 7, 'n_estimators': 250}\n",
      "evaluando con el score precision con los params {'criterion': 'entropy', 'max_depth': 3, 'max_features': 7, 'n_estimators': 250}\n",
      "evaluando con el score recall con los params {'criterion': 'entropy', 'max_depth': 3, 'max_features': 7, 'n_estimators': 250}\n",
      "evaluando con el score accuracy con los params {'criterion': 'entropy', 'max_depth': 3, 'max_features': 9, 'n_estimators': 150}\n",
      "evaluando con el score f1 con los params {'criterion': 'entropy', 'max_depth': 3, 'max_features': 9, 'n_estimators': 150}\n",
      "evaluando con el score balanced_accuracy con los params {'criterion': 'entropy', 'max_depth': 3, 'max_features': 9, 'n_estimators': 150}\n",
      "evaluando con el score precision con los params {'criterion': 'entropy', 'max_depth': 3, 'max_features': 9, 'n_estimators': 150}\n",
      "evaluando con el score recall con los params {'criterion': 'entropy', 'max_depth': 3, 'max_features': 9, 'n_estimators': 150}\n",
      "evaluando con el score accuracy con los params {'criterion': 'entropy', 'max_depth': 3, 'max_features': 9, 'n_estimators': 200}\n",
      "evaluando con el score f1 con los params {'criterion': 'entropy', 'max_depth': 3, 'max_features': 9, 'n_estimators': 200}\n",
      "evaluando con el score balanced_accuracy con los params {'criterion': 'entropy', 'max_depth': 3, 'max_features': 9, 'n_estimators': 200}\n",
      "evaluando con el score precision con los params {'criterion': 'entropy', 'max_depth': 3, 'max_features': 9, 'n_estimators': 200}\n",
      "evaluando con el score recall con los params {'criterion': 'entropy', 'max_depth': 3, 'max_features': 9, 'n_estimators': 200}\n",
      "evaluando con el score accuracy con los params {'criterion': 'entropy', 'max_depth': 3, 'max_features': 9, 'n_estimators': 250}\n",
      "evaluando con el score f1 con los params {'criterion': 'entropy', 'max_depth': 3, 'max_features': 9, 'n_estimators': 250}\n",
      "evaluando con el score balanced_accuracy con los params {'criterion': 'entropy', 'max_depth': 3, 'max_features': 9, 'n_estimators': 250}\n",
      "evaluando con el score precision con los params {'criterion': 'entropy', 'max_depth': 3, 'max_features': 9, 'n_estimators': 250}\n",
      "evaluando con el score recall con los params {'criterion': 'entropy', 'max_depth': 3, 'max_features': 9, 'n_estimators': 250}\n",
      "evaluando con el score accuracy con los params {'criterion': 'entropy', 'max_depth': 20, 'max_features': 5, 'n_estimators': 150}\n",
      "evaluando con el score f1 con los params {'criterion': 'entropy', 'max_depth': 20, 'max_features': 5, 'n_estimators': 150}\n",
      "evaluando con el score balanced_accuracy con los params {'criterion': 'entropy', 'max_depth': 20, 'max_features': 5, 'n_estimators': 150}\n",
      "evaluando con el score precision con los params {'criterion': 'entropy', 'max_depth': 20, 'max_features': 5, 'n_estimators': 150}\n",
      "evaluando con el score recall con los params {'criterion': 'entropy', 'max_depth': 20, 'max_features': 5, 'n_estimators': 150}\n",
      "evaluando con el score accuracy con los params {'criterion': 'entropy', 'max_depth': 20, 'max_features': 5, 'n_estimators': 200}\n",
      "evaluando con el score f1 con los params {'criterion': 'entropy', 'max_depth': 20, 'max_features': 5, 'n_estimators': 200}\n",
      "evaluando con el score balanced_accuracy con los params {'criterion': 'entropy', 'max_depth': 20, 'max_features': 5, 'n_estimators': 200}\n",
      "evaluando con el score precision con los params {'criterion': 'entropy', 'max_depth': 20, 'max_features': 5, 'n_estimators': 200}\n",
      "evaluando con el score recall con los params {'criterion': 'entropy', 'max_depth': 20, 'max_features': 5, 'n_estimators': 200}\n",
      "evaluando con el score accuracy con los params {'criterion': 'entropy', 'max_depth': 20, 'max_features': 5, 'n_estimators': 250}\n",
      "evaluando con el score f1 con los params {'criterion': 'entropy', 'max_depth': 20, 'max_features': 5, 'n_estimators': 250}\n",
      "evaluando con el score balanced_accuracy con los params {'criterion': 'entropy', 'max_depth': 20, 'max_features': 5, 'n_estimators': 250}\n",
      "evaluando con el score precision con los params {'criterion': 'entropy', 'max_depth': 20, 'max_features': 5, 'n_estimators': 250}\n",
      "evaluando con el score recall con los params {'criterion': 'entropy', 'max_depth': 20, 'max_features': 5, 'n_estimators': 250}\n",
      "evaluando con el score accuracy con los params {'criterion': 'entropy', 'max_depth': 20, 'max_features': 7, 'n_estimators': 150}\n",
      "evaluando con el score f1 con los params {'criterion': 'entropy', 'max_depth': 20, 'max_features': 7, 'n_estimators': 150}\n",
      "evaluando con el score balanced_accuracy con los params {'criterion': 'entropy', 'max_depth': 20, 'max_features': 7, 'n_estimators': 150}\n",
      "evaluando con el score precision con los params {'criterion': 'entropy', 'max_depth': 20, 'max_features': 7, 'n_estimators': 150}\n",
      "evaluando con el score recall con los params {'criterion': 'entropy', 'max_depth': 20, 'max_features': 7, 'n_estimators': 150}\n",
      "evaluando con el score accuracy con los params {'criterion': 'entropy', 'max_depth': 20, 'max_features': 7, 'n_estimators': 200}\n",
      "evaluando con el score f1 con los params {'criterion': 'entropy', 'max_depth': 20, 'max_features': 7, 'n_estimators': 200}\n",
      "evaluando con el score balanced_accuracy con los params {'criterion': 'entropy', 'max_depth': 20, 'max_features': 7, 'n_estimators': 200}\n",
      "evaluando con el score precision con los params {'criterion': 'entropy', 'max_depth': 20, 'max_features': 7, 'n_estimators': 200}\n",
      "evaluando con el score recall con los params {'criterion': 'entropy', 'max_depth': 20, 'max_features': 7, 'n_estimators': 200}\n",
      "evaluando con el score accuracy con los params {'criterion': 'entropy', 'max_depth': 20, 'max_features': 7, 'n_estimators': 250}\n",
      "evaluando con el score f1 con los params {'criterion': 'entropy', 'max_depth': 20, 'max_features': 7, 'n_estimators': 250}\n",
      "evaluando con el score balanced_accuracy con los params {'criterion': 'entropy', 'max_depth': 20, 'max_features': 7, 'n_estimators': 250}\n",
      "evaluando con el score precision con los params {'criterion': 'entropy', 'max_depth': 20, 'max_features': 7, 'n_estimators': 250}\n",
      "evaluando con el score recall con los params {'criterion': 'entropy', 'max_depth': 20, 'max_features': 7, 'n_estimators': 250}\n",
      "evaluando con el score accuracy con los params {'criterion': 'entropy', 'max_depth': 20, 'max_features': 9, 'n_estimators': 150}\n",
      "evaluando con el score f1 con los params {'criterion': 'entropy', 'max_depth': 20, 'max_features': 9, 'n_estimators': 150}\n",
      "evaluando con el score balanced_accuracy con los params {'criterion': 'entropy', 'max_depth': 20, 'max_features': 9, 'n_estimators': 150}\n",
      "evaluando con el score precision con los params {'criterion': 'entropy', 'max_depth': 20, 'max_features': 9, 'n_estimators': 150}\n",
      "evaluando con el score recall con los params {'criterion': 'entropy', 'max_depth': 20, 'max_features': 9, 'n_estimators': 150}\n",
      "evaluando con el score accuracy con los params {'criterion': 'entropy', 'max_depth': 20, 'max_features': 9, 'n_estimators': 200}\n",
      "evaluando con el score f1 con los params {'criterion': 'entropy', 'max_depth': 20, 'max_features': 9, 'n_estimators': 200}\n",
      "evaluando con el score balanced_accuracy con los params {'criterion': 'entropy', 'max_depth': 20, 'max_features': 9, 'n_estimators': 200}\n",
      "evaluando con el score precision con los params {'criterion': 'entropy', 'max_depth': 20, 'max_features': 9, 'n_estimators': 200}\n",
      "evaluando con el score recall con los params {'criterion': 'entropy', 'max_depth': 20, 'max_features': 9, 'n_estimators': 200}\n",
      "evaluando con el score accuracy con los params {'criterion': 'entropy', 'max_depth': 20, 'max_features': 9, 'n_estimators': 250}\n",
      "evaluando con el score f1 con los params {'criterion': 'entropy', 'max_depth': 20, 'max_features': 9, 'n_estimators': 250}\n",
      "evaluando con el score balanced_accuracy con los params {'criterion': 'entropy', 'max_depth': 20, 'max_features': 9, 'n_estimators': 250}\n",
      "evaluando con el score precision con los params {'criterion': 'entropy', 'max_depth': 20, 'max_features': 9, 'n_estimators': 250}\n",
      "evaluando con el score recall con los params {'criterion': 'entropy', 'max_depth': 20, 'max_features': 9, 'n_estimators': 250}\n",
      "evaluando con el score accuracy con los params {'criterion': 'entropy', 'max_depth': 50, 'max_features': 5, 'n_estimators': 150}\n",
      "evaluando con el score f1 con los params {'criterion': 'entropy', 'max_depth': 50, 'max_features': 5, 'n_estimators': 150}\n",
      "evaluando con el score balanced_accuracy con los params {'criterion': 'entropy', 'max_depth': 50, 'max_features': 5, 'n_estimators': 150}\n",
      "evaluando con el score precision con los params {'criterion': 'entropy', 'max_depth': 50, 'max_features': 5, 'n_estimators': 150}\n",
      "evaluando con el score recall con los params {'criterion': 'entropy', 'max_depth': 50, 'max_features': 5, 'n_estimators': 150}\n",
      "evaluando con el score accuracy con los params {'criterion': 'entropy', 'max_depth': 50, 'max_features': 5, 'n_estimators': 200}\n",
      "evaluando con el score f1 con los params {'criterion': 'entropy', 'max_depth': 50, 'max_features': 5, 'n_estimators': 200}\n",
      "evaluando con el score balanced_accuracy con los params {'criterion': 'entropy', 'max_depth': 50, 'max_features': 5, 'n_estimators': 200}\n",
      "evaluando con el score precision con los params {'criterion': 'entropy', 'max_depth': 50, 'max_features': 5, 'n_estimators': 200}\n",
      "evaluando con el score recall con los params {'criterion': 'entropy', 'max_depth': 50, 'max_features': 5, 'n_estimators': 200}\n",
      "evaluando con el score accuracy con los params {'criterion': 'entropy', 'max_depth': 50, 'max_features': 5, 'n_estimators': 250}\n",
      "evaluando con el score f1 con los params {'criterion': 'entropy', 'max_depth': 50, 'max_features': 5, 'n_estimators': 250}\n",
      "evaluando con el score balanced_accuracy con los params {'criterion': 'entropy', 'max_depth': 50, 'max_features': 5, 'n_estimators': 250}\n",
      "evaluando con el score precision con los params {'criterion': 'entropy', 'max_depth': 50, 'max_features': 5, 'n_estimators': 250}\n",
      "evaluando con el score recall con los params {'criterion': 'entropy', 'max_depth': 50, 'max_features': 5, 'n_estimators': 250}\n",
      "evaluando con el score accuracy con los params {'criterion': 'entropy', 'max_depth': 50, 'max_features': 7, 'n_estimators': 150}\n",
      "evaluando con el score f1 con los params {'criterion': 'entropy', 'max_depth': 50, 'max_features': 7, 'n_estimators': 150}\n",
      "evaluando con el score balanced_accuracy con los params {'criterion': 'entropy', 'max_depth': 50, 'max_features': 7, 'n_estimators': 150}\n",
      "evaluando con el score precision con los params {'criterion': 'entropy', 'max_depth': 50, 'max_features': 7, 'n_estimators': 150}\n",
      "evaluando con el score recall con los params {'criterion': 'entropy', 'max_depth': 50, 'max_features': 7, 'n_estimators': 150}\n",
      "evaluando con el score accuracy con los params {'criterion': 'entropy', 'max_depth': 50, 'max_features': 7, 'n_estimators': 200}\n",
      "evaluando con el score f1 con los params {'criterion': 'entropy', 'max_depth': 50, 'max_features': 7, 'n_estimators': 200}\n",
      "evaluando con el score balanced_accuracy con los params {'criterion': 'entropy', 'max_depth': 50, 'max_features': 7, 'n_estimators': 200}\n",
      "evaluando con el score precision con los params {'criterion': 'entropy', 'max_depth': 50, 'max_features': 7, 'n_estimators': 200}\n",
      "evaluando con el score recall con los params {'criterion': 'entropy', 'max_depth': 50, 'max_features': 7, 'n_estimators': 200}\n",
      "evaluando con el score accuracy con los params {'criterion': 'entropy', 'max_depth': 50, 'max_features': 7, 'n_estimators': 250}\n",
      "evaluando con el score f1 con los params {'criterion': 'entropy', 'max_depth': 50, 'max_features': 7, 'n_estimators': 250}\n",
      "evaluando con el score balanced_accuracy con los params {'criterion': 'entropy', 'max_depth': 50, 'max_features': 7, 'n_estimators': 250}\n",
      "evaluando con el score precision con los params {'criterion': 'entropy', 'max_depth': 50, 'max_features': 7, 'n_estimators': 250}\n",
      "evaluando con el score recall con los params {'criterion': 'entropy', 'max_depth': 50, 'max_features': 7, 'n_estimators': 250}\n",
      "evaluando con el score accuracy con los params {'criterion': 'entropy', 'max_depth': 50, 'max_features': 9, 'n_estimators': 150}\n",
      "evaluando con el score f1 con los params {'criterion': 'entropy', 'max_depth': 50, 'max_features': 9, 'n_estimators': 150}\n",
      "evaluando con el score balanced_accuracy con los params {'criterion': 'entropy', 'max_depth': 50, 'max_features': 9, 'n_estimators': 150}\n",
      "evaluando con el score precision con los params {'criterion': 'entropy', 'max_depth': 50, 'max_features': 9, 'n_estimators': 150}\n",
      "evaluando con el score recall con los params {'criterion': 'entropy', 'max_depth': 50, 'max_features': 9, 'n_estimators': 150}\n",
      "evaluando con el score accuracy con los params {'criterion': 'entropy', 'max_depth': 50, 'max_features': 9, 'n_estimators': 200}\n",
      "evaluando con el score f1 con los params {'criterion': 'entropy', 'max_depth': 50, 'max_features': 9, 'n_estimators': 200}\n",
      "evaluando con el score balanced_accuracy con los params {'criterion': 'entropy', 'max_depth': 50, 'max_features': 9, 'n_estimators': 200}\n",
      "evaluando con el score precision con los params {'criterion': 'entropy', 'max_depth': 50, 'max_features': 9, 'n_estimators': 200}\n",
      "evaluando con el score recall con los params {'criterion': 'entropy', 'max_depth': 50, 'max_features': 9, 'n_estimators': 200}\n",
      "evaluando con el score accuracy con los params {'criterion': 'entropy', 'max_depth': 50, 'max_features': 9, 'n_estimators': 250}\n",
      "evaluando con el score f1 con los params {'criterion': 'entropy', 'max_depth': 50, 'max_features': 9, 'n_estimators': 250}\n",
      "evaluando con el score balanced_accuracy con los params {'criterion': 'entropy', 'max_depth': 50, 'max_features': 9, 'n_estimators': 250}\n",
      "evaluando con el score precision con los params {'criterion': 'entropy', 'max_depth': 50, 'max_features': 9, 'n_estimators': 250}\n",
      "evaluando con el score recall con los params {'criterion': 'entropy', 'max_depth': 50, 'max_features': 9, 'n_estimators': 250}\n"
     ]
    }
   ],
   "source": [
    "# Grid de hiperparámetros evaluados\n",
    "# ==============================================================================\n",
    "param_grid = ParameterGrid(\n",
    "                {'n_estimators': [150, 200, 250],\n",
    "                 'max_features': [5, 7, 9],\n",
    "                 'max_depth'   : [None, 3, 20, 50],\n",
    "                 'criterion'   : ['gini', 'entropy']\n",
    "                }\n",
    "            )\n",
    "CV = 10\n",
    "scores = ['accuracy', 'f1', 'balanced_accuracy', 'precision', 'recall']\n",
    "resultados = {'params': [], 'accuracy_mean': [], 'accuracy_std': [], 'f1_mean': [], 'f1_std': [], 'balanced_accuracy_mean': [], 'balanced_accuracy_std': [], 'precision_mean': [], 'precision_std': [], 'recall_mean': [], 'recall_std': []}\n",
    "\n",
    "for params in param_grid:\n",
    "    \n",
    "    model = RandomForestClassifier(\n",
    "                oob_score    = True,\n",
    "                n_jobs       = -1,\n",
    "                random_state = 123,\n",
    "                ** params\n",
    "             )\n",
    "    \n",
    "    resultados['params'].append(params)\n",
    "    for i in scores:\n",
    "        print(f'evaluando con el score {i} con los params {params}')\n",
    "        score_ = cross_val_score(model, features, labels, scoring=i, cv=CV,n_jobs = -1)\n",
    "\n",
    "        desv = score_.std()\n",
    "        mean = score_.mean()\n",
    "        resultados[i+\"_mean\"].append(mean)\n",
    "        resultados[i+\"_std\"].append(desv)\n",
    "\n",
    "\n",
    "# Resultados\n",
    "# ==============================================================================\n",
    "resultados = pd.DataFrame(resultados)\n",
    "resultados = pd.concat([resultados, resultados['params'].apply(pd.Series)], axis=1)\n",
    "resultados = resultados.drop(columns = 'params')"
   ]
  },
  {
   "cell_type": "code",
   "execution_count": 23,
   "metadata": {},
   "outputs": [
    {
     "data": {
      "text/html": [
       "<div>\n",
       "<style scoped>\n",
       "    .dataframe tbody tr th:only-of-type {\n",
       "        vertical-align: middle;\n",
       "    }\n",
       "\n",
       "    .dataframe tbody tr th {\n",
       "        vertical-align: top;\n",
       "    }\n",
       "\n",
       "    .dataframe thead th {\n",
       "        text-align: right;\n",
       "    }\n",
       "</style>\n",
       "<table border=\"1\" class=\"dataframe\">\n",
       "  <thead>\n",
       "    <tr style=\"text-align: right;\">\n",
       "      <th></th>\n",
       "      <th>accuracy_mean</th>\n",
       "      <th>accuracy_std</th>\n",
       "      <th>f1_mean</th>\n",
       "      <th>f1_std</th>\n",
       "      <th>balanced_accuracy_mean</th>\n",
       "      <th>balanced_accuracy_std</th>\n",
       "      <th>precision_mean</th>\n",
       "      <th>precision_std</th>\n",
       "      <th>recall_mean</th>\n",
       "      <th>recall_std</th>\n",
       "      <th>criterion</th>\n",
       "      <th>max_depth</th>\n",
       "      <th>max_features</th>\n",
       "      <th>n_estimators</th>\n",
       "    </tr>\n",
       "  </thead>\n",
       "  <tbody>\n",
       "    <tr>\n",
       "      <th>0</th>\n",
       "      <td>0.772030</td>\n",
       "      <td>0.019480</td>\n",
       "      <td>0.771538</td>\n",
       "      <td>0.022574</td>\n",
       "      <td>0.772073</td>\n",
       "      <td>0.019479</td>\n",
       "      <td>0.780848</td>\n",
       "      <td>0.022414</td>\n",
       "      <td>0.763812</td>\n",
       "      <td>0.038607</td>\n",
       "      <td>gini</td>\n",
       "      <td>NaN</td>\n",
       "      <td>5</td>\n",
       "      <td>150</td>\n",
       "    </tr>\n",
       "    <tr>\n",
       "      <th>1</th>\n",
       "      <td>0.769033</td>\n",
       "      <td>0.021488</td>\n",
       "      <td>0.769960</td>\n",
       "      <td>0.023681</td>\n",
       "      <td>0.769032</td>\n",
       "      <td>0.021519</td>\n",
       "      <td>0.774982</td>\n",
       "      <td>0.027860</td>\n",
       "      <td>0.766832</td>\n",
       "      <td>0.040715</td>\n",
       "      <td>gini</td>\n",
       "      <td>NaN</td>\n",
       "      <td>5</td>\n",
       "      <td>200</td>\n",
       "    </tr>\n",
       "    <tr>\n",
       "      <th>2</th>\n",
       "      <td>0.767543</td>\n",
       "      <td>0.026196</td>\n",
       "      <td>0.768003</td>\n",
       "      <td>0.027051</td>\n",
       "      <td>0.767578</td>\n",
       "      <td>0.026253</td>\n",
       "      <td>0.775042</td>\n",
       "      <td>0.034063</td>\n",
       "      <td>0.762851</td>\n",
       "      <td>0.040320</td>\n",
       "      <td>gini</td>\n",
       "      <td>NaN</td>\n",
       "      <td>5</td>\n",
       "      <td>250</td>\n",
       "    </tr>\n",
       "    <tr>\n",
       "      <th>3</th>\n",
       "      <td>0.769028</td>\n",
       "      <td>0.024269</td>\n",
       "      <td>0.773016</td>\n",
       "      <td>0.026811</td>\n",
       "      <td>0.768846</td>\n",
       "      <td>0.024194</td>\n",
       "      <td>0.766806</td>\n",
       "      <td>0.023875</td>\n",
       "      <td>0.780693</td>\n",
       "      <td>0.044339</td>\n",
       "      <td>gini</td>\n",
       "      <td>NaN</td>\n",
       "      <td>7</td>\n",
       "      <td>150</td>\n",
       "    </tr>\n",
       "    <tr>\n",
       "      <th>4</th>\n",
       "      <td>0.772033</td>\n",
       "      <td>0.029271</td>\n",
       "      <td>0.774561</td>\n",
       "      <td>0.033684</td>\n",
       "      <td>0.771902</td>\n",
       "      <td>0.029119</td>\n",
       "      <td>0.771983</td>\n",
       "      <td>0.025461</td>\n",
       "      <td>0.778693</td>\n",
       "      <td>0.053504</td>\n",
       "      <td>gini</td>\n",
       "      <td>NaN</td>\n",
       "      <td>7</td>\n",
       "      <td>200</td>\n",
       "    </tr>\n",
       "    <tr>\n",
       "      <th>...</th>\n",
       "      <td>...</td>\n",
       "      <td>...</td>\n",
       "      <td>...</td>\n",
       "      <td>...</td>\n",
       "      <td>...</td>\n",
       "      <td>...</td>\n",
       "      <td>...</td>\n",
       "      <td>...</td>\n",
       "      <td>...</td>\n",
       "      <td>...</td>\n",
       "      <td>...</td>\n",
       "      <td>...</td>\n",
       "      <td>...</td>\n",
       "      <td>...</td>\n",
       "    </tr>\n",
       "    <tr>\n",
       "      <th>67</th>\n",
       "      <td>0.769000</td>\n",
       "      <td>0.030533</td>\n",
       "      <td>0.773101</td>\n",
       "      <td>0.032133</td>\n",
       "      <td>0.768867</td>\n",
       "      <td>0.030496</td>\n",
       "      <td>0.766781</td>\n",
       "      <td>0.032349</td>\n",
       "      <td>0.780673</td>\n",
       "      <td>0.044113</td>\n",
       "      <td>entropy</td>\n",
       "      <td>50.0</td>\n",
       "      <td>7</td>\n",
       "      <td>200</td>\n",
       "    </tr>\n",
       "    <tr>\n",
       "      <th>68</th>\n",
       "      <td>0.774030</td>\n",
       "      <td>0.023644</td>\n",
       "      <td>0.779245</td>\n",
       "      <td>0.024301</td>\n",
       "      <td>0.773837</td>\n",
       "      <td>0.023617</td>\n",
       "      <td>0.769134</td>\n",
       "      <td>0.026085</td>\n",
       "      <td>0.790634</td>\n",
       "      <td>0.036159</td>\n",
       "      <td>entropy</td>\n",
       "      <td>50.0</td>\n",
       "      <td>7</td>\n",
       "      <td>250</td>\n",
       "    </tr>\n",
       "    <tr>\n",
       "      <th>69</th>\n",
       "      <td>0.772038</td>\n",
       "      <td>0.022631</td>\n",
       "      <td>0.776596</td>\n",
       "      <td>0.024329</td>\n",
       "      <td>0.771867</td>\n",
       "      <td>0.022602</td>\n",
       "      <td>0.768272</td>\n",
       "      <td>0.020757</td>\n",
       "      <td>0.785683</td>\n",
       "      <td>0.034755</td>\n",
       "      <td>entropy</td>\n",
       "      <td>50.0</td>\n",
       "      <td>9</td>\n",
       "      <td>150</td>\n",
       "    </tr>\n",
       "    <tr>\n",
       "      <th>70</th>\n",
       "      <td>0.777558</td>\n",
       "      <td>0.024873</td>\n",
       "      <td>0.781481</td>\n",
       "      <td>0.025862</td>\n",
       "      <td>0.777407</td>\n",
       "      <td>0.024864</td>\n",
       "      <td>0.775217</td>\n",
       "      <td>0.024605</td>\n",
       "      <td>0.788673</td>\n",
       "      <td>0.037078</td>\n",
       "      <td>entropy</td>\n",
       "      <td>50.0</td>\n",
       "      <td>9</td>\n",
       "      <td>200</td>\n",
       "    </tr>\n",
       "    <tr>\n",
       "      <th>71</th>\n",
       "      <td>0.777048</td>\n",
       "      <td>0.022038</td>\n",
       "      <td>0.781011</td>\n",
       "      <td>0.023650</td>\n",
       "      <td>0.776902</td>\n",
       "      <td>0.021993</td>\n",
       "      <td>0.774711</td>\n",
       "      <td>0.024117</td>\n",
       "      <td>0.788683</td>\n",
       "      <td>0.039500</td>\n",
       "      <td>entropy</td>\n",
       "      <td>50.0</td>\n",
       "      <td>9</td>\n",
       "      <td>250</td>\n",
       "    </tr>\n",
       "  </tbody>\n",
       "</table>\n",
       "<p>72 rows × 14 columns</p>\n",
       "</div>"
      ],
      "text/plain": [
       "    accuracy_mean  accuracy_std   f1_mean    f1_std  balanced_accuracy_mean  \\\n",
       "0        0.772030      0.019480  0.771538  0.022574                0.772073   \n",
       "1        0.769033      0.021488  0.769960  0.023681                0.769032   \n",
       "2        0.767543      0.026196  0.768003  0.027051                0.767578   \n",
       "3        0.769028      0.024269  0.773016  0.026811                0.768846   \n",
       "4        0.772033      0.029271  0.774561  0.033684                0.771902   \n",
       "..            ...           ...       ...       ...                     ...   \n",
       "67       0.769000      0.030533  0.773101  0.032133                0.768867   \n",
       "68       0.774030      0.023644  0.779245  0.024301                0.773837   \n",
       "69       0.772038      0.022631  0.776596  0.024329                0.771867   \n",
       "70       0.777558      0.024873  0.781481  0.025862                0.777407   \n",
       "71       0.777048      0.022038  0.781011  0.023650                0.776902   \n",
       "\n",
       "    balanced_accuracy_std  precision_mean  precision_std  recall_mean  \\\n",
       "0                0.019479        0.780848       0.022414     0.763812   \n",
       "1                0.021519        0.774982       0.027860     0.766832   \n",
       "2                0.026253        0.775042       0.034063     0.762851   \n",
       "3                0.024194        0.766806       0.023875     0.780693   \n",
       "4                0.029119        0.771983       0.025461     0.778693   \n",
       "..                    ...             ...            ...          ...   \n",
       "67               0.030496        0.766781       0.032349     0.780673   \n",
       "68               0.023617        0.769134       0.026085     0.790634   \n",
       "69               0.022602        0.768272       0.020757     0.785683   \n",
       "70               0.024864        0.775217       0.024605     0.788673   \n",
       "71               0.021993        0.774711       0.024117     0.788683   \n",
       "\n",
       "    recall_std criterion  max_depth  max_features  n_estimators  \n",
       "0     0.038607      gini        NaN             5           150  \n",
       "1     0.040715      gini        NaN             5           200  \n",
       "2     0.040320      gini        NaN             5           250  \n",
       "3     0.044339      gini        NaN             7           150  \n",
       "4     0.053504      gini        NaN             7           200  \n",
       "..         ...       ...        ...           ...           ...  \n",
       "67    0.044113   entropy       50.0             7           200  \n",
       "68    0.036159   entropy       50.0             7           250  \n",
       "69    0.034755   entropy       50.0             9           150  \n",
       "70    0.037078   entropy       50.0             9           200  \n",
       "71    0.039500   entropy       50.0             9           250  \n",
       "\n",
       "[72 rows x 14 columns]"
      ]
     },
     "execution_count": 23,
     "metadata": {},
     "output_type": "execute_result"
    }
   ],
   "source": [
    "resultados"
   ]
  },
  {
   "cell_type": "markdown",
   "metadata": {},
   "source": [
    "### Guardando resultados"
   ]
  },
  {
   "cell_type": "code",
   "execution_count": 24,
   "metadata": {},
   "outputs": [],
   "source": [
    "resultados.to_csv(\"data/resultado.csv\",index= False)"
   ]
  },
  {
   "cell_type": "code",
   "execution_count": 3,
   "metadata": {},
   "outputs": [],
   "source": [
    "resultados = pd.read_csv(\"data/resultado.csv\")"
   ]
  },
  {
   "cell_type": "code",
   "execution_count": 4,
   "metadata": {},
   "outputs": [
    {
     "data": {
      "text/html": [
       "<div>\n",
       "<style scoped>\n",
       "    .dataframe tbody tr th:only-of-type {\n",
       "        vertical-align: middle;\n",
       "    }\n",
       "\n",
       "    .dataframe tbody tr th {\n",
       "        vertical-align: top;\n",
       "    }\n",
       "\n",
       "    .dataframe thead th {\n",
       "        text-align: right;\n",
       "    }\n",
       "</style>\n",
       "<table border=\"1\" class=\"dataframe\">\n",
       "  <thead>\n",
       "    <tr style=\"text-align: right;\">\n",
       "      <th></th>\n",
       "      <th>accuracy_mean</th>\n",
       "      <th>accuracy_std</th>\n",
       "      <th>f1_mean</th>\n",
       "      <th>f1_std</th>\n",
       "      <th>balanced_accuracy_mean</th>\n",
       "      <th>balanced_accuracy_std</th>\n",
       "      <th>precision_mean</th>\n",
       "      <th>precision_std</th>\n",
       "      <th>recall_mean</th>\n",
       "      <th>recall_std</th>\n",
       "      <th>criterion</th>\n",
       "      <th>max_depth</th>\n",
       "      <th>max_features</th>\n",
       "      <th>n_estimators</th>\n",
       "    </tr>\n",
       "  </thead>\n",
       "  <tbody>\n",
       "    <tr>\n",
       "      <th>35</th>\n",
       "      <td>0.779058</td>\n",
       "      <td>0.030277</td>\n",
       "      <td>0.784425</td>\n",
       "      <td>0.031630</td>\n",
       "      <td>0.778822</td>\n",
       "      <td>0.030239</td>\n",
       "      <td>0.772700</td>\n",
       "      <td>0.029170</td>\n",
       "      <td>0.797584</td>\n",
       "      <td>0.044646</td>\n",
       "      <td>gini</td>\n",
       "      <td>50.0</td>\n",
       "      <td>9</td>\n",
       "      <td>250</td>\n",
       "    </tr>\n",
       "    <tr>\n",
       "      <th>26</th>\n",
       "      <td>0.778548</td>\n",
       "      <td>0.028690</td>\n",
       "      <td>0.781890</td>\n",
       "      <td>0.030984</td>\n",
       "      <td>0.778433</td>\n",
       "      <td>0.028605</td>\n",
       "      <td>0.776614</td>\n",
       "      <td>0.024577</td>\n",
       "      <td>0.787644</td>\n",
       "      <td>0.040393</td>\n",
       "      <td>gini</td>\n",
       "      <td>20.0</td>\n",
       "      <td>9</td>\n",
       "      <td>250</td>\n",
       "    </tr>\n",
       "    <tr>\n",
       "      <th>70</th>\n",
       "      <td>0.777558</td>\n",
       "      <td>0.024873</td>\n",
       "      <td>0.781481</td>\n",
       "      <td>0.025862</td>\n",
       "      <td>0.777407</td>\n",
       "      <td>0.024864</td>\n",
       "      <td>0.775217</td>\n",
       "      <td>0.024605</td>\n",
       "      <td>0.788673</td>\n",
       "      <td>0.037078</td>\n",
       "      <td>entropy</td>\n",
       "      <td>50.0</td>\n",
       "      <td>9</td>\n",
       "      <td>200</td>\n",
       "    </tr>\n",
       "    <tr>\n",
       "      <th>29</th>\n",
       "      <td>0.777545</td>\n",
       "      <td>0.020443</td>\n",
       "      <td>0.780911</td>\n",
       "      <td>0.024728</td>\n",
       "      <td>0.777407</td>\n",
       "      <td>0.020317</td>\n",
       "      <td>0.775978</td>\n",
       "      <td>0.020615</td>\n",
       "      <td>0.787653</td>\n",
       "      <td>0.046194</td>\n",
       "      <td>gini</td>\n",
       "      <td>50.0</td>\n",
       "      <td>5</td>\n",
       "      <td>250</td>\n",
       "    </tr>\n",
       "    <tr>\n",
       "      <th>71</th>\n",
       "      <td>0.777048</td>\n",
       "      <td>0.022038</td>\n",
       "      <td>0.781011</td>\n",
       "      <td>0.023650</td>\n",
       "      <td>0.776902</td>\n",
       "      <td>0.021993</td>\n",
       "      <td>0.774711</td>\n",
       "      <td>0.024117</td>\n",
       "      <td>0.788683</td>\n",
       "      <td>0.039500</td>\n",
       "      <td>entropy</td>\n",
       "      <td>50.0</td>\n",
       "      <td>9</td>\n",
       "      <td>250</td>\n",
       "    </tr>\n",
       "    <tr>\n",
       "      <th>...</th>\n",
       "      <td>...</td>\n",
       "      <td>...</td>\n",
       "      <td>...</td>\n",
       "      <td>...</td>\n",
       "      <td>...</td>\n",
       "      <td>...</td>\n",
       "      <td>...</td>\n",
       "      <td>...</td>\n",
       "      <td>...</td>\n",
       "      <td>...</td>\n",
       "      <td>...</td>\n",
       "      <td>...</td>\n",
       "      <td>...</td>\n",
       "      <td>...</td>\n",
       "    </tr>\n",
       "    <tr>\n",
       "      <th>16</th>\n",
       "      <td>0.730955</td>\n",
       "      <td>0.015798</td>\n",
       "      <td>0.762591</td>\n",
       "      <td>0.014977</td>\n",
       "      <td>0.729692</td>\n",
       "      <td>0.015615</td>\n",
       "      <td>0.687962</td>\n",
       "      <td>0.015599</td>\n",
       "      <td>0.856178</td>\n",
       "      <td>0.029054</td>\n",
       "      <td>gini</td>\n",
       "      <td>3.0</td>\n",
       "      <td>9</td>\n",
       "      <td>200</td>\n",
       "    </tr>\n",
       "    <tr>\n",
       "      <th>45</th>\n",
       "      <td>0.718432</td>\n",
       "      <td>0.024148</td>\n",
       "      <td>0.750867</td>\n",
       "      <td>0.022933</td>\n",
       "      <td>0.717191</td>\n",
       "      <td>0.024068</td>\n",
       "      <td>0.679121</td>\n",
       "      <td>0.023734</td>\n",
       "      <td>0.841277</td>\n",
       "      <td>0.042992</td>\n",
       "      <td>entropy</td>\n",
       "      <td>3.0</td>\n",
       "      <td>5</td>\n",
       "      <td>150</td>\n",
       "    </tr>\n",
       "    <tr>\n",
       "      <th>9</th>\n",
       "      <td>0.717937</td>\n",
       "      <td>0.020601</td>\n",
       "      <td>0.749667</td>\n",
       "      <td>0.019958</td>\n",
       "      <td>0.716731</td>\n",
       "      <td>0.020661</td>\n",
       "      <td>0.679589</td>\n",
       "      <td>0.020144</td>\n",
       "      <td>0.837337</td>\n",
       "      <td>0.039799</td>\n",
       "      <td>gini</td>\n",
       "      <td>3.0</td>\n",
       "      <td>5</td>\n",
       "      <td>150</td>\n",
       "    </tr>\n",
       "    <tr>\n",
       "      <th>46</th>\n",
       "      <td>0.714437</td>\n",
       "      <td>0.028575</td>\n",
       "      <td>0.750793</td>\n",
       "      <td>0.026912</td>\n",
       "      <td>0.713081</td>\n",
       "      <td>0.028373</td>\n",
       "      <td>0.671487</td>\n",
       "      <td>0.025431</td>\n",
       "      <td>0.853228</td>\n",
       "      <td>0.048367</td>\n",
       "      <td>entropy</td>\n",
       "      <td>3.0</td>\n",
       "      <td>5</td>\n",
       "      <td>200</td>\n",
       "    </tr>\n",
       "    <tr>\n",
       "      <th>10</th>\n",
       "      <td>0.713927</td>\n",
       "      <td>0.023831</td>\n",
       "      <td>0.749441</td>\n",
       "      <td>0.019223</td>\n",
       "      <td>0.712610</td>\n",
       "      <td>0.023838</td>\n",
       "      <td>0.673093</td>\n",
       "      <td>0.025900</td>\n",
       "      <td>0.847267</td>\n",
       "      <td>0.036959</td>\n",
       "      <td>gini</td>\n",
       "      <td>3.0</td>\n",
       "      <td>5</td>\n",
       "      <td>200</td>\n",
       "    </tr>\n",
       "  </tbody>\n",
       "</table>\n",
       "<p>72 rows × 14 columns</p>\n",
       "</div>"
      ],
      "text/plain": [
       "    accuracy_mean  accuracy_std   f1_mean    f1_std  balanced_accuracy_mean  \\\n",
       "35       0.779058      0.030277  0.784425  0.031630                0.778822   \n",
       "26       0.778548      0.028690  0.781890  0.030984                0.778433   \n",
       "70       0.777558      0.024873  0.781481  0.025862                0.777407   \n",
       "29       0.777545      0.020443  0.780911  0.024728                0.777407   \n",
       "71       0.777048      0.022038  0.781011  0.023650                0.776902   \n",
       "..            ...           ...       ...       ...                     ...   \n",
       "16       0.730955      0.015798  0.762591  0.014977                0.729692   \n",
       "45       0.718432      0.024148  0.750867  0.022933                0.717191   \n",
       "9        0.717937      0.020601  0.749667  0.019958                0.716731   \n",
       "46       0.714437      0.028575  0.750793  0.026912                0.713081   \n",
       "10       0.713927      0.023831  0.749441  0.019223                0.712610   \n",
       "\n",
       "    balanced_accuracy_std  precision_mean  precision_std  recall_mean  \\\n",
       "35               0.030239        0.772700       0.029170     0.797584   \n",
       "26               0.028605        0.776614       0.024577     0.787644   \n",
       "70               0.024864        0.775217       0.024605     0.788673   \n",
       "29               0.020317        0.775978       0.020615     0.787653   \n",
       "71               0.021993        0.774711       0.024117     0.788683   \n",
       "..                    ...             ...            ...          ...   \n",
       "16               0.015615        0.687962       0.015599     0.856178   \n",
       "45               0.024068        0.679121       0.023734     0.841277   \n",
       "9                0.020661        0.679589       0.020144     0.837337   \n",
       "46               0.028373        0.671487       0.025431     0.853228   \n",
       "10               0.023838        0.673093       0.025900     0.847267   \n",
       "\n",
       "    recall_std criterion  max_depth  max_features  n_estimators  \n",
       "35    0.044646      gini       50.0             9           250  \n",
       "26    0.040393      gini       20.0             9           250  \n",
       "70    0.037078   entropy       50.0             9           200  \n",
       "29    0.046194      gini       50.0             5           250  \n",
       "71    0.039500   entropy       50.0             9           250  \n",
       "..         ...       ...        ...           ...           ...  \n",
       "16    0.029054      gini        3.0             9           200  \n",
       "45    0.042992   entropy        3.0             5           150  \n",
       "9     0.039799      gini        3.0             5           150  \n",
       "46    0.048367   entropy        3.0             5           200  \n",
       "10    0.036959      gini        3.0             5           200  \n",
       "\n",
       "[72 rows x 14 columns]"
      ]
     },
     "execution_count": 4,
     "metadata": {},
     "output_type": "execute_result"
    }
   ],
   "source": [
    "resultados.sort_values(by=['accuracy_mean'],ascending=False)"
   ]
  },
  {
   "cell_type": "code",
   "execution_count": 8,
   "metadata": {},
   "outputs": [
    {
     "data": {
      "text/html": [
       "<div>\n",
       "<style scoped>\n",
       "    .dataframe tbody tr th:only-of-type {\n",
       "        vertical-align: middle;\n",
       "    }\n",
       "\n",
       "    .dataframe tbody tr th {\n",
       "        vertical-align: top;\n",
       "    }\n",
       "\n",
       "    .dataframe thead th {\n",
       "        text-align: right;\n",
       "    }\n",
       "</style>\n",
       "<table border=\"1\" class=\"dataframe\">\n",
       "  <thead>\n",
       "    <tr style=\"text-align: right;\">\n",
       "      <th></th>\n",
       "      <th>accuracy_mean</th>\n",
       "      <th>accuracy_std</th>\n",
       "      <th>criterion</th>\n",
       "      <th>max_depth</th>\n",
       "      <th>max_features</th>\n",
       "      <th>n_estimators</th>\n",
       "    </tr>\n",
       "  </thead>\n",
       "  <tbody>\n",
       "    <tr>\n",
       "      <th>35</th>\n",
       "      <td>0.779058</td>\n",
       "      <td>0.030277</td>\n",
       "      <td>gini</td>\n",
       "      <td>50.0</td>\n",
       "      <td>9</td>\n",
       "      <td>250</td>\n",
       "    </tr>\n",
       "    <tr>\n",
       "      <th>26</th>\n",
       "      <td>0.778548</td>\n",
       "      <td>0.028690</td>\n",
       "      <td>gini</td>\n",
       "      <td>20.0</td>\n",
       "      <td>9</td>\n",
       "      <td>250</td>\n",
       "    </tr>\n",
       "    <tr>\n",
       "      <th>70</th>\n",
       "      <td>0.777558</td>\n",
       "      <td>0.024873</td>\n",
       "      <td>entropy</td>\n",
       "      <td>50.0</td>\n",
       "      <td>9</td>\n",
       "      <td>200</td>\n",
       "    </tr>\n",
       "    <tr>\n",
       "      <th>29</th>\n",
       "      <td>0.777545</td>\n",
       "      <td>0.020443</td>\n",
       "      <td>gini</td>\n",
       "      <td>50.0</td>\n",
       "      <td>5</td>\n",
       "      <td>250</td>\n",
       "    </tr>\n",
       "    <tr>\n",
       "      <th>71</th>\n",
       "      <td>0.777048</td>\n",
       "      <td>0.022038</td>\n",
       "      <td>entropy</td>\n",
       "      <td>50.0</td>\n",
       "      <td>9</td>\n",
       "      <td>250</td>\n",
       "    </tr>\n",
       "    <tr>\n",
       "      <th>6</th>\n",
       "      <td>0.777043</td>\n",
       "      <td>0.019824</td>\n",
       "      <td>gini</td>\n",
       "      <td>NaN</td>\n",
       "      <td>9</td>\n",
       "      <td>150</td>\n",
       "    </tr>\n",
       "    <tr>\n",
       "      <th>7</th>\n",
       "      <td>0.775053</td>\n",
       "      <td>0.023208</td>\n",
       "      <td>gini</td>\n",
       "      <td>NaN</td>\n",
       "      <td>9</td>\n",
       "      <td>200</td>\n",
       "    </tr>\n",
       "    <tr>\n",
       "      <th>56</th>\n",
       "      <td>0.775035</td>\n",
       "      <td>0.029474</td>\n",
       "      <td>entropy</td>\n",
       "      <td>20.0</td>\n",
       "      <td>5</td>\n",
       "      <td>250</td>\n",
       "    </tr>\n",
       "    <tr>\n",
       "      <th>24</th>\n",
       "      <td>0.774525</td>\n",
       "      <td>0.033461</td>\n",
       "      <td>gini</td>\n",
       "      <td>20.0</td>\n",
       "      <td>9</td>\n",
       "      <td>150</td>\n",
       "    </tr>\n",
       "    <tr>\n",
       "      <th>41</th>\n",
       "      <td>0.774033</td>\n",
       "      <td>0.021833</td>\n",
       "      <td>entropy</td>\n",
       "      <td>NaN</td>\n",
       "      <td>7</td>\n",
       "      <td>250</td>\n",
       "    </tr>\n",
       "  </tbody>\n",
       "</table>\n",
       "</div>"
      ],
      "text/plain": [
       "    accuracy_mean  accuracy_std criterion  max_depth  max_features  \\\n",
       "35       0.779058      0.030277      gini       50.0             9   \n",
       "26       0.778548      0.028690      gini       20.0             9   \n",
       "70       0.777558      0.024873   entropy       50.0             9   \n",
       "29       0.777545      0.020443      gini       50.0             5   \n",
       "71       0.777048      0.022038   entropy       50.0             9   \n",
       "6        0.777043      0.019824      gini        NaN             9   \n",
       "7        0.775053      0.023208      gini        NaN             9   \n",
       "56       0.775035      0.029474   entropy       20.0             5   \n",
       "24       0.774525      0.033461      gini       20.0             9   \n",
       "41       0.774033      0.021833   entropy        NaN             7   \n",
       "\n",
       "    n_estimators  \n",
       "35           250  \n",
       "26           250  \n",
       "70           200  \n",
       "29           250  \n",
       "71           250  \n",
       "6            150  \n",
       "7            200  \n",
       "56           250  \n",
       "24           150  \n",
       "41           250  "
      ]
     },
     "execution_count": 8,
     "metadata": {},
     "output_type": "execute_result"
    }
   ],
   "source": [
    "resultados[[\"accuracy_mean\",\"accuracy_std\",\"criterion\",\"max_depth\",\"max_features\",\"n_estimators\"]].sort_values(by=['accuracy_mean'],ascending=False).head(10)"
   ]
  },
  {
   "cell_type": "markdown",
   "metadata": {},
   "source": [
    "# Modelo final"
   ]
  },
  {
   "cell_type": "code",
   "execution_count": 5,
   "metadata": {},
   "outputs": [
    {
     "data": {
      "text/plain": [
       "998437"
      ]
     },
     "execution_count": 5,
     "metadata": {},
     "output_type": "execute_result"
    }
   ],
   "source": [
    "df = pd.read_csv('data/AmazonPreprocessed.csv')\n",
    "particion = (100-25)/100\n",
    "X_train, X_test, y_train, y_test = train_test_split(df['reseña'],df['clasificacion'], test_size=particion, random_state=42)\n",
    "df = pd.concat([y_train, X_train], axis=1)\n",
    "particion = (100-10)/100\n",
    "len(df.index)\n",
    "\n"
   ]
  },
  {
   "cell_type": "code",
   "execution_count": 6,
   "metadata": {},
   "outputs": [],
   "source": [
    "\n",
    "X_train, X_test, y_train, y_test = train_test_split(df['reseña'],df['clasificacion'], test_size=particion, random_state=69)"
   ]
  },
  {
   "cell_type": "markdown",
   "metadata": {},
   "source": [
    "## Entrenamiento"
   ]
  },
  {
   "cell_type": "code",
   "execution_count": 7,
   "metadata": {},
   "outputs": [
    {
     "name": "stdout",
     "output_type": "stream",
     "text": [
      "vectoricer done\n"
     ]
    },
    {
     "data": {
      "text/html": [
       "<style>#sk-container-id-1 {color: black;background-color: white;}#sk-container-id-1 pre{padding: 0;}#sk-container-id-1 div.sk-toggleable {background-color: white;}#sk-container-id-1 label.sk-toggleable__label {cursor: pointer;display: block;width: 100%;margin-bottom: 0;padding: 0.3em;box-sizing: border-box;text-align: center;}#sk-container-id-1 label.sk-toggleable__label-arrow:before {content: \"▸\";float: left;margin-right: 0.25em;color: #696969;}#sk-container-id-1 label.sk-toggleable__label-arrow:hover:before {color: black;}#sk-container-id-1 div.sk-estimator:hover label.sk-toggleable__label-arrow:before {color: black;}#sk-container-id-1 div.sk-toggleable__content {max-height: 0;max-width: 0;overflow: hidden;text-align: left;background-color: #f0f8ff;}#sk-container-id-1 div.sk-toggleable__content pre {margin: 0.2em;color: black;border-radius: 0.25em;background-color: #f0f8ff;}#sk-container-id-1 input.sk-toggleable__control:checked~div.sk-toggleable__content {max-height: 200px;max-width: 100%;overflow: auto;}#sk-container-id-1 input.sk-toggleable__control:checked~label.sk-toggleable__label-arrow:before {content: \"▾\";}#sk-container-id-1 div.sk-estimator input.sk-toggleable__control:checked~label.sk-toggleable__label {background-color: #d4ebff;}#sk-container-id-1 div.sk-label input.sk-toggleable__control:checked~label.sk-toggleable__label {background-color: #d4ebff;}#sk-container-id-1 input.sk-hidden--visually {border: 0;clip: rect(1px 1px 1px 1px);clip: rect(1px, 1px, 1px, 1px);height: 1px;margin: -1px;overflow: hidden;padding: 0;position: absolute;width: 1px;}#sk-container-id-1 div.sk-estimator {font-family: monospace;background-color: #f0f8ff;border: 1px dotted black;border-radius: 0.25em;box-sizing: border-box;margin-bottom: 0.5em;}#sk-container-id-1 div.sk-estimator:hover {background-color: #d4ebff;}#sk-container-id-1 div.sk-parallel-item::after {content: \"\";width: 100%;border-bottom: 1px solid gray;flex-grow: 1;}#sk-container-id-1 div.sk-label:hover label.sk-toggleable__label {background-color: #d4ebff;}#sk-container-id-1 div.sk-serial::before {content: \"\";position: absolute;border-left: 1px solid gray;box-sizing: border-box;top: 0;bottom: 0;left: 50%;z-index: 0;}#sk-container-id-1 div.sk-serial {display: flex;flex-direction: column;align-items: center;background-color: white;padding-right: 0.2em;padding-left: 0.2em;position: relative;}#sk-container-id-1 div.sk-item {position: relative;z-index: 1;}#sk-container-id-1 div.sk-parallel {display: flex;align-items: stretch;justify-content: center;background-color: white;position: relative;}#sk-container-id-1 div.sk-item::before, #sk-container-id-1 div.sk-parallel-item::before {content: \"\";position: absolute;border-left: 1px solid gray;box-sizing: border-box;top: 0;bottom: 0;left: 50%;z-index: -1;}#sk-container-id-1 div.sk-parallel-item {display: flex;flex-direction: column;z-index: 1;position: relative;background-color: white;}#sk-container-id-1 div.sk-parallel-item:first-child::after {align-self: flex-end;width: 50%;}#sk-container-id-1 div.sk-parallel-item:last-child::after {align-self: flex-start;width: 50%;}#sk-container-id-1 div.sk-parallel-item:only-child::after {width: 0;}#sk-container-id-1 div.sk-dashed-wrapped {border: 1px dashed gray;margin: 0 0.4em 0.5em 0.4em;box-sizing: border-box;padding-bottom: 0.4em;background-color: white;}#sk-container-id-1 div.sk-label label {font-family: monospace;font-weight: bold;display: inline-block;line-height: 1.2em;}#sk-container-id-1 div.sk-label-container {text-align: center;}#sk-container-id-1 div.sk-container {/* jupyter's `normalize.less` sets `[hidden] { display: none; }` but bootstrap.min.css set `[hidden] { display: none !important; }` so we also need the `!important` here to be able to override the default hidden behavior on the sphinx rendered scikit-learn.org. See: https://github.com/scikit-learn/scikit-learn/issues/21755 */display: inline-block !important;position: relative;}#sk-container-id-1 div.sk-text-repr-fallback {display: none;}</style><div id=\"sk-container-id-1\" class=\"sk-top-container\"><div class=\"sk-text-repr-fallback\"><pre>RandomForestClassifier(max_features=9, n_jobs=-1, oob_score=True,\n",
       "                       random_state=123)</pre><b>In a Jupyter environment, please rerun this cell to show the HTML representation or trust the notebook. <br />On GitHub, the HTML representation is unable to render, please try loading this page with nbviewer.org.</b></div><div class=\"sk-container\" hidden><div class=\"sk-item\"><div class=\"sk-estimator sk-toggleable\"><input class=\"sk-toggleable__control sk-hidden--visually\" id=\"sk-estimator-id-1\" type=\"checkbox\" checked><label for=\"sk-estimator-id-1\" class=\"sk-toggleable__label sk-toggleable__label-arrow\">RandomForestClassifier</label><div class=\"sk-toggleable__content\"><pre>RandomForestClassifier(max_features=9, n_jobs=-1, oob_score=True,\n",
       "                       random_state=123)</pre></div></div></div></div></div>"
      ],
      "text/plain": [
       "RandomForestClassifier(max_features=9, n_jobs=-1, oob_score=True,\n",
       "                       random_state=123)"
      ]
     },
     "execution_count": 7,
     "metadata": {},
     "output_type": "execute_result"
    }
   ],
   "source": [
    "vectorizer = load_vectorizer()\n",
    "\n",
    "labels = y_train\n",
    "features = vectorizer.transform(X_train)\n",
    "\n",
    "print(\"vectoricer done\")\n",
    "\n",
    "Final_model = RandomForestClassifier(\n",
    "            oob_score    = True,\n",
    "            n_jobs       = -1,\n",
    "            random_state = 123,\n",
    "            criterion = \"gini\",\n",
    "            max_depth = None,\n",
    "            max_features = 9,\n",
    "            n_estimators = 100\n",
    "            )\n",
    "\n",
    "Final_model.fit(features,labels)\n",
    "\n"
   ]
  },
  {
   "cell_type": "code",
   "execution_count": 53,
   "metadata": {},
   "outputs": [],
   "source": [
    "with open(\"Modelo_Final_Clasificacion.pkl\", 'wb') as file:\n",
    "        pickle.dump(Final_model, file)"
   ]
  },
  {
   "cell_type": "code",
   "execution_count": 8,
   "metadata": {},
   "outputs": [],
   "source": [
    "\n",
    "y_test_predict = Final_model.predict(vectorizer.transform(X_test))"
   ]
  },
  {
   "cell_type": "code",
   "execution_count": 11,
   "metadata": {},
   "outputs": [],
   "source": [
    "y_test = y_test-1\n",
    "y_test_predict = y_test_predict-1"
   ]
  },
  {
   "cell_type": "code",
   "execution_count": 34,
   "metadata": {},
   "outputs": [
    {
     "data": {
      "text/plain": [
       "array([0, 1], dtype=int64)"
      ]
     },
     "execution_count": 34,
     "metadata": {},
     "output_type": "execute_result"
    }
   ],
   "source": [
    "np.unique(y_test_predict)"
   ]
  },
  {
   "cell_type": "code",
   "execution_count": 35,
   "metadata": {},
   "outputs": [
    {
     "data": {
      "image/png": "[encoded data removed]",
      "text/plain": [
       "<Figure size 640x480 with 2 Axes>"
      ]
     },
     "metadata": {},
     "output_type": "display_data"
    },
    {
     "name": "stdout",
     "output_type": "stream",
     "text": [
      "              precision    recall  f1-score   support\n",
      "\n",
      "           0       0.80      0.82      0.81    448989\n",
      "           1       0.82      0.80      0.81    449605\n",
      "\n",
      "    accuracy                           0.81    898594\n",
      "   macro avg       0.81      0.81      0.81    898594\n",
      "weighted avg       0.81      0.81      0.81    898594\n",
      "\n"
     ]
    }
   ],
   "source": [
    "\n",
    "cm = confusion_matrix(y_test, y_test_predict)\n",
    "\n",
    "disp = ConfusionMatrixDisplay(confusion_matrix=cm, display_labels=np.unique(y_test))\n",
    "\n",
    "disp.plot(cmap='Blues')\n",
    "\n",
    "plt.title(\"RandomForestClassifier\")\n",
    "plt.grid(False)\n",
    "plt.show()\n",
    "print(classification_report(y_test, y_test_predict))"
   ]
  },
  {
   "cell_type": "code",
   "execution_count": 63,
   "metadata": {},
   "outputs": [
    {
     "data": {
      "text/plain": [
       "898594"
      ]
     },
     "execution_count": 63,
     "metadata": {},
     "output_type": "execute_result"
    }
   ],
   "source": [
    "len(y_test)"
   ]
  },
  {
   "cell_type": "code",
   "execution_count": 73,
   "metadata": {},
   "outputs": [
    {
     "name": "stdout",
     "output_type": "stream",
     "text": [
      "Be prepared to pump it up. Works great! Son loves the color and thinks he has the best ball on the team\n"
     ]
    }
   ],
   "source": [
    "val = \"Be prepared to pump it up. Works great! Son loves the color and thinks he has the best ball on the team\"\n",
    "print(val)\n"
   ]
  },
  {
   "cell_type": "code",
   "execution_count": 74,
   "metadata": {},
   "outputs": [
    {
     "name": "stdout",
     "output_type": "stream",
     "text": [
      " be prepar to pump it up work great son love the color and think he has the best ball on the team\n"
     ]
    }
   ],
   "source": [
    "val = process(val)\n",
    "print(val)"
   ]
  },
  {
   "cell_type": "code",
   "execution_count": 75,
   "metadata": {},
   "outputs": [],
   "source": [
    "val = vectorizer.transform([val])\n",
    "terms = vectorizer.get_feature_names_out()\n"
   ]
  },
  {
   "cell_type": "code",
   "execution_count": 76,
   "metadata": {},
   "outputs": [
    {
     "name": "stdout",
     "output_type": "stream",
     "text": [
      "  (0, 612)\t0.4854666208854177\n",
      "  (0, 611)\t0.2584008246452286\n",
      "  (0, 546)\t0.2970686891501632\n",
      "  (0, 505)\t0.43466183012198817\n",
      "  (0, 323)\t0.2653117666967371\n",
      "  (0, 233)\t0.24089644862944798\n",
      "  (0, 98)\t0.4395080697554143\n",
      "  (0, 54)\t0.3142955381487512\n",
      "631\n"
     ]
    }
   ],
   "source": [
    "print(val)\n",
    "print(len(terms))"
   ]
  },
  {
   "cell_type": "code",
   "execution_count": 52,
   "metadata": {},
   "outputs": [
    {
     "name": "stdout",
     "output_type": "stream",
     "text": [
      "[2]\n"
     ]
    }
   ],
   "source": [
    "val = Final_model.predict(val)\n",
    "print(val)"
   ]
  },
  {
   "cell_type": "markdown",
   "metadata": {},
   "source": [
    "# Conclusiones\n",
    "\n",
    "La calidad del modelo depende del metodo de vectorización y el dataset que se usa para crearlo.\n",
    "\n",
    "El modelo no tiene la capacidad de identificar el sarcasmo\n",
    "\n",
    "Pandas no es adecuado para procesar grandes volumenes de datos por su alto consumo de memoria.  "
   ]
  },
  {
   "cell_type": "markdown",
   "metadata": {},
   "source": [
    "# Trabajos futuros\n",
    "\n",
    "Implementar el metodo de vectorizacion en herramientas orientadas a big data, como Spark,\n",
    "para aumentar el numero de palabras y agregar tuplas de estas, con el fin de mejorar el contexto"
   ]
  }
 ],
 "metadata": {
  "colab": {
   "authorship_tag": "ABX9TyPGmZDoc8KrT9747nWmXz6N",
   "name": "",
   "version": ""
  },
  "kernelspec": {
   "display_name": "Python 3 (ipykernel)",
   "language": "python",
   "name": "python3"
  },
  "language_info": {
   "codemirror_mode": {
    "name": "ipython",
    "version": 3
   },
   "file_extension": ".py",
   "mimetype": "text/x-python",
   "name": "python",
   "nbconvert_exporter": "python",
   "pygments_lexer": "ipython3",
   "version": "3.10.12"
  }
 },
 "nbformat": 4,
 "nbformat_minor": 4
}
