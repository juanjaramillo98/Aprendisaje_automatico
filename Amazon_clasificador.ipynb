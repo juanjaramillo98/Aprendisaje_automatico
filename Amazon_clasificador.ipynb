{
 "cells": [
  {
   "cell_type": "markdown",
   "metadata": {
    "id": "xPE390jhviuN"
   },
   "source": [
    "# intro"
   ]
  },
  {
   "cell_type": "markdown",
   "metadata": {
    "id": "m0u1U7iisuPQ"
   },
   "source": [
    "## Autores\n",
    "\n",
    "Juan Pablo Jaramillo Tobon CC 1216727112\n",
    "\n",
    "Daniel Alejandro Higuita Usuga CC 1152706601"
   ]
  },
  {
   "cell_type": "markdown",
   "metadata": {
    "id": "7Ohr6QSBuUR5"
   },
   "source": [
    "## Dataset\n",
    "\n",
    "El conjunto de datos de polaridad de reseñas de Amazon se construye tomando las puntuaciones de reseñas 1 y 2 como negativas, y 4 y 5 como positivas. Se ignoran las muestras de puntuación 3. En el conjunto de datos, la clase 1 es negativa y la clase 2 es positiva.\n",
    "\n",
    "Los CSV contienen polaridad, título y texto. Estas 3 columnas en ellos corresponden al índice de clase (1 o 2), título de la reseña y texto de la reseña.\n",
    "\n",
    " * Polaridad: 1 para negativo y 2 para positivo.\n",
    " * título - título de reseña\n",
    " * texto - cuerpo de reseña"
   ]
  },
  {
   "cell_type": "markdown",
   "metadata": {
    "id": "D9rpAuPHu0Rs"
   },
   "source": [
    "## Objetivo\n",
    "\n",
    "El objetivo es la creacion de un modelo que permita la clasificacion de reseñas de productos en amazon"
   ]
  },
  {
   "cell_type": "markdown",
   "metadata": {},
   "source": [
    "# Dependencias"
   ]
  },
  {
   "cell_type": "markdown",
   "metadata": {},
   "source": [
    "## Environment Variables"
   ]
  },
  {
   "cell_type": "code",
   "execution_count": 1,
   "metadata": {},
   "outputs": [],
   "source": [
    "# Carga de env variables \n",
    "# ==============================================================================\n",
    "import yaml\n",
    "with open('config.yaml') as f:\n",
    "    env_vars = yaml.safe_load(f)"
   ]
  },
  {
   "cell_type": "markdown",
   "metadata": {
    "id": "ArgBnAShvLhq"
   },
   "source": [
    "## Instalación de Dependencias"
   ]
  },
  {
   "cell_type": "code",
   "execution_count": 2,
   "metadata": {},
   "outputs": [],
   "source": [
    "if env_vars['install_dependencies']:\n",
    "    %pip install -r requirements.txt\n",
    "    %pip install swifter"
   ]
  },
  {
   "cell_type": "markdown",
   "metadata": {
    "id": "MZBdr3QevuLi"
   },
   "source": [
    "## Librerias"
   ]
  },
  {
   "cell_type": "code",
   "execution_count": 3,
   "metadata": {
    "colab": {
     "background_save": true,
     "base_uri": "https://localhost:8080/"
    },
    "executionInfo": {
     "elapsed": 3488,
     "status": "ok",
     "timestamp": 1714185578831,
     "user": {
      "displayName": "Juan Pablo Jaramillo",
      "userId": "00033109649246090021"
     },
     "user_tz": 300
    },
    "id": "8cFfQZgWq8IT"
   },
   "outputs": [
    {
     "name": "stderr",
     "output_type": "stream",
     "text": [
      "[nltk_data] Downloading package stopwords to\n",
      "[nltk_data]     C:\\Users\\nitro\\AppData\\Roaming\\nltk_data...\n",
      "[nltk_data]   Package stopwords is already up-to-date!\n",
      "[nltk_data] Downloading package punkt to\n",
      "[nltk_data]     C:\\Users\\nitro\\AppData\\Roaming\\nltk_data...\n",
      "[nltk_data]   Package punkt is already up-to-date!\n"
     ]
    }
   ],
   "source": [
    "# Tratamiento de datos\n",
    "# ==============================================================================\n",
    "import pandas as pd\n",
    "import numpy as np\n",
    "import re\n",
    "from pandas import DataFrame\n",
    "import joblib\n",
    "import string\n",
    "\n",
    "# Gráficos\n",
    "# ==============================================================================\n",
    "import matplotlib.pyplot as plt\n",
    "from matplotlib import style\n",
    "import seaborn as sns\n",
    "\n",
    "# Preprocesado y modelado\n",
    "# ==============================================================================\n",
    "import nltk\n",
    "from string import punctuation\n",
    "from nltk.corpus import stopwords\n",
    "from nltk.stem import SnowballStemmer\n",
    "from nltk.tokenize import word_tokenize\n",
    "from functools import reduce\n",
    "import swifter\n",
    "\n",
    "nltk.download('stopwords')\n",
    "nltk.download('punkt')\n",
    "\n",
    "#import sklearn.externals\n",
    "\n",
    "from sklearn.feature_extraction.text import TfidfVectorizer\n",
    "\n",
    "from sklearn.model_selection import cross_val_score\n",
    "from sklearn.model_selection import train_test_split\n",
    "from sklearn.model_selection import ParameterGrid\n",
    "from sklearn.model_selection import GridSearchCV\n",
    "\n",
    "from sklearn.linear_model import LogisticRegression\n",
    "from sklearn.ensemble import RandomForestClassifier\n",
    "from sklearn.naive_bayes import MultinomialNB\n",
    "from sklearn.svm import LinearSVC\n",
    "from sklearn.neighbors import KNeighborsClassifier\n",
    "from sklearn.ensemble import GradientBoostingClassifier\n",
    "from sklearn.tree import DecisionTreeClassifier\n",
    "\n",
    "from sklearn.metrics import confusion_matrix\n",
    "from sklearn import metrics\n",
    "\n",
    "# Configuración matplotlib\n",
    "# ==============================================================================\n",
    "plt.rcParams['image.cmap'] = \"bwr\"\n",
    "#plt.rcParams['figure.dpi'] = \"100\"\n",
    "plt.rcParams['savefig.bbox'] = \"tight\"\n",
    "style.use('ggplot') or plt.style.use('ggplot')\n",
    "\n",
    "# Configuración warnings\n",
    "# ==============================================================================\n",
    "import warnings\n",
    "warnings.filterwarnings('ignore')\n",
    "\n",
    "# Funciones de utilidad\n",
    "# ==============================================================================\n",
    "from utils import *"
   ]
  },
  {
   "cell_type": "markdown",
   "metadata": {
    "id": "3mf71Fdkrno6"
   },
   "source": [
    "## Datasets"
   ]
  },
  {
   "cell_type": "code",
   "execution_count": 4,
   "metadata": {},
   "outputs": [],
   "source": [
    "test = pd.read_csv('data/test.csv',names = [\"clasificacion\",\"titulo\",\"reseña\"])\n",
    "train = pd.read_csv('data/train.csv',names = [\"clasificacion\",\"titulo\",\"reseña\"])\n",
    "df = pd.concat([test,train],ignore_index=True)\n",
    "del test ,train"
   ]
  },
  {
   "cell_type": "markdown",
   "metadata": {
    "id": "jABxhhYKwCda"
   },
   "source": [
    "## Preparacion de Datos"
   ]
  },
  {
   "cell_type": "markdown",
   "metadata": {},
   "source": [
    "### Minimización del Dataset"
   ]
  },
  {
   "cell_type": "code",
   "execution_count": 5,
   "metadata": {},
   "outputs": [],
   "source": [
    "if env_vars['minimize_dataset']:\n",
    "    particion = (100-0.1)/100\n",
    "    X_train, X_test, y_train, y_test = train_test_split(df['reseña'],df['clasificacion'], test_size=particion, random_state=42)\n",
    "    df = pd.concat([y_train, X_train], axis=1)\n",
    "    del X_train, X_test, y_train, y_test "
   ]
  },
  {
   "cell_type": "markdown",
   "metadata": {},
   "source": [
    "### Eliminación de Columnas innecesarias"
   ]
  },
  {
   "cell_type": "code",
   "execution_count": 6,
   "metadata": {
    "executionInfo": {
     "elapsed": 11,
     "status": "ok",
     "timestamp": 1714185586619,
     "user": {
      "displayName": "Juan Pablo Jaramillo",
      "userId": "00033109649246090021"
     },
     "user_tz": 300
    },
    "id": "Q0tXy1dEsZox"
   },
   "outputs": [],
   "source": [
    "df.drop(columns=['titulo'],inplace=True)"
   ]
  },
  {
   "cell_type": "markdown",
   "metadata": {},
   "source": [
    "### Revisión de Duplicados"
   ]
  },
  {
   "cell_type": "code",
   "execution_count": 7,
   "metadata": {},
   "outputs": [
    {
     "data": {
      "text/html": [
       "<div>\n",
       "<style scoped>\n",
       "    .dataframe tbody tr th:only-of-type {\n",
       "        vertical-align: middle;\n",
       "    }\n",
       "\n",
       "    .dataframe tbody tr th {\n",
       "        vertical-align: top;\n",
       "    }\n",
       "\n",
       "    .dataframe thead th {\n",
       "        text-align: right;\n",
       "    }\n",
       "</style>\n",
       "<table border=\"1\" class=\"dataframe\">\n",
       "  <thead>\n",
       "    <tr style=\"text-align: right;\">\n",
       "      <th></th>\n",
       "      <th>clasificacion</th>\n",
       "      <th>reseña</th>\n",
       "    </tr>\n",
       "  </thead>\n",
       "  <tbody>\n",
       "    <tr>\n",
       "      <th>3105</th>\n",
       "      <td>1</td>\n",
       "      <td>Rather pretentious comedy featuring Mel Gibson...</td>\n",
       "    </tr>\n",
       "    <tr>\n",
       "      <th>3406</th>\n",
       "      <td>2</td>\n",
       "      <td>This review relates to the Heritage 1944 editi...</td>\n",
       "    </tr>\n",
       "    <tr>\n",
       "      <th>5998</th>\n",
       "      <td>1</td>\n",
       "      <td>Radius Technology DVDs ID as \"OPTODISC\" brand ...</td>\n",
       "    </tr>\n",
       "    <tr>\n",
       "      <th>20621</th>\n",
       "      <td>1</td>\n",
       "      <td>Buena Vista (the company that releases Disney ...</td>\n",
       "    </tr>\n",
       "    <tr>\n",
       "      <th>47558</th>\n",
       "      <td>1</td>\n",
       "      <td>Maybe this show appeals to some people, but to...</td>\n",
       "    </tr>\n",
       "    <tr>\n",
       "      <th>...</th>\n",
       "      <td>...</td>\n",
       "      <td>...</td>\n",
       "    </tr>\n",
       "    <tr>\n",
       "      <th>3996762</th>\n",
       "      <td>2</td>\n",
       "      <td>Bought for my husband for Xmas he has always w...</td>\n",
       "    </tr>\n",
       "    <tr>\n",
       "      <th>3997561</th>\n",
       "      <td>1</td>\n",
       "      <td>Have had this toaster for about 18 months, so ...</td>\n",
       "    </tr>\n",
       "    <tr>\n",
       "      <th>3997849</th>\n",
       "      <td>1</td>\n",
       "      <td>This item was given as a gift. We loved it whe...</td>\n",
       "    </tr>\n",
       "    <tr>\n",
       "      <th>3999028</th>\n",
       "      <td>1</td>\n",
       "      <td>No,no no. This is a bad idea. the pick does no...</td>\n",
       "    </tr>\n",
       "    <tr>\n",
       "      <th>3999948</th>\n",
       "      <td>2</td>\n",
       "      <td>it was great to watch again, I remember watchi...</td>\n",
       "    </tr>\n",
       "  </tbody>\n",
       "</table>\n",
       "<p>6225 rows × 2 columns</p>\n",
       "</div>"
      ],
      "text/plain": [
       "         clasificacion                                             reseña\n",
       "3105                 1  Rather pretentious comedy featuring Mel Gibson...\n",
       "3406                 2  This review relates to the Heritage 1944 editi...\n",
       "5998                 1  Radius Technology DVDs ID as \"OPTODISC\" brand ...\n",
       "20621                1  Buena Vista (the company that releases Disney ...\n",
       "47558                1  Maybe this show appeals to some people, but to...\n",
       "...                ...                                                ...\n",
       "3996762              2  Bought for my husband for Xmas he has always w...\n",
       "3997561              1  Have had this toaster for about 18 months, so ...\n",
       "3997849              1  This item was given as a gift. We loved it whe...\n",
       "3999028              1  No,no no. This is a bad idea. the pick does no...\n",
       "3999948              2  it was great to watch again, I remember watchi...\n",
       "\n",
       "[6225 rows x 2 columns]"
      ]
     },
     "execution_count": 7,
     "metadata": {},
     "output_type": "execute_result"
    }
   ],
   "source": [
    "df.loc[df.duplicated()]"
   ]
  },
  {
   "cell_type": "markdown",
   "metadata": {},
   "source": [
    "### Eliminación de Duplicados"
   ]
  },
  {
   "cell_type": "code",
   "execution_count": 8,
   "metadata": {},
   "outputs": [],
   "source": [
    "df = df.drop_duplicates()"
   ]
  },
  {
   "cell_type": "markdown",
   "metadata": {},
   "source": [
    "### Información del Dataset"
   ]
  },
  {
   "cell_type": "code",
   "execution_count": 9,
   "metadata": {
    "colab": {
     "base_uri": "https://localhost:8080/"
    },
    "executionInfo": {
     "elapsed": 389,
     "status": "ok",
     "timestamp": 1714185587000,
     "user": {
      "displayName": "Juan Pablo Jaramillo",
      "userId": "00033109649246090021"
     },
     "user_tz": 300
    },
    "id": "ZOc5jjOewX63",
    "outputId": "9017839b-182f-4b40-8c72-f35ac25ce9e2"
   },
   "outputs": [
    {
     "name": "stdout",
     "output_type": "stream",
     "text": [
      "<class 'pandas.core.frame.DataFrame'>\n",
      "Index: 3993775 entries, 0 to 3999999\n",
      "Data columns (total 2 columns):\n",
      " #   Column         Dtype \n",
      "---  ------         ----- \n",
      " 0   clasificacion  int64 \n",
      " 1   reseña         object\n",
      "dtypes: int64(1), object(1)\n",
      "memory usage: 91.4+ MB\n"
     ]
    }
   ],
   "source": [
    "df.info()"
   ]
  },
  {
   "cell_type": "code",
   "execution_count": 10,
   "metadata": {
    "colab": {
     "base_uri": "https://localhost:8080/",
     "height": 300
    },
    "executionInfo": {
     "elapsed": 8,
     "status": "ok",
     "timestamp": 1714185587001,
     "user": {
      "displayName": "Juan Pablo Jaramillo",
      "userId": "00033109649246090021"
     },
     "user_tz": 300
    },
    "id": "XkdFZDlCwZGR",
    "outputId": "b1a60ebf-155b-4012-a0c7-021c4a959ab9"
   },
   "outputs": [
    {
     "data": {
      "text/html": [
       "<div>\n",
       "<style scoped>\n",
       "    .dataframe tbody tr th:only-of-type {\n",
       "        vertical-align: middle;\n",
       "    }\n",
       "\n",
       "    .dataframe tbody tr th {\n",
       "        vertical-align: top;\n",
       "    }\n",
       "\n",
       "    .dataframe thead th {\n",
       "        text-align: right;\n",
       "    }\n",
       "</style>\n",
       "<table border=\"1\" class=\"dataframe\">\n",
       "  <thead>\n",
       "    <tr style=\"text-align: right;\">\n",
       "      <th></th>\n",
       "      <th>clasificacion</th>\n",
       "    </tr>\n",
       "  </thead>\n",
       "  <tbody>\n",
       "    <tr>\n",
       "      <th>count</th>\n",
       "      <td>3.993775e+06</td>\n",
       "    </tr>\n",
       "    <tr>\n",
       "      <th>mean</th>\n",
       "      <td>1.500366e+00</td>\n",
       "    </tr>\n",
       "    <tr>\n",
       "      <th>std</th>\n",
       "      <td>4.999999e-01</td>\n",
       "    </tr>\n",
       "    <tr>\n",
       "      <th>min</th>\n",
       "      <td>1.000000e+00</td>\n",
       "    </tr>\n",
       "    <tr>\n",
       "      <th>25%</th>\n",
       "      <td>1.000000e+00</td>\n",
       "    </tr>\n",
       "    <tr>\n",
       "      <th>50%</th>\n",
       "      <td>2.000000e+00</td>\n",
       "    </tr>\n",
       "    <tr>\n",
       "      <th>75%</th>\n",
       "      <td>2.000000e+00</td>\n",
       "    </tr>\n",
       "    <tr>\n",
       "      <th>max</th>\n",
       "      <td>2.000000e+00</td>\n",
       "    </tr>\n",
       "  </tbody>\n",
       "</table>\n",
       "</div>"
      ],
      "text/plain": [
       "       clasificacion\n",
       "count   3.993775e+06\n",
       "mean    1.500366e+00\n",
       "std     4.999999e-01\n",
       "min     1.000000e+00\n",
       "25%     1.000000e+00\n",
       "50%     2.000000e+00\n",
       "75%     2.000000e+00\n",
       "max     2.000000e+00"
      ]
     },
     "execution_count": 10,
     "metadata": {},
     "output_type": "execute_result"
    }
   ],
   "source": [
    "df.describe()"
   ]
  },
  {
   "cell_type": "code",
   "execution_count": 11,
   "metadata": {
    "colab": {
     "base_uri": "https://localhost:8080/",
     "height": 143
    },
    "executionInfo": {
     "elapsed": 15,
     "status": "ok",
     "timestamp": 1714185590817,
     "user": {
      "displayName": "Juan Pablo Jaramillo",
      "userId": "00033109649246090021"
     },
     "user_tz": 300
    },
    "id": "gBWZ7KAkxbqV",
    "outputId": "24fcfe6f-8ce1-451c-9da8-7886ccc04013"
   },
   "outputs": [
    {
     "data": {
      "text/html": [
       "<div>\n",
       "<style scoped>\n",
       "    .dataframe tbody tr th:only-of-type {\n",
       "        vertical-align: middle;\n",
       "    }\n",
       "\n",
       "    .dataframe tbody tr th {\n",
       "        vertical-align: top;\n",
       "    }\n",
       "\n",
       "    .dataframe thead th {\n",
       "        text-align: right;\n",
       "    }\n",
       "</style>\n",
       "<table border=\"1\" class=\"dataframe\">\n",
       "  <thead>\n",
       "    <tr style=\"text-align: right;\">\n",
       "      <th></th>\n",
       "      <th>reseña</th>\n",
       "    </tr>\n",
       "    <tr>\n",
       "      <th>clasificacion</th>\n",
       "      <th></th>\n",
       "    </tr>\n",
       "  </thead>\n",
       "  <tbody>\n",
       "    <tr>\n",
       "      <th>1</th>\n",
       "      <td>1995426</td>\n",
       "    </tr>\n",
       "    <tr>\n",
       "      <th>2</th>\n",
       "      <td>1998349</td>\n",
       "    </tr>\n",
       "  </tbody>\n",
       "</table>\n",
       "</div>"
      ],
      "text/plain": [
       "                reseña\n",
       "clasificacion         \n",
       "1              1995426\n",
       "2              1998349"
      ]
     },
     "execution_count": 11,
     "metadata": {},
     "output_type": "execute_result"
    }
   ],
   "source": [
    "df.groupby('clasificacion').count()"
   ]
  },
  {
   "cell_type": "markdown",
   "metadata": {
    "id": "lUW2ySZfx77F"
   },
   "source": [
    "## Preprocesamiento de Texto y Creación de Bolsa de Palabras"
   ]
  },
  {
   "cell_type": "code",
   "execution_count": 12,
   "metadata": {
    "executionInfo": {
     "elapsed": 403,
     "status": "ok",
     "timestamp": 1714185591209,
     "user": {
      "displayName": "Juan Pablo Jaramillo",
      "userId": "00033109649246090021"
     },
     "user_tz": 300
    },
    "id": "6_ARKUPbAT1N"
   },
   "outputs": [],
   "source": [
    "def pre_process(text):\n",
    "  text = str(text)\n",
    "  text = text.lower()\n",
    "  text = re.sub(r'\\d+', '', text)\n",
    "  text = re.sub('\\[.*?\\]', '', text) #removes HTML tags\n",
    "  text = re.sub('https?://\\S+|www\\.\\S+', '', text) #removes url\n",
    "  text = re.sub('[%s]' % re.escape(string.punctuation),'',text) #removes punctuations\n",
    "  text = re.sub(r'[^\\w\\s]\\d+', '', text)\n",
    "  return text\n",
    "\n",
    "def tokenize(text):\n",
    "    return word_tokenize(text)\n",
    "\n",
    "def stem(tokens):\n",
    "    stemmer = SnowballStemmer('english')\n",
    "    return str(reduce(lambda x, y: x + \" \" + stemmer.stem(y), tokens, \"\"))\n",
    "\n",
    "def process(text):\n",
    "    return stem(tokenize(pre_process(text)))"
   ]
  },
  {
   "cell_type": "code",
   "execution_count": 13,
   "metadata": {},
   "outputs": [],
   "source": [
    "if not env_vars['df_exist']:\n",
    "    # Aplicando procesamiento de texto\n",
    "    df['reseña'] = df['reseña'].swifter.apply(pre_process)\n",
    "    df['reseña'] = df['reseña'].swifter.apply(tokenize)\n",
    "    df['reseña'] = df['reseña'].swifter.apply(stem)\n",
    "    df.to_csv('data/AmazonPreprocessed.csv', index=False)\n",
    "else:\n",
    "    df = pd.read_csv('data/AmazonPreprocessed.csv')"
   ]
  },
  {
   "cell_type": "code",
   "execution_count": 14,
   "metadata": {
    "colab": {
     "base_uri": "https://localhost:8080/",
     "height": 424
    },
    "executionInfo": {
     "elapsed": 1541,
     "status": "ok",
     "timestamp": 1714185592740,
     "user": {
      "displayName": "Juan Pablo Jaramillo",
      "userId": "00033109649246090021"
     },
     "user_tz": 300
    },
    "id": "ho_QGM8uAxCg",
    "outputId": "267fcb89-1859-4f33-8f7d-0aec990e97d7"
   },
   "outputs": [
    {
     "ename": "MemoryError",
     "evalue": "",
     "output_type": "error",
     "traceback": [
      "\u001b[1;31m---------------------------------------------------------------------------\u001b[0m",
      "\u001b[1;31mMemoryError\u001b[0m                               Traceback (most recent call last)",
      "Cell \u001b[1;32mIn[14], line 15\u001b[0m\n\u001b[0;32m      7\u001b[0m     documents \u001b[38;5;241m=\u001b[39m \u001b[38;5;28mint\u001b[39m(\u001b[38;5;28mlen\u001b[39m(df\u001b[38;5;241m.\u001b[39mindex)\u001b[38;5;241m*\u001b[39m\u001b[38;5;241m0.01\u001b[39m)\n\u001b[0;32m      8\u001b[0m     vectorizer \u001b[38;5;241m=\u001b[39m TfidfVectorizer(sublinear_tf\u001b[38;5;241m=\u001b[39m\u001b[38;5;28;01mTrue\u001b[39;00m       \u001b[38;5;66;03m#transformación logarítmica suavizada en frcuencia de término.\u001b[39;00m\n\u001b[0;32m      9\u001b[0m                                                          \u001b[38;5;66;03m# ayuda a reducir el impacto de las frecuencias de término altas\u001b[39;00m\n\u001b[0;32m     10\u001b[0m                                                          \u001b[38;5;66;03m# y mejora el rendiemiento.\u001b[39;00m\n\u001b[1;32m   (...)\u001b[0m\n\u001b[0;32m     13\u001b[0m                                  , stop_words\u001b[38;5;241m=\u001b[39mstop_words\n\u001b[0;32m     14\u001b[0m                            )\n\u001b[1;32m---> 15\u001b[0m     vectorizer\u001b[38;5;241m.\u001b[39mfit(df[\u001b[38;5;124m\"\u001b[39m\u001b[38;5;124mreseña\u001b[39m\u001b[38;5;124m\"\u001b[39m])\n\u001b[0;32m     16\u001b[0m     save_vectorizer(vectorizer)\n\u001b[0;32m     17\u001b[0m \u001b[38;5;28;01melse\u001b[39;00m:\n",
      "File \u001b[1;32mc:\\ProgramData\\anaconda3\\Lib\\site-packages\\sklearn\\feature_extraction\\text.py:2103\u001b[0m, in \u001b[0;36mTfidfVectorizer.fit\u001b[1;34m(self, raw_documents, y)\u001b[0m\n\u001b[0;32m   2096\u001b[0m \u001b[38;5;28mself\u001b[39m\u001b[38;5;241m.\u001b[39m_warn_for_unused_params()\n\u001b[0;32m   2097\u001b[0m \u001b[38;5;28mself\u001b[39m\u001b[38;5;241m.\u001b[39m_tfidf \u001b[38;5;241m=\u001b[39m TfidfTransformer(\n\u001b[0;32m   2098\u001b[0m     norm\u001b[38;5;241m=\u001b[39m\u001b[38;5;28mself\u001b[39m\u001b[38;5;241m.\u001b[39mnorm,\n\u001b[0;32m   2099\u001b[0m     use_idf\u001b[38;5;241m=\u001b[39m\u001b[38;5;28mself\u001b[39m\u001b[38;5;241m.\u001b[39muse_idf,\n\u001b[0;32m   2100\u001b[0m     smooth_idf\u001b[38;5;241m=\u001b[39m\u001b[38;5;28mself\u001b[39m\u001b[38;5;241m.\u001b[39msmooth_idf,\n\u001b[0;32m   2101\u001b[0m     sublinear_tf\u001b[38;5;241m=\u001b[39m\u001b[38;5;28mself\u001b[39m\u001b[38;5;241m.\u001b[39msublinear_tf,\n\u001b[0;32m   2102\u001b[0m )\n\u001b[1;32m-> 2103\u001b[0m X \u001b[38;5;241m=\u001b[39m \u001b[38;5;28msuper\u001b[39m()\u001b[38;5;241m.\u001b[39mfit_transform(raw_documents)\n\u001b[0;32m   2104\u001b[0m \u001b[38;5;28mself\u001b[39m\u001b[38;5;241m.\u001b[39m_tfidf\u001b[38;5;241m.\u001b[39mfit(X)\n\u001b[0;32m   2105\u001b[0m \u001b[38;5;28;01mreturn\u001b[39;00m \u001b[38;5;28mself\u001b[39m\n",
      "File \u001b[1;32mc:\\ProgramData\\anaconda3\\Lib\\site-packages\\sklearn\\feature_extraction\\text.py:1401\u001b[0m, in \u001b[0;36mCountVectorizer.fit_transform\u001b[1;34m(self, raw_documents, y)\u001b[0m\n\u001b[0;32m   1399\u001b[0m \u001b[38;5;28;01mif\u001b[39;00m max_features \u001b[38;5;129;01mis\u001b[39;00m \u001b[38;5;129;01mnot\u001b[39;00m \u001b[38;5;28;01mNone\u001b[39;00m:\n\u001b[0;32m   1400\u001b[0m     X \u001b[38;5;241m=\u001b[39m \u001b[38;5;28mself\u001b[39m\u001b[38;5;241m.\u001b[39m_sort_features(X, vocabulary)\n\u001b[1;32m-> 1401\u001b[0m X, \u001b[38;5;28mself\u001b[39m\u001b[38;5;241m.\u001b[39mstop_words_ \u001b[38;5;241m=\u001b[39m \u001b[38;5;28mself\u001b[39m\u001b[38;5;241m.\u001b[39m_limit_features(\n\u001b[0;32m   1402\u001b[0m     X, vocabulary, max_doc_count, min_doc_count, max_features\n\u001b[0;32m   1403\u001b[0m )\n\u001b[0;32m   1404\u001b[0m \u001b[38;5;28;01mif\u001b[39;00m max_features \u001b[38;5;129;01mis\u001b[39;00m \u001b[38;5;28;01mNone\u001b[39;00m:\n\u001b[0;32m   1405\u001b[0m     X \u001b[38;5;241m=\u001b[39m \u001b[38;5;28mself\u001b[39m\u001b[38;5;241m.\u001b[39m_sort_features(X, vocabulary)\n",
      "File \u001b[1;32mc:\\ProgramData\\anaconda3\\Lib\\site-packages\\sklearn\\feature_extraction\\text.py:1250\u001b[0m, in \u001b[0;36mCountVectorizer._limit_features\u001b[1;34m(self, X, vocabulary, high, low, limit)\u001b[0m\n\u001b[0;32m   1248\u001b[0m     \u001b[38;5;28;01melse\u001b[39;00m:\n\u001b[0;32m   1249\u001b[0m         \u001b[38;5;28;01mdel\u001b[39;00m vocabulary[term]\n\u001b[1;32m-> 1250\u001b[0m         removed_terms\u001b[38;5;241m.\u001b[39madd(term)\n\u001b[0;32m   1251\u001b[0m kept_indices \u001b[38;5;241m=\u001b[39m np\u001b[38;5;241m.\u001b[39mwhere(mask)[\u001b[38;5;241m0\u001b[39m]\n\u001b[0;32m   1252\u001b[0m \u001b[38;5;28;01mif\u001b[39;00m \u001b[38;5;28mlen\u001b[39m(kept_indices) \u001b[38;5;241m==\u001b[39m \u001b[38;5;241m0\u001b[39m:\n",
      "\u001b[1;31mMemoryError\u001b[0m: "
     ]
    }
   ],
   "source": [
    "if not env_vars['vectorizer_exist']:\n",
    "    \n",
    "    #Stopwords\n",
    "    stop_words = stopwords.words('english')\n",
    "    \n",
    "    #Creacion de bolsa de palabras\n",
    "    documents = int(len(df.index)*0.01)\n",
    "    vectorizer = TfidfVectorizer(sublinear_tf=True       #transformación logarítmica suavizada en frcuencia de término.\n",
    "                                                         # ayuda a reducir el impacto de las frecuencias de término altas\n",
    "                                                         # y mejora el rendiemiento.\n",
    "                                 , min_df=documents           #los terminos deben aparecer en almenos 5 documentos\n",
    "                                 , ngram_range=(1, 3)\n",
    "                                 , stop_words=stop_words\n",
    "                           )\n",
    "    vectorizer.fit(df[\"reseña\"])\n",
    "    save_vectorizer(vectorizer)\n",
    "else:\n",
    "    vectorizer = load_vectorizer()\n",
    "\n"
   ]
  },
  {
   "cell_type": "markdown",
   "metadata": {
    "id": "gpkHQDcaLaKc"
   },
   "source": [
    "## Eleccion de modelo"
   ]
  },
  {
   "cell_type": "code",
   "execution_count": 15,
   "metadata": {
    "executionInfo": {
     "elapsed": 14702,
     "status": "ok",
     "timestamp": 1714184737266,
     "user": {
      "displayName": "Juan Pablo Jaramillo",
      "userId": "00033109649246090021"
     },
     "user_tz": 300
    },
    "id": "xEmg4au3Ds18"
   },
   "outputs": [],
   "source": [
    "if not env_vars['minimize_dataset']:\n",
    "    particion = (100-0.1)/100\n",
    "    X_train, X_test, y_train, y_test = train_test_split(df['reseña'],df['clasificacion'], test_size=particion, random_state=42)\n",
    "    df = pd.concat([y_train, X_train], axis=1)\n",
    "    del X_train, X_test, y_train, y_test \n",
    "\n",
    "\n",
    "labels = df['clasificacion']\n",
    "features = vectorizer.transform(df[\"reseña\"])\n",
    "models = [\n",
    "    RandomForestClassifier(n_estimators=100, max_depth=30, random_state=0),\n",
    "    RandomForestClassifier(n_estimators=30, max_depth=60, random_state=0),\n",
    "    LinearSVC(),\n",
    "    MultinomialNB(),\n",
    "    LogisticRegression(random_state=0),\n",
    "    KNeighborsClassifier(n_neighbors=11),\n",
    "    KNeighborsClassifier(n_neighbors=21),\n",
    "    KNeighborsClassifier(n_neighbors=41),\n",
    "    GradientBoostingClassifier(n_estimators=100, learning_rate=0.1, random_state=1),\n",
    "    GradientBoostingClassifier(n_estimators=50, learning_rate=0.1, random_state=1)\n",
    "]\n",
    "\n",
    "#Cross-validation: 10-folds\n",
    "CV = 20\n",
    "\n",
    "cv_df = pd.DataFrame(index=range(CV * len(models)))\n",
    "entries = []\n",
    "a = 0\n",
    "for model in models:\n",
    "    model_name = model.__class__.__name__+str(a)\n",
    "    a += 1\n",
    "    accuracies = cross_val_score(model, features, labels, scoring='accuracy', cv=CV,n_jobs = -1)\n",
    "    for fold_idx, accuracy in enumerate(accuracies):\n",
    "        entries.append((model_name, fold_idx, accuracy))\n",
    "cv_df = pd.DataFrame(entries, columns=['model_name', 'fold_idx', 'accuracy'])"
   ]
  },
  {
   "cell_type": "code",
   "execution_count": 16,
   "metadata": {
    "colab": {
     "base_uri": "https://localhost:8080/",
     "height": 408
    },
    "executionInfo": {
     "elapsed": 1836,
     "status": "ok",
     "timestamp": 1714185773242,
     "user": {
      "displayName": "Juan Pablo Jaramillo",
      "userId": "00033109649246090021"
     },
     "user_tz": 300
    },
    "id": "jkfo0GQcRQHP",
    "outputId": "4c38b55d-b449-4d92-b5ae-e2e37cbf14f6"
   },
   "outputs": [
    {
     "data": {
      "image/png": "[encoded data removed]",
      "text/plain": [
       "<Figure size 2400x800 with 1 Axes>"
      ]
     },
     "metadata": {},
     "output_type": "display_data"
    }
   ],
   "source": [
    "# Gráfica de accuracy de los modelos\n",
    "\n",
    "figsize=(24,8)\n",
    "\n",
    "plt.rcParams['figure.figsize'] = figsize\n",
    "\n",
    "sns.boxplot(x='model_name', y='accuracy', data=cv_df)\n",
    "sns.stripplot(x='model_name', y='accuracy', data=cv_df,\n",
    "              size=4, jitter=True, edgecolor=\"gray\", linewidth=2)\n",
    "plt.show()"
   ]
  },
  {
   "cell_type": "code",
   "execution_count": 114,
   "metadata": {
    "colab": {
     "base_uri": "https://localhost:8080/"
    },
    "executionInfo": {
     "elapsed": 34,
     "status": "ok",
     "timestamp": 1714184674965,
     "user": {
      "displayName": "Juan Pablo Jaramillo",
      "userId": "00033109649246090021"
     },
     "user_tz": 300
    },
    "id": "Y1gumsBDSQn5",
    "outputId": "8ea86ba6-7152-44a6-fbe8-7be48914e749"
   },
   "outputs": [
    {
     "data": {
      "text/plain": [
       "model_name\n",
       "LogisticRegression4            0.783441\n",
       "MultinomialNB3                 0.774431\n",
       "LinearSVC2                     0.767427\n",
       "RandomForestClassifier0        0.761682\n",
       "GradientBoostingClassifier8    0.753432\n",
       "RandomForestClassifier1        0.752676\n",
       "GradientBoostingClassifier9    0.729426\n",
       "KNeighborsClassifier7          0.718432\n",
       "KNeighborsClassifier6          0.691170\n",
       "KNeighborsClassifier5          0.645907\n",
       "Name: accuracy, dtype: float64"
      ]
     },
     "execution_count": 114,
     "metadata": {},
     "output_type": "execute_result"
    }
   ],
   "source": [
    "# Accuracy de los modelos\n",
    "\n",
    "cv_df.groupby('model_name').accuracy.mean().sort_values(ascending=False)"
   ]
  },
  {
   "cell_type": "code",
   "execution_count": 115,
   "metadata": {
    "colab": {
     "base_uri": "https://localhost:8080/",
     "height": 35
    },
    "executionInfo": {
     "elapsed": 332,
     "status": "ok",
     "timestamp": 1714185214102,
     "user": {
      "displayName": "Juan Pablo Jaramillo",
      "userId": "00033109649246090021"
     },
     "user_tz": 300
    },
    "id": "5eFgnsXoYCk-",
    "outputId": "b71e0af5-a371-4c41-d219-d62e8f1eaa99"
   },
   "outputs": [],
   "source": [
    "\n",
    "models = [\n",
    "    #MultinomialNB(),\n",
    "    LogisticRegression(random_state=0,solver=\"lbfgs\"),\n",
    "    LogisticRegression(random_state=0,solver=\"liblinear\"),\n",
    "    LogisticRegression(random_state=0,solver=\"newton-cg\"),\n",
    "    LogisticRegression(random_state=0,solver=\"newton-cholesky\"),\n",
    "    LogisticRegression(random_state=0,solver=\"sag\"),\n",
    "    LogisticRegression(random_state=0,solver=\"saga\"),\n",
    "]\n",
    "\n",
    "#Cross-validation: 10-folds\n",
    "CV = 20\n",
    "\n",
    "cv_df = pd.DataFrame(index=range(CV * len(models)))\n",
    "entries = []\n",
    "a = 0\n",
    "for model in models:\n",
    "    model_name = model.__class__.__name__+str(a)\n",
    "    a += 1\n",
    "    accuracies = cross_val_score(model, features, labels, scoring='accuracy', cv=CV,n_jobs = 5)\n",
    "    for fold_idx, accuracy in enumerate(accuracies):\n",
    "        entries.append((model_name, fold_idx, accuracy))\n",
    "cv_df = pd.DataFrame(entries, columns=['model_name', 'fold_idx', 'accuracy'])"
   ]
  },
  {
   "cell_type": "code",
   "execution_count": 116,
   "metadata": {
    "id": "n1A3v9sXZpSU"
   },
   "outputs": [
    {
     "data": {
      "image/png": "[encoded data removed]",
      "text/plain": [
       "<Figure size 2400x800 with 1 Axes>"
      ]
     },
     "metadata": {},
     "output_type": "display_data"
    }
   ],
   "source": [
    "# Gráfica de accuracy de los modelos\n",
    "\n",
    "figsize=(24,8)\n",
    "\n",
    "plt.rcParams['figure.figsize'] = figsize\n",
    "\n",
    "sns.boxplot(x='model_name', y='accuracy', data=cv_df)\n",
    "sns.stripplot(x='model_name', y='accuracy', data=cv_df,\n",
    "              size=4, jitter=True, edgecolor=\"gray\", linewidth=2)\n",
    "plt.show()"
   ]
  },
  {
   "cell_type": "code",
   "execution_count": 117,
   "metadata": {},
   "outputs": [
    {
     "name": "stderr",
     "output_type": "stream",
     "text": [
      "/home/estudiantelis/.local/lib/python3.10/site-packages/sklearn/linear_model/_sag.py:350: ConvergenceWarning: The max_iter was reached which means the coef_ did not converge\n",
      "  warnings.warn(\n",
      "/home/estudiantelis/.local/lib/python3.10/site-packages/sklearn/linear_model/_sag.py:350: ConvergenceWarning: The max_iter was reached which means the coef_ did not converge\n",
      "  warnings.warn(\n",
      "/home/estudiantelis/.local/lib/python3.10/site-packages/sklearn/linear_model/_sag.py:350: ConvergenceWarning: The max_iter was reached which means the coef_ did not converge\n",
      "  warnings.warn(\n",
      "/home/estudiantelis/.local/lib/python3.10/site-packages/sklearn/linear_model/_sag.py:350: ConvergenceWarning: The max_iter was reached which means the coef_ did not converge\n",
      "  warnings.warn(\n",
      "/home/estudiantelis/.local/lib/python3.10/site-packages/sklearn/linear_model/_sag.py:350: ConvergenceWarning: The max_iter was reached which means the coef_ did not converge\n",
      "  warnings.warn(\n",
      "/home/estudiantelis/.local/lib/python3.10/site-packages/sklearn/linear_model/_sag.py:350: ConvergenceWarning: The max_iter was reached which means the coef_ did not converge\n",
      "  warnings.warn(\n",
      "/home/estudiantelis/.local/lib/python3.10/site-packages/sklearn/linear_model/_sag.py:350: ConvergenceWarning: The max_iter was reached which means the coef_ did not converge\n",
      "  warnings.warn(\n",
      "/home/estudiantelis/.local/lib/python3.10/site-packages/sklearn/linear_model/_sag.py:350: ConvergenceWarning: The max_iter was reached which means the coef_ did not converge\n",
      "  warnings.warn(\n",
      "/home/estudiantelis/.local/lib/python3.10/site-packages/sklearn/linear_model/_sag.py:350: ConvergenceWarning: The max_iter was reached which means the coef_ did not converge\n",
      "  warnings.warn(\n",
      "/home/estudiantelis/.local/lib/python3.10/site-packages/sklearn/linear_model/_sag.py:350: ConvergenceWarning: The max_iter was reached which means the coef_ did not converge\n",
      "  warnings.warn(\n",
      "/home/estudiantelis/.local/lib/python3.10/site-packages/sklearn/linear_model/_sag.py:350: ConvergenceWarning: The max_iter was reached which means the coef_ did not converge\n",
      "  warnings.warn(\n",
      "/home/estudiantelis/.local/lib/python3.10/site-packages/sklearn/linear_model/_sag.py:350: ConvergenceWarning: The max_iter was reached which means the coef_ did not converge\n",
      "  warnings.warn(\n",
      "/home/estudiantelis/.local/lib/python3.10/site-packages/sklearn/linear_model/_sag.py:350: ConvergenceWarning: The max_iter was reached which means the coef_ did not converge\n",
      "  warnings.warn(\n",
      "/home/estudiantelis/.local/lib/python3.10/site-packages/sklearn/linear_model/_sag.py:350: ConvergenceWarning: The max_iter was reached which means the coef_ did not converge\n",
      "  warnings.warn(\n",
      "/home/estudiantelis/.local/lib/python3.10/site-packages/sklearn/linear_model/_sag.py:350: ConvergenceWarning: The max_iter was reached which means the coef_ did not converge\n",
      "  warnings.warn(\n",
      "/home/estudiantelis/.local/lib/python3.10/site-packages/sklearn/linear_model/_sag.py:350: ConvergenceWarning: The max_iter was reached which means the coef_ did not converge\n",
      "  warnings.warn(\n",
      "/home/estudiantelis/.local/lib/python3.10/site-packages/sklearn/linear_model/_sag.py:350: ConvergenceWarning: The max_iter was reached which means the coef_ did not converge\n",
      "  warnings.warn(\n",
      "/home/estudiantelis/.local/lib/python3.10/site-packages/sklearn/linear_model/_sag.py:350: ConvergenceWarning: The max_iter was reached which means the coef_ did not converge\n",
      "  warnings.warn(\n",
      "/home/estudiantelis/.local/lib/python3.10/site-packages/sklearn/linear_model/_sag.py:350: ConvergenceWarning: The max_iter was reached which means the coef_ did not converge\n",
      "  warnings.warn(\n",
      "/home/estudiantelis/.local/lib/python3.10/site-packages/sklearn/linear_model/_sag.py:350: ConvergenceWarning: The max_iter was reached which means the coef_ did not converge\n",
      "  warnings.warn(\n"
     ]
    }
   ],
   "source": [
    "\n",
    "models = [\n",
    "    #MultinomialNB(),\n",
    "    LogisticRegression(random_state=0,solver=\"saga\",penalty = \"elasticnet\", l1_ratio = 1),\n",
    "    LogisticRegression(random_state=0,solver=\"saga\",penalty = \"elasticnet\", l1_ratio = 0.6),\n",
    "    LogisticRegression(random_state=0,solver=\"saga\",penalty = \"elasticnet\", l1_ratio = 0.3),\n",
    "    LogisticRegression(random_state=0,solver=\"saga\",penalty = \"elasticnet\", l1_ratio = 0.1),\n",
    "    LogisticRegression(random_state=0,solver=\"saga\",penalty = \"l1\"),\n",
    "    LogisticRegression(random_state=0,solver=\"saga\",penalty = \"l2\"),\n",
    "    LogisticRegression(random_state=0,solver=\"saga\",penalty = None),\n",
    "]\n",
    "\n",
    "#Cross-validation: 10-folds\n",
    "CV = 20\n",
    "\n",
    "cv_df = pd.DataFrame(index=range(CV * len(models)))\n",
    "entries = []\n",
    "a = 0\n",
    "for model in models:\n",
    "    model_name = model.__class__.__name__+str(a)\n",
    "    a += 1\n",
    "    accuracies = cross_val_score(model, features, labels, scoring='accuracy', cv=CV,n_jobs = 5)\n",
    "    for fold_idx, accuracy in enumerate(accuracies):\n",
    "        entries.append((model_name, fold_idx, accuracy))\n",
    "cv_df = pd.DataFrame(entries, columns=['model_name', 'fold_idx', 'accuracy'])"
   ]
  },
  {
   "cell_type": "code",
   "execution_count": 118,
   "metadata": {},
   "outputs": [
    {
     "data": {
      "image/png": "[encoded data removed]",
      "text/plain": [
       "<Figure size 2400x800 with 1 Axes>"
      ]
     },
     "metadata": {},
     "output_type": "display_data"
    }
   ],
   "source": [
    "# Gráfica de accuracy de los modelos\n",
    "\n",
    "figsize=(24,8)\n",
    "\n",
    "plt.rcParams['figure.figsize'] = figsize\n",
    "\n",
    "sns.boxplot(x='model_name', y='accuracy', data=cv_df)\n",
    "sns.stripplot(x='model_name', y='accuracy', data=cv_df,\n",
    "              size=4, jitter=True, edgecolor=\"gray\", linewidth=2)\n",
    "plt.show()"
   ]
  },
  {
   "cell_type": "code",
   "execution_count": 119,
   "metadata": {},
   "outputs": [
    {
     "data": {
      "text/plain": [
       "model_name\n",
       "LogisticRegression2    0.785188\n",
       "LogisticRegression1    0.783938\n",
       "LogisticRegression0    0.783186\n",
       "LogisticRegression4    0.783186\n",
       "LogisticRegression5    0.782941\n",
       "LogisticRegression3    0.782440\n",
       "LogisticRegression6    0.761185\n",
       "Name: accuracy, dtype: float64"
      ]
     },
     "execution_count": 119,
     "metadata": {},
     "output_type": "execute_result"
    }
   ],
   "source": [
    "cv_df.groupby('model_name').accuracy.mean().sort_values(ascending=False)"
   ]
  },
  {
   "cell_type": "code",
   "execution_count": 120,
   "metadata": {},
   "outputs": [
    {
     "data": {
      "text/plain": [
       "31     0.855\n",
       "106    0.850\n",
       "66     0.850\n",
       "111    0.850\n",
       "46     0.850\n",
       "       ...  \n",
       "121    0.730\n",
       "136    0.730\n",
       "134    0.725\n",
       "135    0.720\n",
       "133    0.705\n",
       "Name: accuracy, Length: 140, dtype: float64"
      ]
     },
     "execution_count": 120,
     "metadata": {},
     "output_type": "execute_result"
    }
   ],
   "source": [
    "cv_df.accuracy.sort_values(ascending=False)"
   ]
  },
  {
   "cell_type": "code",
   "execution_count": 121,
   "metadata": {},
   "outputs": [],
   "source": [
    "# Grid de hiperparámetros evaluados\n",
    "# ==============================================================================\n",
    "param_grid = ParameterGrid(\n",
    "                {'n_estimators': [150, 200, 250],\n",
    "                 'max_features': [5, 7, 9],\n",
    "                 'max_depth'   : [None, 3, 10, 20],\n",
    "                 'criterion'   : ['gini', 'entropy']\n",
    "                }\n",
    "            )\n",
    "CV = 20\n",
    "scores = ['accuracy', 'f1', 'balanced_accuracy', 'precision', 'recall']\n",
    "# Loop para ajustar un modelo con cada combinación de hiperparámetros\n",
    "# ==============================================================================\n",
    "resultados = {'params': [], 'accuracy': [], 'f1': [], 'balanced_accuracy': [], 'precision': [], 'recall': []}\n",
    "\n",
    "for params in param_grid:\n",
    "    \n",
    "    model = RandomForestClassifier(\n",
    "                oob_score    = True,\n",
    "                n_jobs       = -1,\n",
    "                random_state = 123,\n",
    "                ** params\n",
    "             )\n",
    "    \n",
    "    resultados['params'].append(params)\n",
    "    for i in scores:\n",
    "        score_ = cross_val_score(model, features, labels, scoring=i, cv=CV,n_jobs = 5)\n",
    "\n",
    "        desv = score_.std()\n",
    "        mean = score_.mean()\n",
    "        resultados[i].append((desv,mean))\n",
    "\n",
    "\n",
    "\n",
    "    # for fold_idx, accuracy in enumerate(accuracies):\n",
    "    #     entries.append((model_name, fold_idx, accuracy))\n",
    "    #     resultados['params'].append(params)\n",
    "    #     resultados['accuracy'].append(accuracy)\n",
    "    #     print(f\"Modelo: {params} \\u2713\")\n",
    "\n",
    "    # cv_df = pd.DataFrame(entries, columns=['model_name', 'fold_idx', 'accuracy'])\n",
    "        \n",
    "\n",
    "\n",
    "# Resultados\n",
    "# ==============================================================================\n",
    "resultados = pd.DataFrame(resultados)\n",
    "resultados = pd.concat([resultados, resultados['params'].apply(pd.Series)], axis=1)\n",
    "# resultados = resultados.sort_values('accuracy', ascending=False)\n",
    "resultados = resultados.drop(columns = 'params')"
   ]
  },
  {
   "cell_type": "code",
   "execution_count": 131,
   "metadata": {},
   "outputs": [
    {
     "data": {
      "text/html": [
       "<div>\n",
       "<style scoped>\n",
       "    .dataframe tbody tr th:only-of-type {\n",
       "        vertical-align: middle;\n",
       "    }\n",
       "\n",
       "    .dataframe tbody tr th {\n",
       "        vertical-align: top;\n",
       "    }\n",
       "\n",
       "    .dataframe thead th {\n",
       "        text-align: right;\n",
       "    }\n",
       "</style>\n",
       "<table border=\"1\" class=\"dataframe\">\n",
       "  <thead>\n",
       "    <tr style=\"text-align: right;\">\n",
       "      <th></th>\n",
       "      <th>accuracy</th>\n",
       "      <th>f1</th>\n",
       "      <th>balanced_accuracy</th>\n",
       "      <th>precision</th>\n",
       "      <th>recall</th>\n",
       "      <th>criterion</th>\n",
       "      <th>max_depth</th>\n",
       "      <th>max_features</th>\n",
       "      <th>n_estimators</th>\n",
       "    </tr>\n",
       "  </thead>\n",
       "  <tbody>\n",
       "    <tr>\n",
       "      <th>0</th>\n",
       "      <td>(0.019037438079613972, 0.767434673366834)</td>\n",
       "      <td>(0.02055767453421768, 0.771593352420024)</td>\n",
       "      <td>(0.018931024174071436, 0.7674154167722538)</td>\n",
       "      <td>(0.020801227308574356, 0.7742965151939718)</td>\n",
       "      <td>(0.0355535460385814, 0.769998096325909)</td>\n",
       "      <td>gini</td>\n",
       "      <td>NaN</td>\n",
       "      <td>5</td>\n",
       "      <td>150</td>\n",
       "    </tr>\n",
       "    <tr>\n",
       "      <th>1</th>\n",
       "      <td>(0.026588126175254922, 0.7694334170854272)</td>\n",
       "      <td>(0.029111481825372796, 0.7729200967371809)</td>\n",
       "      <td>(0.026363610157688983, 0.7694612426093448)</td>\n",
       "      <td>(0.025199096131887217, 0.7771204668594978)</td>\n",
       "      <td>(0.045050129362642265, 0.7700028555111363)</td>\n",
       "      <td>gini</td>\n",
       "      <td>NaN</td>\n",
       "      <td>5</td>\n",
       "      <td>200</td>\n",
       "    </tr>\n",
       "    <tr>\n",
       "      <th>2</th>\n",
       "      <td>(0.022402800496006913, 0.7731859296482412)</td>\n",
       "      <td>(0.023987219150668013, 0.7771537731949142)</td>\n",
       "      <td>(0.022255911985938535, 0.7731829890398758)</td>\n",
       "      <td>(0.023612737787949575, 0.7800645707862591)</td>\n",
       "      <td>(0.03868775715638341, 0.7753950123738815)</td>\n",
       "      <td>gini</td>\n",
       "      <td>NaN</td>\n",
       "      <td>5</td>\n",
       "      <td>250</td>\n",
       "    </tr>\n",
       "    <tr>\n",
       "      <th>3</th>\n",
       "      <td>(0.022906504932728736, 0.773434673366834)</td>\n",
       "      <td>(0.024698238518823704, 0.779195981097324)</td>\n",
       "      <td>(0.02277223668950381, 0.773256640760598)</td>\n",
       "      <td>(0.026352307000297566, 0.7759588787480102)</td>\n",
       "      <td>(0.04389154673492356, 0.7841947458595088)</td>\n",
       "      <td>gini</td>\n",
       "      <td>NaN</td>\n",
       "      <td>7</td>\n",
       "      <td>150</td>\n",
       "    </tr>\n",
       "    <tr>\n",
       "      <th>4</th>\n",
       "      <td>(0.0216235446011787, 0.7746859296482412)</td>\n",
       "      <td>(0.022605679243083463, 0.7796265343303721)</td>\n",
       "      <td>(0.02154386512377161, 0.7745940539162317)</td>\n",
       "      <td>(0.025437291845519704, 0.779403111171062)</td>\n",
       "      <td>(0.03880031527102349, 0.781267846944603)</td>\n",
       "      <td>gini</td>\n",
       "      <td>NaN</td>\n",
       "      <td>7</td>\n",
       "      <td>200</td>\n",
       "    </tr>\n",
       "    <tr>\n",
       "      <th>...</th>\n",
       "      <td>...</td>\n",
       "      <td>...</td>\n",
       "      <td>...</td>\n",
       "      <td>...</td>\n",
       "      <td>...</td>\n",
       "      <td>...</td>\n",
       "      <td>...</td>\n",
       "      <td>...</td>\n",
       "      <td>...</td>\n",
       "    </tr>\n",
       "    <tr>\n",
       "      <th>67</th>\n",
       "      <td>(0.020962983129804377, 0.7714346733668341)</td>\n",
       "      <td>(0.01973853390647126, 0.779872282805523)</td>\n",
       "      <td>(0.021137938868621635, 0.7710001851806683)</td>\n",
       "      <td>(0.02836421444862991, 0.7686845744116487)</td>\n",
       "      <td>(0.03520790549776302, 0.7929944793451361)</td>\n",
       "      <td>entropy</td>\n",
       "      <td>20.0</td>\n",
       "      <td>7</td>\n",
       "      <td>200</td>\n",
       "    </tr>\n",
       "    <tr>\n",
       "      <th>68</th>\n",
       "      <td>(0.02246653147296771, 0.7699334170854271)</td>\n",
       "      <td>(0.02089628584895014, 0.7797302612032699)</td>\n",
       "      <td>(0.02264019792508872, 0.7693845464319248)</td>\n",
       "      <td>(0.028900878059255782, 0.7641535497090967)</td>\n",
       "      <td>(0.03442254422481688, 0.797411003236246)</td>\n",
       "      <td>entropy</td>\n",
       "      <td>20.0</td>\n",
       "      <td>7</td>\n",
       "      <td>250</td>\n",
       "    </tr>\n",
       "    <tr>\n",
       "      <th>69</th>\n",
       "      <td>(0.022760825558601525, 0.7681871859296482)</td>\n",
       "      <td>(0.023317081129214174, 0.7764766906402603)</td>\n",
       "      <td>(0.022685978110389905, 0.7677605247884361)</td>\n",
       "      <td>(0.024985137130742407, 0.7653138009281096)</td>\n",
       "      <td>(0.04239991640069371, 0.7895869027222541)</td>\n",
       "      <td>entropy</td>\n",
       "      <td>20.0</td>\n",
       "      <td>9</td>\n",
       "      <td>150</td>\n",
       "    </tr>\n",
       "    <tr>\n",
       "      <th>70</th>\n",
       "      <td>(0.02487726275648095, 0.7709334170854272)</td>\n",
       "      <td>(0.02586631189206833, 0.7781564677949955)</td>\n",
       "      <td>(0.024744815931831775, 0.770608807530619)</td>\n",
       "      <td>(0.025475391460648422, 0.7699947510961341)</td>\n",
       "      <td>(0.045225215563315824, 0.7881353512278698)</td>\n",
       "      <td>entropy</td>\n",
       "      <td>20.0</td>\n",
       "      <td>9</td>\n",
       "      <td>200</td>\n",
       "    </tr>\n",
       "    <tr>\n",
       "      <th>71</th>\n",
       "      <td>(0.025431004625261946, 0.7701821608040201)</td>\n",
       "      <td>(0.02619305921985566, 0.7780377109984482)</td>\n",
       "      <td>(0.025315477148735055, 0.769808244586995)</td>\n",
       "      <td>(0.026247556247138416, 0.7679177944918746)</td>\n",
       "      <td>(0.04526908644328802, 0.7901056539120503)</td>\n",
       "      <td>entropy</td>\n",
       "      <td>20.0</td>\n",
       "      <td>9</td>\n",
       "      <td>250</td>\n",
       "    </tr>\n",
       "  </tbody>\n",
       "</table>\n",
       "<p>72 rows × 9 columns</p>\n",
       "</div>"
      ],
      "text/plain": [
       "                                      accuracy  \\\n",
       "0    (0.019037438079613972, 0.767434673366834)   \n",
       "1   (0.026588126175254922, 0.7694334170854272)   \n",
       "2   (0.022402800496006913, 0.7731859296482412)   \n",
       "3    (0.022906504932728736, 0.773434673366834)   \n",
       "4     (0.0216235446011787, 0.7746859296482412)   \n",
       "..                                         ...   \n",
       "67  (0.020962983129804377, 0.7714346733668341)   \n",
       "68   (0.02246653147296771, 0.7699334170854271)   \n",
       "69  (0.022760825558601525, 0.7681871859296482)   \n",
       "70   (0.02487726275648095, 0.7709334170854272)   \n",
       "71  (0.025431004625261946, 0.7701821608040201)   \n",
       "\n",
       "                                            f1  \\\n",
       "0     (0.02055767453421768, 0.771593352420024)   \n",
       "1   (0.029111481825372796, 0.7729200967371809)   \n",
       "2   (0.023987219150668013, 0.7771537731949142)   \n",
       "3    (0.024698238518823704, 0.779195981097324)   \n",
       "4   (0.022605679243083463, 0.7796265343303721)   \n",
       "..                                         ...   \n",
       "67    (0.01973853390647126, 0.779872282805523)   \n",
       "68   (0.02089628584895014, 0.7797302612032699)   \n",
       "69  (0.023317081129214174, 0.7764766906402603)   \n",
       "70   (0.02586631189206833, 0.7781564677949955)   \n",
       "71   (0.02619305921985566, 0.7780377109984482)   \n",
       "\n",
       "                             balanced_accuracy  \\\n",
       "0   (0.018931024174071436, 0.7674154167722538)   \n",
       "1   (0.026363610157688983, 0.7694612426093448)   \n",
       "2   (0.022255911985938535, 0.7731829890398758)   \n",
       "3     (0.02277223668950381, 0.773256640760598)   \n",
       "4    (0.02154386512377161, 0.7745940539162317)   \n",
       "..                                         ...   \n",
       "67  (0.021137938868621635, 0.7710001851806683)   \n",
       "68   (0.02264019792508872, 0.7693845464319248)   \n",
       "69  (0.022685978110389905, 0.7677605247884361)   \n",
       "70   (0.024744815931831775, 0.770608807530619)   \n",
       "71   (0.025315477148735055, 0.769808244586995)   \n",
       "\n",
       "                                     precision  \\\n",
       "0   (0.020801227308574356, 0.7742965151939718)   \n",
       "1   (0.025199096131887217, 0.7771204668594978)   \n",
       "2   (0.023612737787949575, 0.7800645707862591)   \n",
       "3   (0.026352307000297566, 0.7759588787480102)   \n",
       "4    (0.025437291845519704, 0.779403111171062)   \n",
       "..                                         ...   \n",
       "67   (0.02836421444862991, 0.7686845744116487)   \n",
       "68  (0.028900878059255782, 0.7641535497090967)   \n",
       "69  (0.024985137130742407, 0.7653138009281096)   \n",
       "70  (0.025475391460648422, 0.7699947510961341)   \n",
       "71  (0.026247556247138416, 0.7679177944918746)   \n",
       "\n",
       "                                        recall criterion  max_depth  \\\n",
       "0      (0.0355535460385814, 0.769998096325909)      gini        NaN   \n",
       "1   (0.045050129362642265, 0.7700028555111363)      gini        NaN   \n",
       "2    (0.03868775715638341, 0.7753950123738815)      gini        NaN   \n",
       "3    (0.04389154673492356, 0.7841947458595088)      gini        NaN   \n",
       "4     (0.03880031527102349, 0.781267846944603)      gini        NaN   \n",
       "..                                         ...       ...        ...   \n",
       "67   (0.03520790549776302, 0.7929944793451361)   entropy       20.0   \n",
       "68    (0.03442254422481688, 0.797411003236246)   entropy       20.0   \n",
       "69   (0.04239991640069371, 0.7895869027222541)   entropy       20.0   \n",
       "70  (0.045225215563315824, 0.7881353512278698)   entropy       20.0   \n",
       "71   (0.04526908644328802, 0.7901056539120503)   entropy       20.0   \n",
       "\n",
       "    max_features  n_estimators  \n",
       "0              5           150  \n",
       "1              5           200  \n",
       "2              5           250  \n",
       "3              7           150  \n",
       "4              7           200  \n",
       "..           ...           ...  \n",
       "67             7           200  \n",
       "68             7           250  \n",
       "69             9           150  \n",
       "70             9           200  \n",
       "71             9           250  \n",
       "\n",
       "[72 rows x 9 columns]"
      ]
     },
     "execution_count": 131,
     "metadata": {},
     "output_type": "execute_result"
    }
   ],
   "source": [
    "resultados"
   ]
  },
  {
   "cell_type": "code",
   "execution_count": 130,
   "metadata": {},
   "outputs": [
    {
     "data": {
      "text/html": [
       "<div>\n",
       "<style scoped>\n",
       "    .dataframe tbody tr th:only-of-type {\n",
       "        vertical-align: middle;\n",
       "    }\n",
       "\n",
       "    .dataframe tbody tr th {\n",
       "        vertical-align: top;\n",
       "    }\n",
       "\n",
       "    .dataframe thead th {\n",
       "        text-align: right;\n",
       "    }\n",
       "</style>\n",
       "<table border=\"1\" class=\"dataframe\">\n",
       "  <thead>\n",
       "    <tr style=\"text-align: right;\">\n",
       "      <th></th>\n",
       "      <th>accuracy</th>\n",
       "      <th>f1</th>\n",
       "      <th>balanced_accuracy</th>\n",
       "      <th>precision</th>\n",
       "      <th>recall</th>\n",
       "      <th>criterion</th>\n",
       "      <th>max_depth</th>\n",
       "      <th>max_features</th>\n",
       "      <th>n_estimators</th>\n",
       "    </tr>\n",
       "  </thead>\n",
       "  <tbody>\n",
       "    <tr>\n",
       "      <th>0</th>\n",
       "      <td>0.019037</td>\n",
       "      <td>(0.02055767453421768, 0.771593352420024)</td>\n",
       "      <td>(0.018931024174071436, 0.7674154167722538)</td>\n",
       "      <td>(0.020801227308574356, 0.7742965151939718)</td>\n",
       "      <td>(0.0355535460385814, 0.769998096325909)</td>\n",
       "      <td>gini</td>\n",
       "      <td>NaN</td>\n",
       "      <td>5</td>\n",
       "      <td>150</td>\n",
       "    </tr>\n",
       "    <tr>\n",
       "      <th>0</th>\n",
       "      <td>0.767435</td>\n",
       "      <td>(0.02055767453421768, 0.771593352420024)</td>\n",
       "      <td>(0.018931024174071436, 0.7674154167722538)</td>\n",
       "      <td>(0.020801227308574356, 0.7742965151939718)</td>\n",
       "      <td>(0.0355535460385814, 0.769998096325909)</td>\n",
       "      <td>gini</td>\n",
       "      <td>NaN</td>\n",
       "      <td>5</td>\n",
       "      <td>150</td>\n",
       "    </tr>\n",
       "    <tr>\n",
       "      <th>1</th>\n",
       "      <td>0.026588</td>\n",
       "      <td>(0.029111481825372796, 0.7729200967371809)</td>\n",
       "      <td>(0.026363610157688983, 0.7694612426093448)</td>\n",
       "      <td>(0.025199096131887217, 0.7771204668594978)</td>\n",
       "      <td>(0.045050129362642265, 0.7700028555111363)</td>\n",
       "      <td>gini</td>\n",
       "      <td>NaN</td>\n",
       "      <td>5</td>\n",
       "      <td>200</td>\n",
       "    </tr>\n",
       "    <tr>\n",
       "      <th>1</th>\n",
       "      <td>0.769433</td>\n",
       "      <td>(0.029111481825372796, 0.7729200967371809)</td>\n",
       "      <td>(0.026363610157688983, 0.7694612426093448)</td>\n",
       "      <td>(0.025199096131887217, 0.7771204668594978)</td>\n",
       "      <td>(0.045050129362642265, 0.7700028555111363)</td>\n",
       "      <td>gini</td>\n",
       "      <td>NaN</td>\n",
       "      <td>5</td>\n",
       "      <td>200</td>\n",
       "    </tr>\n",
       "    <tr>\n",
       "      <th>2</th>\n",
       "      <td>0.022403</td>\n",
       "      <td>(0.023987219150668013, 0.7771537731949142)</td>\n",
       "      <td>(0.022255911985938535, 0.7731829890398758)</td>\n",
       "      <td>(0.023612737787949575, 0.7800645707862591)</td>\n",
       "      <td>(0.03868775715638341, 0.7753950123738815)</td>\n",
       "      <td>gini</td>\n",
       "      <td>NaN</td>\n",
       "      <td>5</td>\n",
       "      <td>250</td>\n",
       "    </tr>\n",
       "    <tr>\n",
       "      <th>...</th>\n",
       "      <td>...</td>\n",
       "      <td>...</td>\n",
       "      <td>...</td>\n",
       "      <td>...</td>\n",
       "      <td>...</td>\n",
       "      <td>...</td>\n",
       "      <td>...</td>\n",
       "      <td>...</td>\n",
       "      <td>...</td>\n",
       "    </tr>\n",
       "    <tr>\n",
       "      <th>69</th>\n",
       "      <td>0.768187</td>\n",
       "      <td>(0.023317081129214174, 0.7764766906402603)</td>\n",
       "      <td>(0.022685978110389905, 0.7677605247884361)</td>\n",
       "      <td>(0.024985137130742407, 0.7653138009281096)</td>\n",
       "      <td>(0.04239991640069371, 0.7895869027222541)</td>\n",
       "      <td>entropy</td>\n",
       "      <td>20.0</td>\n",
       "      <td>9</td>\n",
       "      <td>150</td>\n",
       "    </tr>\n",
       "    <tr>\n",
       "      <th>70</th>\n",
       "      <td>0.024877</td>\n",
       "      <td>(0.02586631189206833, 0.7781564677949955)</td>\n",
       "      <td>(0.024744815931831775, 0.770608807530619)</td>\n",
       "      <td>(0.025475391460648422, 0.7699947510961341)</td>\n",
       "      <td>(0.045225215563315824, 0.7881353512278698)</td>\n",
       "      <td>entropy</td>\n",
       "      <td>20.0</td>\n",
       "      <td>9</td>\n",
       "      <td>200</td>\n",
       "    </tr>\n",
       "    <tr>\n",
       "      <th>70</th>\n",
       "      <td>0.770933</td>\n",
       "      <td>(0.02586631189206833, 0.7781564677949955)</td>\n",
       "      <td>(0.024744815931831775, 0.770608807530619)</td>\n",
       "      <td>(0.025475391460648422, 0.7699947510961341)</td>\n",
       "      <td>(0.045225215563315824, 0.7881353512278698)</td>\n",
       "      <td>entropy</td>\n",
       "      <td>20.0</td>\n",
       "      <td>9</td>\n",
       "      <td>200</td>\n",
       "    </tr>\n",
       "    <tr>\n",
       "      <th>71</th>\n",
       "      <td>0.025431</td>\n",
       "      <td>(0.02619305921985566, 0.7780377109984482)</td>\n",
       "      <td>(0.025315477148735055, 0.769808244586995)</td>\n",
       "      <td>(0.026247556247138416, 0.7679177944918746)</td>\n",
       "      <td>(0.04526908644328802, 0.7901056539120503)</td>\n",
       "      <td>entropy</td>\n",
       "      <td>20.0</td>\n",
       "      <td>9</td>\n",
       "      <td>250</td>\n",
       "    </tr>\n",
       "    <tr>\n",
       "      <th>71</th>\n",
       "      <td>0.770182</td>\n",
       "      <td>(0.02619305921985566, 0.7780377109984482)</td>\n",
       "      <td>(0.025315477148735055, 0.769808244586995)</td>\n",
       "      <td>(0.026247556247138416, 0.7679177944918746)</td>\n",
       "      <td>(0.04526908644328802, 0.7901056539120503)</td>\n",
       "      <td>entropy</td>\n",
       "      <td>20.0</td>\n",
       "      <td>9</td>\n",
       "      <td>250</td>\n",
       "    </tr>\n",
       "  </tbody>\n",
       "</table>\n",
       "<p>144 rows × 9 columns</p>\n",
       "</div>"
      ],
      "text/plain": [
       "    accuracy                                          f1  \\\n",
       "0   0.019037    (0.02055767453421768, 0.771593352420024)   \n",
       "0   0.767435    (0.02055767453421768, 0.771593352420024)   \n",
       "1   0.026588  (0.029111481825372796, 0.7729200967371809)   \n",
       "1   0.769433  (0.029111481825372796, 0.7729200967371809)   \n",
       "2   0.022403  (0.023987219150668013, 0.7771537731949142)   \n",
       "..       ...                                         ...   \n",
       "69  0.768187  (0.023317081129214174, 0.7764766906402603)   \n",
       "70  0.024877   (0.02586631189206833, 0.7781564677949955)   \n",
       "70  0.770933   (0.02586631189206833, 0.7781564677949955)   \n",
       "71  0.025431   (0.02619305921985566, 0.7780377109984482)   \n",
       "71  0.770182   (0.02619305921985566, 0.7780377109984482)   \n",
       "\n",
       "                             balanced_accuracy  \\\n",
       "0   (0.018931024174071436, 0.7674154167722538)   \n",
       "0   (0.018931024174071436, 0.7674154167722538)   \n",
       "1   (0.026363610157688983, 0.7694612426093448)   \n",
       "1   (0.026363610157688983, 0.7694612426093448)   \n",
       "2   (0.022255911985938535, 0.7731829890398758)   \n",
       "..                                         ...   \n",
       "69  (0.022685978110389905, 0.7677605247884361)   \n",
       "70   (0.024744815931831775, 0.770608807530619)   \n",
       "70   (0.024744815931831775, 0.770608807530619)   \n",
       "71   (0.025315477148735055, 0.769808244586995)   \n",
       "71   (0.025315477148735055, 0.769808244586995)   \n",
       "\n",
       "                                     precision  \\\n",
       "0   (0.020801227308574356, 0.7742965151939718)   \n",
       "0   (0.020801227308574356, 0.7742965151939718)   \n",
       "1   (0.025199096131887217, 0.7771204668594978)   \n",
       "1   (0.025199096131887217, 0.7771204668594978)   \n",
       "2   (0.023612737787949575, 0.7800645707862591)   \n",
       "..                                         ...   \n",
       "69  (0.024985137130742407, 0.7653138009281096)   \n",
       "70  (0.025475391460648422, 0.7699947510961341)   \n",
       "70  (0.025475391460648422, 0.7699947510961341)   \n",
       "71  (0.026247556247138416, 0.7679177944918746)   \n",
       "71  (0.026247556247138416, 0.7679177944918746)   \n",
       "\n",
       "                                        recall criterion  max_depth  \\\n",
       "0      (0.0355535460385814, 0.769998096325909)      gini        NaN   \n",
       "0      (0.0355535460385814, 0.769998096325909)      gini        NaN   \n",
       "1   (0.045050129362642265, 0.7700028555111363)      gini        NaN   \n",
       "1   (0.045050129362642265, 0.7700028555111363)      gini        NaN   \n",
       "2    (0.03868775715638341, 0.7753950123738815)      gini        NaN   \n",
       "..                                         ...       ...        ...   \n",
       "69   (0.04239991640069371, 0.7895869027222541)   entropy       20.0   \n",
       "70  (0.045225215563315824, 0.7881353512278698)   entropy       20.0   \n",
       "70  (0.045225215563315824, 0.7881353512278698)   entropy       20.0   \n",
       "71   (0.04526908644328802, 0.7901056539120503)   entropy       20.0   \n",
       "71   (0.04526908644328802, 0.7901056539120503)   entropy       20.0   \n",
       "\n",
       "    max_features  n_estimators  \n",
       "0              5           150  \n",
       "0              5           150  \n",
       "1              5           200  \n",
       "1              5           200  \n",
       "2              5           250  \n",
       "..           ...           ...  \n",
       "69             9           150  \n",
       "70             9           200  \n",
       "70             9           200  \n",
       "71             9           250  \n",
       "71             9           250  \n",
       "\n",
       "[144 rows x 9 columns]"
      ]
     },
     "execution_count": 130,
     "metadata": {},
     "output_type": "execute_result"
    }
   ],
   "source": [
    "df_exploded = resultados.explode('accuracy')\n",
    "df_exploded "
   ]
  }
 ],
 "metadata": {
  "colab": {
   "authorship_tag": "ABX9TyPGmZDoc8KrT9747nWmXz6N",
   "name": "",
   "version": ""
  },
  "kernelspec": {
   "display_name": "Python 3 (ipykernel)",
   "language": "python",
   "name": "python3"
  },
  "language_info": {
   "codemirror_mode": {
    "name": "ipython",
    "version": 3
   },
   "file_extension": ".py",
   "mimetype": "text/x-python",
   "name": "python",
   "nbconvert_exporter": "python",
   "pygments_lexer": "ipython3",
   "version": "3.11.7"
  }
 },
 "nbformat": 4,
 "nbformat_minor": 4
}
