{
 "cells": [
  {
   "cell_type": "code",
   "execution_count": 1,
   "metadata": {},
   "outputs": [],
   "source": [
    "from funciones import *\n",
    "from utils import *"
   ]
  },
  {
   "cell_type": "code",
   "execution_count": 2,
   "metadata": {},
   "outputs": [
    {
     "data": {
      "text/plain": [
       "'Be prepared to pump it up. Works great! Son loves the color and thinks he has the best ball on the team'"
      ]
     },
     "execution_count": 2,
     "metadata": {},
     "output_type": "execute_result"
    }
   ],
   "source": [
    "\"Be prepared to pump it up. Works great! Son loves the color and thinks he has the best ball on the team\"\n"
   ]
  },
  {
   "cell_type": "code",
   "execution_count": 3,
   "metadata": {},
   "outputs": [],
   "source": [
    "vectorizer = load_vectorizer()"
   ]
  },
  {
   "cell_type": "code",
   "execution_count": 4,
   "metadata": {},
   "outputs": [],
   "source": [
    "with open(\"Modelo_Final_Clasificacion.pkl\", 'rb') as file:\n",
    "        modelo = pickle.load(file) "
   ]
  },
  {
   "cell_type": "code",
   "execution_count": 5,
   "metadata": {},
   "outputs": [
    {
     "name": "stdout",
     "output_type": "stream",
     "text": [
      "Be prepared to pump it up. Works great! Son loves the color and thinks he has the best ball on the team\n",
      " be prepar to pump it up work great son love the color and think he has the best ball on the team\n",
      "  (0, 612)\t0.4854666208854177\n",
      "  (0, 611)\t0.2584008246452286\n",
      "  (0, 546)\t0.2970686891501632\n",
      "  (0, 505)\t0.43466183012198817\n",
      "  (0, 323)\t0.2653117666967371\n",
      "  (0, 233)\t0.24089644862944798\n",
      "  (0, 98)\t0.4395080697554143\n",
      "  (0, 54)\t0.3142955381487512\n",
      "[2]\n"
     ]
    }
   ],
   "source": [
    "val = input(\"Reseña\")\n",
    "print(val)\n",
    "val = process(val)\n",
    "print(val)\n",
    "val = vectorizer.transform([val])\n",
    "print(val)\n",
    "val = modelo.predict(val)\n",
    "print(val)"
   ]
  }
 ],
 "metadata": {
  "kernelspec": {
   "display_name": "base",
   "language": "python",
   "name": "python3"
  },
  "language_info": {
   "codemirror_mode": {
    "name": "ipython",
    "version": 3
   },
   "file_extension": ".py",
   "mimetype": "text/x-python",
   "name": "python",
   "nbconvert_exporter": "python",
   "pygments_lexer": "ipython3",
   "version": "3.11.7"
  }
 },
 "nbformat": 4,
 "nbformat_minor": 2
}
